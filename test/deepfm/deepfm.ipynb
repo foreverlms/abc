{
 "cells": [
  {
   "cell_type": "code",
   "execution_count": 2,
   "id": "1c297e69-3390-40fd-b6f8-6a579f13fbaa",
   "metadata": {},
   "outputs": [],
   "source": [
    "import tensorflow as pb"
   ]
  },
  {
   "cell_type": "code",
   "execution_count": 4,
   "id": "86e25e30-7557-4fa5-a344-cb973b0a77e2",
   "metadata": {},
   "outputs": [],
   "source": [
    "import onnxruntime as rt"
   ]
  },
  {
   "cell_type": "code",
   "execution_count": 5,
   "id": "36b0fdd7-87d9-413a-9b58-8de7f2182ed1",
   "metadata": {},
   "outputs": [],
   "source": [
    "import numpy as np"
   ]
  },
  {
   "cell_type": "code",
   "execution_count": 6,
   "id": "609a8010-1dbc-44a2-826a-bc54b3a8342b",
   "metadata": {},
   "outputs": [],
   "source": [
    "random_input = np.random.rand(1,3,224,224)"
   ]
  },
  {
   "cell_type": "code",
   "execution_count": 9,
   "id": "261ef5b5-fa94-4419-9e93-1d2fee70a481",
   "metadata": {},
   "outputs": [],
   "source": [
    "random_input = random_input.astype(np.float32)"
   ]
  },
  {
   "cell_type": "code",
   "execution_count": 11,
   "id": "e8037f1b-47ae-4549-9d81-0b1dcadac8f7",
   "metadata": {},
   "outputs": [],
   "source": [
    "sess = rt.InferenceSession(\"/Users/bob/code/ByteDance/PNN/resource/models/converter/mobilenetv2-7.onnx\")"
   ]
  },
  {
   "cell_type": "code",
   "execution_count": 17,
   "id": "d58b92bf-c7f2-47cb-88f6-ecf1db36067c",
   "metadata": {},
   "outputs": [],
   "source": [
    "input_name = sess.get_inputs()[0].name"
   ]
  },
  {
   "cell_type": "code",
   "execution_count": 18,
   "id": "be97750f-a5d1-4480-9fbe-0753f5da7b9a",
   "metadata": {},
   "outputs": [
    {
     "data": {
      "text/plain": [
       "'input'"
      ]
     },
     "execution_count": 18,
     "metadata": {},
     "output_type": "execute_result"
    }
   ],
   "source": [
    "input_name"
   ]
  },
  {
   "cell_type": "markdown",
   "id": "a3294a98-74a9-459e-8770-2cc0f7248acc",
   "metadata": {},
   "source": [
    "### RUN ONNX"
   ]
  },
  {
   "cell_type": "code",
   "execution_count": 19,
   "id": "1ad8c433-086d-4181-8735-585a9daeefbd",
   "metadata": {},
   "outputs": [],
   "source": [
    "res = sess.run(None, {input_name : random_input})"
   ]
  },
  {
   "cell_type": "code",
   "execution_count": null,
   "id": "0f5c88bc-81a0-43dd-81f3-dca345d39fb5",
   "metadata": {},
   "outputs": [],
   "source": [
    "res"
   ]
  },
  {
   "cell_type": "code",
   "execution_count": 23,
   "id": "f1baa891-a745-4e4e-9c42-09a899c9bb8b",
   "metadata": {},
   "outputs": [],
   "source": [
    "pnn_input = np.transpose(random_input, (0,2,3,1))"
   ]
  },
  {
   "cell_type": "code",
   "execution_count": 27,
   "id": "d66e2a2d-7726-4e0e-9958-f827bb753392",
   "metadata": {},
   "outputs": [],
   "source": [
    "pnn_input.tofile(\"/Users/bob/code/ByteDance/PNN/resource/models/onnx_input.bin\")"
   ]
  },
  {
   "cell_type": "code",
   "execution_count": null,
   "id": "a5124ab9-62fd-4f92-aeba-1314b6b485ac",
   "metadata": {},
   "outputs": [],
   "source": [
    "res"
   ]
  },
  {
   "cell_type": "code",
   "execution_count": 49,
   "id": "bdbf18c7-19ac-4019-8a7b-a0cf3e4f972b",
   "metadata": {},
   "outputs": [],
   "source": [
    "pnn_output = np.transpose(res[0], (1,0))"
   ]
  },
  {
   "cell_type": "code",
   "execution_count": 50,
   "id": "6a4484b4-02ef-4246-a8ae-3794d8aff48e",
   "metadata": {},
   "outputs": [
    {
     "data": {
      "text/plain": [
       "(1, 1000)"
      ]
     },
     "execution_count": 50,
     "metadata": {},
     "output_type": "execute_result"
    }
   ],
   "source": [
    "res[0].shape"
   ]
  },
  {
   "cell_type": "code",
   "execution_count": 34,
   "id": "be09fd79-3de1-4b71-b69a-c0217c96d266",
   "metadata": {},
   "outputs": [],
   "source": [
    "res[0].tofile(\"/Users/bob/code/ByteDance/PNN/tools/converter/test/test_data/onnx/onnx_output.bin\")"
   ]
  },
  {
   "cell_type": "code",
   "execution_count": 35,
   "id": "86b83883-9113-43d2-beec-642653c80037",
   "metadata": {},
   "outputs": [],
   "source": [
    "import torch"
   ]
  },
  {
   "cell_type": "code",
   "execution_count": 41,
   "id": "ed7f883a-868f-4370-b9a7-f53487e485e6",
   "metadata": {},
   "outputs": [],
   "source": [
    "conv = torch.nn.Conv2d(3,32,3,2,1)"
   ]
  },
  {
   "cell_type": "code",
   "execution_count": 42,
   "id": "0a914a5e-719d-4335-adc2-6fe15e376d16",
   "metadata": {},
   "outputs": [
    {
     "data": {
      "text/plain": [
       "torch.Size([1, 32, 112, 112])"
      ]
     },
     "execution_count": 42,
     "metadata": {},
     "output_type": "execute_result"
    }
   ],
   "source": [
    "conv(torch.tensor(random_input)).shape"
   ]
  },
  {
   "cell_type": "code",
   "execution_count": 43,
   "id": "ae02d98a-199f-44dd-b954-7a70ad4c50fa",
   "metadata": {},
   "outputs": [
    {
     "data": {
      "text/plain": [
       "(1, 3, 224, 224)"
      ]
     },
     "execution_count": 43,
     "metadata": {},
     "output_type": "execute_result"
    }
   ],
   "source": [
    "random_input.shape"
   ]
  },
  {
   "cell_type": "markdown",
   "id": "e58e5053-9721-4f4e-a232-927bcc719302",
   "metadata": {},
   "source": [
    "### Compare Weight"
   ]
  },
  {
   "cell_type": "code",
   "execution_count": 64,
   "id": "a20633e5-e483-425f-893e-17c3720e87d3",
   "metadata": {},
   "outputs": [],
   "source": [
    "import onnx\n",
    "from onnx import numpy_helper"
   ]
  },
  {
   "cell_type": "code",
   "execution_count": 65,
   "id": "837bfce3-ac95-4665-8789-223f44998dbf",
   "metadata": {},
   "outputs": [],
   "source": [
    "m = onnx.load(\"/Users/bob/code/ByteDance/PNN/resource/models/converter/mobilenetv2-7.onnx\")"
   ]
  },
  {
   "cell_type": "code",
   "execution_count": 66,
   "id": "7064fae2-b290-4c7e-b691-9b9492421fa1",
   "metadata": {},
   "outputs": [],
   "source": [
    "INTIALIZERS = m.graph.initializer"
   ]
  },
  {
   "cell_type": "code",
   "execution_count": 67,
   "id": "9f729aed-8575-4547-8759-7fa115007ad0",
   "metadata": {},
   "outputs": [],
   "source": [
    "onnx_weights = {}\n",
    "for initializer in INTIALIZERS:\n",
    "    W = numpy_helper.to_array(initializer)\n",
    "    onnx_weights[initializer.name] = W"
   ]
  },
  {
   "cell_type": "code",
   "execution_count": 93,
   "id": "23332bd3-e7ff-4b9e-83f1-0d454af21a1d",
   "metadata": {},
   "outputs": [
    {
     "data": {
      "text/plain": [
       "array([ 1.8972903e-03, -6.2180799e-04,  2.1329592e-03,  4.7169146e-03,\n",
       "       -3.6527440e-03,  9.8670297e-04,  1.5179312e-03, -5.3740530e-03,\n",
       "       -2.1191251e-03,  1.1499577e-03, -8.5107912e-04,  2.1692887e-03,\n",
       "        2.8776766e-03, -4.7288486e-03, -3.0014609e-04,  1.6332326e-03,\n",
       "       -4.7421642e-03, -1.1329182e-03, -3.6309685e-03, -2.9019027e-03,\n",
       "       -1.4334710e-03, -1.6134927e-03, -4.2111590e-03, -2.1897089e-03,\n",
       "       -3.8176179e-03, -4.8130783e-03, -3.4843918e-03, -2.7336318e-02,\n",
       "       -9.1415131e-03,  9.1914237e-03,  5.5952542e-02,  1.6294515e-01,\n",
       "        1.8018376e-02, -8.0655001e-02, -1.1983158e-01, -1.6452458e-02,\n",
       "       -2.8886281e-02,  2.2808637e-02,  7.8767102e-04,  1.1442577e-01,\n",
       "        3.2129836e-01,  4.3629289e-02, -1.4437810e-01, -2.6112846e-01,\n",
       "       -3.2973059e-02, -6.7799860e-03, -4.6871006e-03,  1.1295444e-02,\n",
       "        1.8052191e-02,  7.4299596e-02,  6.6330755e-04, -2.6663985e-02,\n",
       "       -6.7156382e-02,  4.4175959e-04, -2.2961097e-02,  2.1333840e-02,\n",
       "       -1.7238748e-03, -8.8421494e-02,  1.6164069e-01, -6.8846509e-02,\n",
       "       -1.4707242e-01,  2.0200792e-01, -6.5493844e-02, -2.6428761e-02,\n",
       "        4.1782491e-02, -9.2295781e-03, -1.8022271e-01,  2.9359275e-01,\n",
       "       -1.1719814e-01, -2.3197718e-01,  3.2340387e-01, -1.0314183e-01,\n",
       "       -4.7853254e-03, -4.7778091e-03,  7.7881529e-03, -4.4176608e-02,\n",
       "        8.2296558e-02, -3.7589137e-02, -6.0765136e-02,  9.4923578e-02,\n",
       "       -3.4647558e-02,  1.1838686e-03, -2.2781909e-02,  4.2882454e-02,\n",
       "        3.1162374e-02,  1.0268711e-01, -1.4651066e-01,  1.0078413e-02,\n",
       "        1.5892243e-01, -1.7292233e-01, -4.9817911e-03, -3.5082385e-02,\n",
       "        4.3616816e-02,  2.4909491e-02,  2.6727805e-01, -3.1810313e-01,\n",
       "        2.6260115e-02,  3.3341980e-01, -3.6266664e-01, -8.9320643e-03],\n",
       "      dtype=float32)"
      ]
     },
     "execution_count": 93,
     "metadata": {},
     "output_type": "execute_result"
    }
   ],
   "source": [
    "onnx_weights['475'].flatten()[:100]"
   ]
  },
  {
   "cell_type": "code",
   "execution_count": 99,
   "id": "25e13e3a-f56e-4c99-b7e0-ac38c5c6bbdf",
   "metadata": {},
   "outputs": [
    {
     "data": {
      "text/plain": [
       "array([ 1.89729035e-03,  1.14995765e-03, -3.63096851e-03, -6.21807994e-04,\n",
       "       -8.51079123e-04, -2.90190266e-03,  2.13295920e-03,  2.16928869e-03,\n",
       "       -1.43347098e-03,  4.71691461e-03,  2.87767663e-03, -1.61349273e-03,\n",
       "       -3.65274400e-03, -4.72884858e-03, -4.21115896e-03,  9.86702973e-04,\n",
       "       -3.00146086e-04, -2.18970887e-03,  1.51793123e-03,  1.63323258e-03,\n",
       "       -3.81761789e-03, -5.37405303e-03, -4.74216416e-03, -4.81307833e-03,\n",
       "       -2.11912510e-03, -1.13291817e-03, -3.48439184e-03, -2.73363180e-02,\n",
       "       -2.88862810e-02, -6.77998597e-03, -9.14151315e-03,  2.28086375e-02,\n",
       "       -4.68710065e-03,  9.19142365e-03,  7.87671015e-04,  1.12954443e-02,\n",
       "        5.59525415e-02,  1.14425771e-01,  1.80521905e-02,  1.62945151e-01,\n",
       "        3.21298361e-01,  7.42995963e-02,  1.80183761e-02,  4.36292887e-02,\n",
       "        6.63307554e-04, -8.06550011e-02, -1.44378096e-01, -2.66639851e-02,\n",
       "       -1.19831577e-01, -2.61128455e-01, -6.71563819e-02, -1.64524578e-02,\n",
       "       -3.29730585e-02,  4.41759592e-04, -2.29610968e-02, -2.64287610e-02,\n",
       "       -4.78532538e-03,  2.13338397e-02,  4.17824909e-02, -4.77780914e-03,\n",
       "       -1.72387483e-03, -9.22957808e-03,  7.78815290e-03, -8.84214938e-02,\n",
       "       -1.80222705e-01, -4.41766083e-02,  1.61640689e-01,  2.93592751e-01,\n",
       "        8.22965577e-02, -6.88465089e-02, -1.17198139e-01, -3.75891365e-02,\n",
       "       -1.47072420e-01, -2.31977180e-01, -6.07651360e-02,  2.02007920e-01,\n",
       "        3.23403865e-01,  9.49235782e-02, -6.54938444e-02, -1.03141829e-01,\n",
       "       -3.46475579e-02,  1.18386862e-03, -4.98179113e-03, -8.93206429e-03,\n",
       "       -2.27819085e-02, -3.50823849e-02, -1.49353985e-02,  4.28824537e-02,\n",
       "        4.36168164e-02,  1.30946906e-02,  3.11623737e-02,  2.49094907e-02,\n",
       "        2.21516807e-02,  1.02687113e-01,  2.67278045e-01,  4.41908985e-02,\n",
       "       -1.46510661e-01, -3.18103135e-01, -3.55122946e-02,  1.00784134e-02],\n",
       "      dtype=float32)"
      ]
     },
     "execution_count": 99,
     "metadata": {},
     "output_type": "execute_result"
    }
   ],
   "source": [
    "np.transpose(onnx_weights['475'],(0,2,3,1)).flatten()[:100]"
   ]
  },
  {
   "cell_type": "code",
   "execution_count": 76,
   "id": "3af5dce8-02c0-4248-8407-53d041c22bf6",
   "metadata": {},
   "outputs": [
    {
     "data": {
      "text/plain": [
       "array([[[-0.08438151, -0.08606348, -0.08446034],\n",
       "        [-0.08552954, -0.0887817 , -0.08574593],\n",
       "        [-0.08553703, -0.08831108, -0.08750756]],\n",
       "\n",
       "       [[-0.08525221, -0.08611091, -0.08575991],\n",
       "        [-0.08334363, -0.0880964 , -0.08599799],\n",
       "        [-0.08572925, -0.0883361 , -0.08642525]],\n",
       "\n",
       "       [[-0.08720399, -0.0879343 , -0.08672588],\n",
       "        [-0.08606537, -0.08625247, -0.08712777],\n",
       "        [-0.08693956, -0.08886247, -0.08880404]]], dtype=float32)"
      ]
     },
     "execution_count": 76,
     "metadata": {},
     "output_type": "execute_result"
    }
   ],
   "source": [
    "onnx_weights['475'][0,:,:,:] * random_input[0,:,0:3,0:3] + onnx_weights['476'][0]"
   ]
  },
  {
   "cell_type": "code",
   "execution_count": 81,
   "id": "f17afd91-a231-4be7-acff-b8bd8e6fc3eb",
   "metadata": {},
   "outputs": [
    {
     "data": {
      "text/plain": [
       "-0.101355925"
      ]
     },
     "execution_count": 81,
     "metadata": {},
     "output_type": "execute_result"
    }
   ],
   "source": [
    "(onnx_weights['475'][0,:,:,:] * random_input[0,:,0:3,0:3]).sum()+ onnx_weights['476'][0]"
   ]
  },
  {
   "cell_type": "markdown",
   "id": "f21a2a1c-2e76-43c2-a616-b65291ad7a24",
   "metadata": {},
   "source": [
    "#### depthwise卷积477"
   ]
  },
  {
   "cell_type": "code",
   "execution_count": 97,
   "id": "cabb228c-e46a-49c0-ad22-f8965f5d8afd",
   "metadata": {},
   "outputs": [
    {
     "data": {
      "text/plain": [
       "array([-1.05721653e-02,  6.78157210e-02, -7.16115907e-02,  1.80039734e-01,\n",
       "       -1.75979491e-02,  7.50672936e-01,  2.39875332e-01, -2.36762576e-02,\n",
       "       -5.02474867e-02,  5.64223016e-03, -2.92116124e-03,  2.80231982e-01,\n",
       "        8.27982649e-02, -1.21604361e-01, -1.89991342e-03, -4.95574577e-03,\n",
       "       -4.36248165e-03,  2.36865436e-03,  4.73081231e-01, -3.51491183e-01,\n",
       "       -2.11996526e-01, -4.76436270e-03, -8.77841413e-02, -5.17852418e-03,\n",
       "        1.68323591e-01,  2.84582406e-01,  7.24008605e-02,  3.79971862e-02,\n",
       "        3.76426764e-02,  8.98576975e-02,  2.95643419e-01,  1.94637969e-01,\n",
       "        2.39149798e-02,  2.37236936e-02, -7.98205793e-01, -1.34331435e-01,\n",
       "        1.39313534e-01, -2.16891170e-02, -8.12713802e-02,  1.19389869e-01,\n",
       "        1.50937065e-01, -1.84907389e-04,  1.94397420e-01, -4.72135991e-02,\n",
       "       -1.70496613e-01,  2.85360098e-01,  1.41558400e-03,  2.22358643e-03,\n",
       "        4.89142025e-03, -2.73317588e-03,  1.82510644e-01,  5.85021436e-01,\n",
       "        2.99954891e-01, -3.29017639e-02, -1.48930877e-01,  3.64069099e-04,\n",
       "       -1.81210563e-01,  1.28647685e-01, -2.88978189e-01,  4.44961578e-01,\n",
       "       -1.87484503e-01, -5.23704141e-02,  3.34451109e-01, -1.34194672e-01,\n",
       "       -1.62738636e-02,  8.17614913e-01,  1.57752723e-01,  5.96869409e-01,\n",
       "       -3.62307340e-01, -3.09737861e-01, -4.06384796e-01,  9.82452482e-02,\n",
       "       -2.41333157e-01, -1.69607461e-03, -5.02188280e-02,  4.75892633e-01,\n",
       "        1.19667448e-01, -5.38862608e-02,  5.20027801e-03,  8.06015357e-03,\n",
       "        1.27725331e-02,  5.84788341e-03,  8.86821449e-02,  7.27919340e-02,\n",
       "        2.06120238e-02,  7.96298921e-01,  1.11979708e-01, -4.86593664e-04,\n",
       "       -2.17567361e-03, -4.84641165e-01, -6.27377257e-02,  7.00479269e-01,\n",
       "        1.13461815e-01,  2.36726254e-02, -1.89001366e-01, -1.66732818e-03,\n",
       "        3.69222797e-02, -7.73992315e-02, -1.39676392e-01,  1.33254439e-01],\n",
       "      dtype=float32)"
      ]
     },
     "execution_count": 97,
     "metadata": {},
     "output_type": "execute_result"
    }
   ],
   "source": [
    "onnx_weights['481'].flatten()[:100]"
   ]
  },
  {
   "cell_type": "code",
   "execution_count": 96,
   "id": "8007db74-07c9-4f53-808d-a804a3aa1b1f",
   "metadata": {},
   "outputs": [
    {
     "data": {
      "text/plain": [
       "array([-7.40940943e-02,  4.65403050e-02,  1.36745851e-02, -2.69007266e-01,\n",
       "        1.41356874e+00, -1.13077842e-01, -2.20794827e-02, -8.28864396e-01,\n",
       "       -1.66269600e-01, -6.39762590e-03,  3.89419794e-01,  5.09818435e-01,\n",
       "       -3.86324599e-02, -7.71382034e-01, -4.00574587e-04,  2.09500990e-03,\n",
       "       -3.53145301e-02, -7.09671108e-03,  1.56361079e+00,  3.25368881e-01,\n",
       "       -2.15556949e-01,  6.19352572e-02,  1.91454455e-01, -4.84627439e-03,\n",
       "        1.18434548e-01, -3.13234359e-01, -1.09805286e-01,  7.09305406e-02,\n",
       "        1.15237422e-01,  8.42426866e-02,  1.67386398e-01,  8.34350884e-01,\n",
       "       -8.87888074e-02, -1.34104609e-01, -1.19427428e-01, -2.02732980e-01,\n",
       "        4.60554409e+00,  3.81569028e-01,  6.07096732e-01, -4.22798872e-01,\n",
       "        6.31065249e-01, -1.80347031e-03, -4.12419617e-01,  4.32233047e+00,\n",
       "        1.20860562e-01, -2.94338800e-02, -1.02723239e-03, -6.20504841e-03,\n",
       "       -2.69466005e-02,  8.87986564e-04, -6.08361101e+00, -4.45463240e-01,\n",
       "        4.09713164e-02, -1.04630180e-01, -1.35603756e-01, -2.49408442e-03,\n",
       "        8.09439778e-01,  6.06246777e-02, -3.33718419e-01, -3.89073007e-02,\n",
       "        1.98152930e-01, -1.57301456e-01, -3.30943167e-01, -3.45779657e-01,\n",
       "       -7.24426359e-02,  2.18249872e-01, -6.07326269e-01, -2.48155385e-01,\n",
       "        1.06716931e+00, -5.62794387e-01, -6.30781472e-01,  1.32822883e+00,\n",
       "       -5.17096698e-01, -2.02878215e-03, -1.63656497e+00,  2.71908641e+00,\n",
       "       -8.42541531e-02, -1.33772969e+00,  2.59846123e-03, -5.23047009e-03,\n",
       "       -1.99862123e-02,  1.62664410e-02,  1.60957181e+00, -1.24521744e+00,\n",
       "       -8.23658884e-01, -1.01245306e-01, -7.46608436e-01, -7.44062755e-03,\n",
       "        1.03560328e+00,  1.98982909e-01, -3.58401626e-01, -9.40325618e-01,\n",
       "        8.98340821e-01, -3.02377772e-02, -7.51578331e-01, -6.14893973e-01,\n",
       "       -1.49431020e-01, -7.29133235e-03,  2.17945501e-02,  1.84728459e-01],\n",
       "      dtype=float32)"
      ]
     },
     "execution_count": 96,
     "metadata": {},
     "output_type": "execute_result"
    }
   ],
   "source": [
    "np.transpose(onnx_weights['478'],(1,2,3,0)).flatten()[:100]"
   ]
  },
  {
   "cell_type": "markdown",
   "id": "415c7ad8-d145-4868-b918-31d7cd725c10",
   "metadata": {},
   "source": [
    "### Compare Conv via torch"
   ]
  },
  {
   "cell_type": "code",
   "execution_count": 83,
   "id": "1c30e36e-9a59-42dc-a65c-667c35d4fccd",
   "metadata": {},
   "outputs": [],
   "source": [
    "import torch.nn.functional as F"
   ]
  },
  {
   "cell_type": "code",
   "execution_count": 86,
   "id": "5b2a4101-aece-4e9e-a953-57e75c0902b6",
   "metadata": {},
   "outputs": [],
   "source": [
    "a = F.conv2d(torch.tensor(random_input),torch.tensor(onnx_weights['475']),torch.tensor(onnx_weights['476']),2,1)"
   ]
  },
  {
   "cell_type": "code",
   "execution_count": 89,
   "id": "fc8e1f08-a5b4-4f8f-b25b-a3eeceb8910a",
   "metadata": {},
   "outputs": [
    {
     "data": {
      "text/plain": [
       "tensor([-0.1024, -0.0980, -0.1046, -0.1007, -0.0979, -0.0966, -0.0932, -0.0989,\n",
       "        -0.1028, -0.0976])"
      ]
     },
     "execution_count": 89,
     "metadata": {},
     "output_type": "execute_result"
    }
   ],
   "source": [
    "a.flatten()[:10]"
   ]
  },
  {
   "cell_type": "markdown",
   "id": "05e4844f-a0a9-4d79-969b-90224c728198",
   "metadata": {},
   "source": [
    "### DeepFM test"
   ]
  },
  {
   "cell_type": "code",
   "execution_count": 106,
   "id": "fa21bcff-f432-4207-9f1d-8a10ae0826fd",
   "metadata": {},
   "outputs": [],
   "source": [
    "d_sess = sess = rt.InferenceSession(\"/Users/bob/code/ByteDance/PNN/resource/models/converter/deepfm.onnx\")"
   ]
  },
  {
   "cell_type": "code",
   "execution_count": 108,
   "id": "3b571447-9072-439e-bbdf-071430a8fe81",
   "metadata": {},
   "outputs": [],
   "source": [
    "rtt1 = np.array((4.0,),dtype=np.float32)\n",
    "rtt2 = np.array((9.0,),dtype=np.float32)\n",
    "rtt3 = np.array((2.0,),dtype=np.float32)\n",
    "rtt4 = np.array((3.0,),dtype=np.float32)\n",
    "rtt5 = np.array((7.0,),dtype=np.float32)"
   ]
  },
  {
   "cell_type": "code",
   "execution_count": 126,
   "id": "2d012ca2-58da-4c26-9ec2-1fe6b6b6e268",
   "metadata": {},
   "outputs": [],
   "source": [
    "timeGap1 = np.array((3,),dtype=np.float32)\n",
    "timeGap2 = np.array((5,),dtype=np.float32)\n",
    "timeGap3 = np.array((7,),dtype=np.float32)\n",
    "timeGap4 = np.array((4,),dtype=np.float32)\n",
    "timeGap5 = np.array((7,),dtype=np.float32)"
   ]
  },
  {
   "cell_type": "code",
   "execution_count": 127,
   "id": "6dd33a4c-05c1-4572-91e2-5bcfa570747a",
   "metadata": {},
   "outputs": [],
   "source": [
    "net = np.array((1,),dtype=np.int32)"
   ]
  },
  {
   "cell_type": "code",
   "execution_count": 128,
   "id": "372b2eca-eb28-4bcc-b39e-f99e1265011c",
   "metadata": {},
   "outputs": [],
   "source": [
    "so = np.array((1,),dtype=np.int32)"
   ]
  },
  {
   "cell_type": "code",
   "execution_count": 129,
   "id": "cbcae8ca-3f69-4b69-9594-7e15ea04656b",
   "metadata": {},
   "outputs": [],
   "source": [
    "retry = np.array((1,),dtype=np.int32)"
   ]
  },
  {
   "cell_type": "code",
   "execution_count": 130,
   "id": "1ff1aeff-2529-4eae-9384-992eec26425d",
   "metadata": {},
   "outputs": [],
   "source": [
    "nc = np.array((1,),dtype=np.int32)"
   ]
  },
  {
   "cell_type": "code",
   "execution_count": 131,
   "id": "f70121b9-7593-47b1-b710-62560d110a40",
   "metadata": {},
   "outputs": [],
   "source": [
    "i_m = {\"rtt1\" : rtt1,\n",
    "      \"rtt2\" : rtt2,\n",
    "                                           \"rtt3\" : rtt3,           \"rtt4\" : rtt4,\n",
    "                                           \"rtt5\" : rtt5,           \"time_gap_1\" : timeGap1,\n",
    "                                           \"time_gap_2\" : timeGap2,     \"time_gap_3\" : timeGap3,\n",
    "                                           \"time_gap_4\" : timeGap4,     \"time_gap_5\" : timeGap5,\n",
    "                                           \"network_type\" : net,   \"socket_reused\" : so,\n",
    "                                           \"retry_attempts\" : retry, \"networktype_changed\" : nc}           "
   ]
  },
  {
   "cell_type": "code",
   "execution_count": 132,
   "id": "e833cdcd-3292-4aa9-ad65-15675c9a7bb1",
   "metadata": {},
   "outputs": [],
   "source": [
    "d_res = sess.run(None, i_m)"
   ]
  },
  {
   "cell_type": "code",
   "execution_count": 133,
   "id": "34a2bf8d-279a-43b3-aae3-6ef12e826aa2",
   "metadata": {},
   "outputs": [
    {
     "data": {
      "text/plain": [
       "[array([[0.03631085, 0.51652163, 0.44716746]], dtype=float32),\n",
       " array([1], dtype=int64)]"
      ]
     },
     "execution_count": 133,
     "metadata": {},
     "output_type": "execute_result"
    }
   ],
   "source": [
    "d_res"
   ]
  },
  {
   "cell_type": "code",
   "execution_count": 2,
   "id": "4568d7da-8e72-41cc-ae71-410d324e605b",
   "metadata": {},
   "outputs": [],
   "source": [
    "import tensorflow as tf"
   ]
  },
  {
   "cell_type": "code",
   "execution_count": 26,
   "id": "7d354feb-12fa-4007-8b9e-b47e5da41e05",
   "metadata": {},
   "outputs": [],
   "source": [
    "a = tf.constant([[[[2,3,4],[2,3,5]]]])"
   ]
  },
  {
   "cell_type": "code",
   "execution_count": 27,
   "id": "9fb37d0d-f77b-43ac-972f-e8bdc58e9cca",
   "metadata": {},
   "outputs": [
    {
     "data": {
      "text/plain": [
       "<tf.Tensor: shape=(1, 1, 2, 3), dtype=int32, numpy=\n",
       "array([[[[2, 3, 4],\n",
       "         [2, 3, 5]]]], dtype=int32)>"
      ]
     },
     "execution_count": 27,
     "metadata": {},
     "output_type": "execute_result"
    }
   ],
   "source": [
    "a"
   ]
  },
  {
   "cell_type": "code",
   "execution_count": 28,
   "id": "5191283a-6072-4442-9f79-517e9ef8e2db",
   "metadata": {},
   "outputs": [
    {
     "data": {
      "text/plain": [
       "<tf.Tensor: shape=(2, 3), dtype=int32, numpy=\n",
       "array([[2, 3, 4],\n",
       "       [2, 3, 5]], dtype=int32)>"
      ]
     },
     "execution_count": 28,
     "metadata": {},
     "output_type": "execute_result"
    }
   ],
   "source": [
    "tf.strided_slice(a,[0,0,0,0],[2,1,2,3],shrink_axis_mask=3)"
   ]
  },
  {
   "cell_type": "code",
   "execution_count": 31,
   "id": "e41b9b85-1ad4-4ee5-a719-9859a8acd8d9",
   "metadata": {},
   "outputs": [
    {
     "data": {
      "text/plain": [
       "array([2, 3, 4, 2, 3, 5], dtype=int32)"
      ]
     },
     "execution_count": 31,
     "metadata": {},
     "output_type": "execute_result"
    }
   ],
   "source": [
    "a.numpy().flatten()"
   ]
  },
  {
   "cell_type": "code",
   "execution_count": 32,
   "id": "0f6e3eed-8ab2-4c5e-9892-d4093a0531c7",
   "metadata": {},
   "outputs": [],
   "source": [
    "import numpy as np"
   ]
  },
  {
   "cell_type": "code",
   "execution_count": 33,
   "id": "7bcd2932-dfa5-4afc-b0da-cdaa851fbbb8",
   "metadata": {},
   "outputs": [
    {
     "data": {
      "text/plain": [
       "array([1.66843674e-04, 9.45458847e-11, 2.05066898e-04, ...,\n",
       "       8.12022512e-06, 1.89962498e-12, 1.93948643e-08])"
      ]
     },
     "execution_count": 33,
     "metadata": {},
     "output_type": "execute_result"
    }
   ],
   "source": [
    "np.fromfile(\"/Users/bob/code/ByteDance/PNN/tools/converter/test/test_data/onnx/mobilenetv2/onnx_random_input.bin\",dtype=float)"
   ]
  },
  {
   "cell_type": "code",
   "execution_count": 36,
   "id": "0e20adee-232e-4cd8-ad1a-7853de18f522",
   "metadata": {},
   "outputs": [],
   "source": [
    "a = tf.constant(3, shape=(2,6,6,3))"
   ]
  },
  {
   "cell_type": "code",
   "execution_count": 48,
   "id": "e7eda804-636e-4d01-88ce-9b6547c3cc94",
   "metadata": {},
   "outputs": [],
   "source": [
    "b = tf.random.uniform((2,4,4,3),1, 4,dtype=tf.float32)"
   ]
  },
  {
   "cell_type": "code",
   "execution_count": 54,
   "id": "1c60f3aa-d2a9-45b2-8376-a0fe85caac43",
   "metadata": {},
   "outputs": [
    {
     "data": {
      "text/plain": [
       "array([2.3321366, 2.6642637, 2.333531 , 2.2139106, 2.338769 , 2.6055315],\n",
       "      dtype=float32)"
      ]
     },
     "execution_count": 54,
     "metadata": {},
     "output_type": "execute_result"
    }
   ],
   "source": [
    "tf.reduce_mean(b, axis = (1,2)).numpy().flatten()"
   ]
  },
  {
   "cell_type": "code",
   "execution_count": 51,
   "id": "7e89ef75-6526-4978-81fe-06d304024297",
   "metadata": {},
   "outputs": [
    {
     "data": {
      "text/plain": [
       "<tf.Tensor: shape=(2, 1, 1, 3), dtype=float32, numpy=\n",
       "array([[[[2.3321366, 2.6642637, 2.333531 ]]],\n",
       "\n",
       "\n",
       "       [[[2.2139106, 2.338769 , 2.6055315]]]], dtype=float32)>"
      ]
     },
     "execution_count": 51,
     "metadata": {},
     "output_type": "execute_result"
    }
   ],
   "source": [
    "tf.nn.avg_pool2d(\n",
    "    b, (4,4), (1,1), \"VALID\", data_format='NHWC', name=None\n",
    ")"
   ]
  },
  {
   "cell_type": "code",
   "execution_count": 53,
   "id": "ec41442a-2426-4962-ab30-a05ae949bb3f",
   "metadata": {},
   "outputs": [
    {
     "data": {
      "text/plain": [
       "array([2.9118795, 3.7052922, 2.3717666, 2.890676 , 1.6145109, 2.9519415,\n",
       "       1.3341585, 3.9860868, 2.2446895, 3.4455233, 2.7552786, 2.2876463,\n",
       "       1.9189845, 1.6047716, 1.0437633, 2.1045804, 3.7074776, 2.4548407,\n",
       "       1.0726353, 1.1634903, 2.2933633, 2.252412 , 1.67491  , 1.986774 ,\n",
       "       1.5706961, 2.1940758, 3.7276957, 1.6122811, 2.301124 , 1.4659183,\n",
       "       1.5948964, 3.017662 , 2.6338673, 2.8894773, 3.0096087, 1.0713546,\n",
       "       2.501935 , 3.1185067, 2.7091215, 2.0054429, 3.528976 , 1.8321829,\n",
       "       3.568843 , 2.692162 , 3.4607415, 3.6397624, 2.554286 , 2.8008275,\n",
       "       2.5199256, 3.3145719, 3.8702087, 2.1613386, 3.4517035, 1.7315804,\n",
       "       2.0326738, 2.0788436, 3.9043756, 1.7780523, 2.4048076, 2.0468464,\n",
       "       2.8917491, 1.7999939, 2.4324276, 1.8506043, 2.3300376, 3.9369717,\n",
       "       2.3207133, 1.1431438, 2.0508432, 1.3073529, 2.4114628, 1.841557 ,\n",
       "       3.9494724, 3.2580204, 2.116208 , 1.6970686, 1.2973379, 2.7349024,\n",
       "       1.0710549, 3.694911 , 3.3717117, 3.6750503, 2.5408726, 2.6410666,\n",
       "       2.2944298, 2.465035 , 3.318057 , 2.0877767, 2.6344967, 2.6251035,\n",
       "       1.7013522, 1.2451439, 1.5828011, 2.0839558, 1.3499188, 1.483844 ],\n",
       "      dtype=float32)"
      ]
     },
     "execution_count": 53,
     "metadata": {},
     "output_type": "execute_result"
    }
   ],
   "source": [
    "b.numpy().flatten()"
   ]
  },
  {
   "cell_type": "code",
   "execution_count": 60,
   "id": "6ac1072d-dec1-4680-9c7c-9ab36b7b725b",
   "metadata": {},
   "outputs": [],
   "source": [
    "r = tf.random.uniform((2,4,4,3),-2, 10,dtype=tf.float32)"
   ]
  },
  {
   "cell_type": "code",
   "execution_count": 61,
   "id": "c1568cac-6575-459a-8d26-7eac12e9a98e",
   "metadata": {},
   "outputs": [
    {
     "data": {
      "text/plain": [
       "array([ 3.7342796 ,  3.793015  ,  6.7969103 ,  5.140199  , -0.741559  ,\n",
       "        8.965725  ,  4.113853  ,  6.69298   ,  0.8675132 ,  4.0174837 ,\n",
       "        1.221642  ,  1.352076  ,  9.549547  ,  2.4564223 ,  6.057291  ,\n",
       "        5.471656  ,  1.4963846 ,  5.005867  ,  2.6941233 ,  1.1625762 ,\n",
       "        5.262801  ,  2.3044677 , -0.6934724 ,  1.0247207 ,  3.6226711 ,\n",
       "       -1.6463418 , -0.5841427 ,  3.488874  , -0.0894146 ,  2.950873  ,\n",
       "        3.3546448 ,  0.25870323,  7.313571  ,  5.002265  ,  7.0031357 ,\n",
       "        7.495699  ,  0.1534605 , -0.37036848,  2.6488833 ,  3.886014  ,\n",
       "        3.6057453 ,  3.4239302 , -1.1137309 ,  1.4478288 ,  8.095963  ,\n",
       "        8.86252   ,  4.031178  , -0.9866142 ,  0.20055723,  3.8126774 ,\n",
       "        4.8622136 ,  4.0365353 , -1.3078985 ,  8.915903  , -1.1861677 ,\n",
       "        3.7889724 ,  9.6263485 ,  8.395141  ,  5.8198724 ,  1.9176502 ,\n",
       "       -0.87991095,  9.989952  , -0.69885254,  3.3308868 , -1.9977984 ,\n",
       "        9.642432  ,  9.863695  ,  3.0424356 ,  5.390935  ,  8.552469  ,\n",
       "        2.445207  ,  2.7478762 ,  9.354412  ,  2.1133027 , -0.08554077,\n",
       "        2.4813719 ,  0.1542201 ,  9.321454  ,  7.987116  ,  6.4339657 ,\n",
       "        7.082033  ,  4.0113626 ,  3.2956376 ,  4.0617795 , -0.28032637,\n",
       "        3.161922  ,  8.744774  ,  0.4754715 ,  9.020046  ,  1.8877182 ,\n",
       "        4.8256254 , -1.9664216 ,  1.0575624 ,  4.6750784 ,  7.119234  ,\n",
       "        6.391177  ], dtype=float32)"
      ]
     },
     "execution_count": 61,
     "metadata": {},
     "output_type": "execute_result"
    }
   ],
   "source": [
    "r.numpy().flatten()"
   ]
  },
  {
   "cell_type": "code",
   "execution_count": 64,
   "id": "b4734a82-ae75-4016-8e3d-da6a70f3f5ef",
   "metadata": {},
   "outputs": [
    {
     "data": {
      "text/plain": [
       "array([3.7342796 , 3.793015  , 6.        , 5.140199  , 0.        ,\n",
       "       6.        , 4.113853  , 6.        , 0.8675132 , 4.0174837 ,\n",
       "       1.221642  , 1.352076  , 6.        , 2.4564223 , 6.        ,\n",
       "       5.471656  , 1.4963846 , 5.005867  , 2.6941233 , 1.1625762 ,\n",
       "       5.262801  , 2.3044677 , 0.        , 1.0247207 , 3.6226711 ,\n",
       "       0.        , 0.        , 3.488874  , 0.        , 2.950873  ,\n",
       "       3.3546448 , 0.25870323, 6.        , 5.002265  , 6.        ,\n",
       "       6.        , 0.1534605 , 0.        , 2.6488833 , 3.886014  ,\n",
       "       3.6057453 , 3.4239302 , 0.        , 1.4478288 , 6.        ,\n",
       "       6.        , 4.031178  , 0.        , 0.20055723, 3.8126774 ,\n",
       "       4.8622136 , 4.0365353 , 0.        , 6.        , 0.        ,\n",
       "       3.7889724 , 6.        , 6.        , 5.8198724 , 1.9176502 ,\n",
       "       0.        , 6.        , 0.        , 3.3308868 , 0.        ,\n",
       "       6.        , 6.        , 3.0424356 , 5.390935  , 6.        ,\n",
       "       2.445207  , 2.7478762 , 6.        , 2.1133027 , 0.        ,\n",
       "       2.4813719 , 0.1542201 , 6.        , 6.        , 6.        ,\n",
       "       6.        , 4.0113626 , 3.2956376 , 4.0617795 , 0.        ,\n",
       "       3.161922  , 6.        , 0.4754715 , 6.        , 1.8877182 ,\n",
       "       4.8256254 , 0.        , 1.0575624 , 4.6750784 , 6.        ,\n",
       "       6.        ], dtype=float32)"
      ]
     },
     "execution_count": 64,
     "metadata": {},
     "output_type": "execute_result"
    }
   ],
   "source": [
    "tf.nn.relu6(r).numpy().flatten()"
   ]
  },
  {
   "cell_type": "code",
   "execution_count": null,
   "id": "4b7862f0-5389-4a21-9a1f-181701129f19",
   "metadata": {},
   "outputs": [],
   "source": []
  }
 ],
 "metadata": {
  "kernelspec": {
   "display_name": "Python 3 (ipykernel)",
   "language": "python",
   "name": "python3"
  },
  "language_info": {
   "codemirror_mode": {
    "name": "ipython",
    "version": 3
   },
   "file_extension": ".py",
   "mimetype": "text/x-python",
   "name": "python",
   "nbconvert_exporter": "python",
   "pygments_lexer": "ipython3",
   "version": "3.8.12"
  }
 },
 "nbformat": 4,
 "nbformat_minor": 5
}
