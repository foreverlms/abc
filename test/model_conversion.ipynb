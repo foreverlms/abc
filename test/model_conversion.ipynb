{
 "cells": [
  {
   "cell_type": "markdown",
   "id": "dd4e631d-3dc8-4fe9-9f11-5908191d5862",
   "metadata": {},
   "source": [
    "## Model's conversion"
   ]
  },
  {
   "cell_type": "markdown",
   "id": "e9fce072-3250-464f-923b-f50d83187736",
   "metadata": {},
   "source": [
    "### Torch2ONNX Demo"
   ]
  },
  {
   "cell_type": "code",
   "execution_count": 2,
   "id": "fcf9890e-238a-4a03-a336-05ffb7d44ec3",
   "metadata": {},
   "outputs": [],
   "source": [
    "import torch\n",
    "import torch.nn as nn\n",
    "import torch.nn.functional as F"
   ]
  },
  {
   "cell_type": "code",
   "execution_count": 3,
   "id": "1b558868-0535-4581-aebb-4122c57ae661",
   "metadata": {},
   "outputs": [],
   "source": [
    "class Test3DConv(nn.Module):\n",
    "    def __init__(self):\n",
    "        super().__init__()\n",
    "        self.conv_3d = nn.Sequential(\n",
    "            nn.Conv3d(32, 32, 3, 1, 1),\n",
    "            nn.BatchNorm3d(32),\n",
    "            nn.ReLU(),\n",
    "            nn.Conv3d(32, 32, 3, 1, 1),\n",
    "            nn.BatchNorm3d(32),\n",
    "            nn.ReLU(),\n",
    "            nn.Conv3d(32, 1, 3, 1, 1),\n",
    "        )\n",
    "        self.conv_2d = nn.Sequential(\n",
    "            nn.Conv2d(24, 16, 3, 1, 1),\n",
    "            nn.BatchNorm2d(16),\n",
    "            nn.ReLU(),\n",
    "            nn.Conv2d(16, 16, 3, 1, 1),\n",
    "            nn.BatchNorm2d(16),\n",
    "            nn.ReLU(),\n",
    "        )\n",
    "\n",
    "    def forward(self, feature_3d):\n",
    "        x = self.conv_3d(feature_3d)\n",
    "        x = F.softmax(x.squeeze(1), dim=1)\n",
    "        x = self.conv_2d(x)\n",
    "        return x"
   ]
  },
  {
   "cell_type": "code",
   "execution_count": 4,
   "id": "44a4e78c-4d5c-4d9a-b223-8f212dd1aab4",
   "metadata": {},
   "outputs": [],
   "source": [
    "model = Test3DConv().eval()\n",
    "data = torch.rand(1, 32, 24, 68, 120)"
   ]
  },
  {
   "cell_type": "code",
   "execution_count": null,
   "id": "ca3b41f5-3a54-4f40-ae16-80e202ccae9d",
   "metadata": {},
   "outputs": [],
   "source": [
    "torch.onnx.export(\n",
    "    model,\n",
    "    (data,),\n",
    "    \"test_case_3dconv.onnx\",\n",
    "    verbose=True,\n",
    "    input_names=[\"3d_feature\"], # specify inputs\n",
    "    output_names=[\"2d_feature\"], # specify outputs\n",
    "    opset_version=9 # specify op set version\n",
    "    )"
   ]
  },
  {
   "cell_type": "markdown",
   "id": "947f7285-7346-4d74-be30-fe6c7a0ce135",
   "metadata": {},
   "source": [
    "### ONNX2TF Demo"
   ]
  },
  {
   "cell_type": "markdown",
   "id": "fb76a2f6-4acb-4490-a5c9-50af282f5b1d",
   "metadata": {},
   "source": [
    "Install [onnx2tf](https://github.com/onnx/onnx-tensorflow):\n",
    "\n",
    "1. Install ONNX master branch from source.\n",
    "2. Install TensorFlow >= 2.6.0,tensorflow-probability and tensorflow-addons. (Note TensorFlow 1.x is no longer supported)\n",
    "3. Run git clone https://github.com/onnx/onnx-tensorflow.git && cd onnx-tensorflow.\n",
    "4. Run pip install -e .."
   ]
  },
  {
   "cell_type": "code",
   "execution_count": null,
   "id": "7e9319a2-84a1-4091-ac6a-941edf55cd86",
   "metadata": {},
   "outputs": [],
   "source": [
    "import onnx\n",
    "\n",
    "from onnx_tf.backend import prepare\n",
    "\n",
    "onnx_model = onnx.load(\"input_path\")  # load onnx model\n",
    "tf_rep = prepare(onnx_model)  # prepare tf representation\n",
    "tf_rep.export_graph(\"output_path\")  # export the TF protobuf file"
   ]
  },
  {
   "cell_type": "markdown",
   "id": "d078b78c-6fce-493d-9e8b-77ce3c85bf0c",
   "metadata": {},
   "source": [
    "### TF2TFlite Demo(Frozen pb)"
   ]
  },
  {
   "cell_type": "markdown",
   "id": "4c6e4024-0d4e-4c00-b701-1c721aa2f3b5",
   "metadata": {},
   "source": [
    "click [here](https://www.tensorflow.org/lite/convert) for more details."
   ]
  },
  {
   "cell_type": "code",
   "execution_count": 8,
   "id": "8534480d-9c92-4927-8268-217834ada1be",
   "metadata": {},
   "outputs": [],
   "source": [
    "# prepare the frozen pb file / saved model\n",
    "# suppose you have installed TF2.x"
   ]
  },
  {
   "cell_type": "code",
   "execution_count": 9,
   "id": "886dec16-a8d9-4cc8-9bee-970e01d71ffb",
   "metadata": {},
   "outputs": [],
   "source": [
    "import tensorflow as tf"
   ]
  },
  {
   "cell_type": "code",
   "execution_count": 10,
   "id": "23fa56b6-6816-4e30-bce0-7a6c2a4a622d",
   "metadata": {},
   "outputs": [],
   "source": [
    "if tf.__version__ < '2.0.0':\n",
    "    print(\"For tf 1.x, see:\\n https://github.com/tensorflow/tensorflow/blob/master/tensorflow/lite/g3doc/r1/convert/python_api.md\")\n",
    "else:\n",
    "    # manually specify the inputs and outputs\n",
    "    model = tf.compat.v1.lite.TFLiteConverter.from_frozen_graph(PB_PATH,inputs,outputs)\n",
    "    with open('foo.tflite', 'wb') as f:\n",
    "        f.write(model)"
   ]
  },
  {
   "cell_type": "markdown",
   "id": "3c87aa04-6be4-44d8-83d2-318150e4525e",
   "metadata": {},
   "source": [
    "### TF/TFLite2ONNX"
   ]
  },
  {
   "cell_type": "markdown",
   "id": "7c7f1f56-6654-4cac-8854-c40ed49c75d0",
   "metadata": {},
   "source": [
    "[tf2onnx](https://github.com/onnx/tensorflow-onnx) should be installed first.\n",
    "\n",
    "```bash\n",
    "pip install -U tf2onnx\n",
    "```"
   ]
  },
  {
   "cell_type": "markdown",
   "id": "ef4773fd-cd9d-42a2-aff1-a7d3e8e6dc09",
   "metadata": {},
   "source": [
    "#### FrozenPB"
   ]
  },
  {
   "cell_type": "markdown",
   "id": "c3fdb4de-b1a2-402e-bee2-0c9b38898d55",
   "metadata": {},
   "source": [
    "指定pb文件，inputs/outputs的tensor name。\n",
    "\n",
    "```bash\n",
    "python -m tf2onnx.convert --input yolo.pb --inputs input:0 --outputs ouput:0 --output yolo.onnx\n",
    "```"
   ]
  },
  {
   "cell_type": "markdown",
   "id": "8379d844-09d4-4df8-87fc-130efc018b0d",
   "metadata": {},
   "source": [
    "其他的格式到onnx，见：[here](https://github.com/onnx/tensorflow-onnx#getting-started)"
   ]
  },
  {
   "cell_type": "code",
   "execution_count": null,
   "id": "09e9b6f5-6858-4cb3-b091-b3707e127273",
   "metadata": {},
   "outputs": [],
   "source": []
  }
 ],
 "metadata": {
  "kernelspec": {
   "display_name": "Python 3 (ipykernel)",
   "language": "python",
   "name": "python3"
  },
  "language_info": {
   "codemirror_mode": {
    "name": "ipython",
    "version": 3
   },
   "file_extension": ".py",
   "mimetype": "text/x-python",
   "name": "python",
   "nbconvert_exporter": "python",
   "pygments_lexer": "ipython3",
   "version": "3.8.12"
  }
 },
 "nbformat": 4,
 "nbformat_minor": 5
}
