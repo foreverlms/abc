{
 "cells": [
  {
   "cell_type": "code",
   "execution_count": 21,
   "metadata": {},
   "outputs": [],
   "source": [
    "import torch\n",
    "import torch.nn as nn\n",
    "import torch.nn.functional as F\n",
    "from timeit import default_timer as timer\n",
    "from torch.utils.mobile_optimizer import optimize_for_mobile"
   ]
  },
  {
   "cell_type": "code",
   "execution_count": 2,
   "metadata": {},
   "outputs": [],
   "source": [
    "class TestCase3DConv(nn.Module):\n",
    "    def __init__(self):\n",
    "        super().__init__()\n",
    "        self.conv_3d = nn.Sequential(\n",
    "            nn.Conv3d(32, 32, 3, 1, 1),\n",
    "            nn.BatchNorm3d(32),\n",
    "            nn.ReLU(),\n",
    "            nn.Conv3d(32, 32, 3, 1, 1),\n",
    "            nn.BatchNorm3d(32),\n",
    "            nn.ReLU(),\n",
    "            nn.Conv3d(32, 1, 3, 1, 1),\n",
    "        )\n",
    "        self.conv_2d = nn.Sequential(\n",
    "            nn.Conv2d(24, 16, 3, 1, 1),\n",
    "            nn.BatchNorm2d(16),\n",
    "            nn.ReLU(),\n",
    "            nn.Conv2d(16, 16, 3, 1, 1),\n",
    "            nn.BatchNorm2d(16),\n",
    "            nn.ReLU(),\n",
    "        )\n",
    "\n",
    "    def forward(self, feature_3d):\n",
    "        x = self.conv_3d(feature_3d)\n",
    "        x = F.softmax(x.squeeze(1), dim=1)\n",
    "        x = self.conv_2d(x)\n",
    "        return x\n",
    "\n"
   ]
  },
  {
   "cell_type": "code",
   "execution_count": 3,
   "metadata": {},
   "outputs": [],
   "source": [
    "model = TestCase3DConv().eval()\n",
    "data = torch.rand(1, 32, 24, 68, 120)"
   ]
  },
  {
   "cell_type": "code",
   "execution_count": 4,
   "metadata": {},
   "outputs": [
    {
     "name": "stdout",
     "output_type": "stream",
     "text": [
      "1276.5387949999995 ms\n"
     ]
    }
   ],
   "source": [
    "start = timer()\n",
    "model(data)\n",
    "end = timer()\n",
    "\n",
    "print(((end - start) * 1000),\"ms\")"
   ]
  },
  {
   "cell_type": "code",
   "execution_count": 5,
   "metadata": {},
   "outputs": [
    {
     "data": {
      "text/plain": [
       "130560"
      ]
     },
     "execution_count": 5,
     "metadata": {},
     "output_type": "execute_result"
    }
   ],
   "source": [
    "model(data).numel()"
   ]
  },
  {
   "cell_type": "code",
   "execution_count": 6,
   "metadata": {},
   "outputs": [
    {
     "name": "stdout",
     "output_type": "stream",
     "text": [
      "graph(%3d_feature : Float(1:6266880, 32:195840, 24:8160, 68:120, 120:1),\n",
      "      %conv_3d.0.weight : Float(32:864, 32:27, 3:9, 3:3, 3:1),\n",
      "      %conv_3d.0.bias : Float(32:1),\n",
      "      %conv_3d.1.weight : Float(32:1),\n",
      "      %conv_3d.1.bias : Float(32:1),\n",
      "      %conv_3d.1.running_mean : Float(32:1),\n",
      "      %conv_3d.1.running_var : Float(32:1),\n",
      "      %conv_3d.3.weight : Float(32:864, 32:27, 3:9, 3:3, 3:1),\n",
      "      %conv_3d.3.bias : Float(32:1),\n",
      "      %conv_3d.4.weight : Float(32:1),\n",
      "      %conv_3d.4.bias : Float(32:1),\n",
      "      %conv_3d.4.running_mean : Float(32:1),\n",
      "      %conv_3d.4.running_var : Float(32:1),\n",
      "      %conv_3d.6.weight : Float(1:864, 32:27, 3:9, 3:3, 3:1),\n",
      "      %conv_3d.6.bias : Float(1:1),\n",
      "      %conv_2d.0.weight : Float(16:216, 24:9, 3:3, 3:1),\n",
      "      %conv_2d.0.bias : Float(16:1),\n",
      "      %conv_2d.1.weight : Float(16:1),\n",
      "      %conv_2d.1.bias : Float(16:1),\n",
      "      %conv_2d.1.running_mean : Float(16:1),\n",
      "      %conv_2d.1.running_var : Float(16:1),\n",
      "      %conv_2d.3.weight : Float(16:144, 16:9, 3:3, 3:1),\n",
      "      %conv_2d.3.bias : Float(16:1),\n",
      "      %conv_2d.4.weight : Float(16:1),\n",
      "      %conv_2d.4.bias : Float(16:1),\n",
      "      %conv_2d.4.running_mean : Float(16:1),\n",
      "      %conv_2d.4.running_var : Float(16:1)):\n",
      "  %31 : Float(1:6266880, 32:195840, 24:8160, 68:120, 120:1) = onnx::Conv[dilations=[1, 1, 1], group=1, kernel_shape=[3, 3, 3], pads=[1, 1, 1, 1, 1, 1], strides=[1, 1, 1]](%3d_feature, %conv_3d.0.weight, %conv_3d.0.bias) # /opt/anaconda3/envs/d2l/lib/python3.7/site-packages/torch/nn/modules/conv.py:567:0\n",
      "  %32 : Float(1:6266880, 32:195840, 24:8160, 68:120, 120:1) = onnx::BatchNormalization[epsilon=1.0000000000000001e-05, momentum=0.90000000000000002](%31, %conv_3d.1.weight, %conv_3d.1.bias, %conv_3d.1.running_mean, %conv_3d.1.running_var) # /opt/anaconda3/envs/d2l/lib/python3.7/site-packages/torch/nn/functional.py:2016:0\n",
      "  %33 : Float(1:6266880, 32:195840, 24:8160, 68:120, 120:1) = onnx::Relu(%32) # /opt/anaconda3/envs/d2l/lib/python3.7/site-packages/torch/nn/functional.py:1119:0\n",
      "  %34 : Float(1:6266880, 32:195840, 24:8160, 68:120, 120:1) = onnx::Conv[dilations=[1, 1, 1], group=1, kernel_shape=[3, 3, 3], pads=[1, 1, 1, 1, 1, 1], strides=[1, 1, 1]](%33, %conv_3d.3.weight, %conv_3d.3.bias) # /opt/anaconda3/envs/d2l/lib/python3.7/site-packages/torch/nn/modules/conv.py:567:0\n",
      "  %35 : Float(1:6266880, 32:195840, 24:8160, 68:120, 120:1) = onnx::BatchNormalization[epsilon=1.0000000000000001e-05, momentum=0.90000000000000002](%34, %conv_3d.4.weight, %conv_3d.4.bias, %conv_3d.4.running_mean, %conv_3d.4.running_var) # /opt/anaconda3/envs/d2l/lib/python3.7/site-packages/torch/nn/functional.py:2016:0\n",
      "  %36 : Float(1:6266880, 32:195840, 24:8160, 68:120, 120:1) = onnx::Relu(%35) # /opt/anaconda3/envs/d2l/lib/python3.7/site-packages/torch/nn/functional.py:1119:0\n",
      "  %37 : Float(1:195840, 1:195840, 24:8160, 68:120, 120:1) = onnx::Conv[dilations=[1, 1, 1], group=1, kernel_shape=[3, 3, 3], pads=[1, 1, 1, 1, 1, 1], strides=[1, 1, 1]](%36, %conv_3d.6.weight, %conv_3d.6.bias) # /opt/anaconda3/envs/d2l/lib/python3.7/site-packages/torch/nn/modules/conv.py:567:0\n",
      "  %38 : Float(1:195840, 24:8160, 68:120, 120:1) = onnx::Squeeze[axes=[1]](%37) # <ipython-input-2-a29e5a8f316f>:24:0\n",
      "  %39 : Tensor = onnx::Transpose[perm=[0, 3, 2, 1]](%38)\n",
      "  %40 : Tensor = onnx::Softmax[axis=3](%39)\n",
      "  %41 : Float(1:195840, 24:8160, 68:120, 120:1) = onnx::Transpose[perm=[0, 3, 2, 1]](%40) # /opt/anaconda3/envs/d2l/lib/python3.7/site-packages/torch/nn/functional.py:1498:0\n",
      "  %42 : Float(1:130560, 16:8160, 68:120, 120:1) = onnx::Conv[dilations=[1, 1], group=1, kernel_shape=[3, 3], pads=[1, 1, 1, 1], strides=[1, 1]](%41, %conv_2d.0.weight, %conv_2d.0.bias) # /opt/anaconda3/envs/d2l/lib/python3.7/site-packages/torch/nn/modules/conv.py:416:0\n",
      "  %43 : Float(1:130560, 16:8160, 68:120, 120:1) = onnx::BatchNormalization[epsilon=1.0000000000000001e-05, momentum=0.90000000000000002](%42, %conv_2d.1.weight, %conv_2d.1.bias, %conv_2d.1.running_mean, %conv_2d.1.running_var) # /opt/anaconda3/envs/d2l/lib/python3.7/site-packages/torch/nn/functional.py:2016:0\n",
      "  %44 : Float(1:130560, 16:8160, 68:120, 120:1) = onnx::Relu(%43) # /opt/anaconda3/envs/d2l/lib/python3.7/site-packages/torch/nn/functional.py:1119:0\n",
      "  %45 : Float(1:130560, 16:8160, 68:120, 120:1) = onnx::Conv[dilations=[1, 1], group=1, kernel_shape=[3, 3], pads=[1, 1, 1, 1], strides=[1, 1]](%44, %conv_2d.3.weight, %conv_2d.3.bias) # /opt/anaconda3/envs/d2l/lib/python3.7/site-packages/torch/nn/modules/conv.py:416:0\n",
      "  %46 : Float(1:130560, 16:8160, 68:120, 120:1) = onnx::BatchNormalization[epsilon=1.0000000000000001e-05, momentum=0.90000000000000002](%45, %conv_2d.4.weight, %conv_2d.4.bias, %conv_2d.4.running_mean, %conv_2d.4.running_var) # /opt/anaconda3/envs/d2l/lib/python3.7/site-packages/torch/nn/functional.py:2016:0\n",
      "  %2d_feature : Float(1:130560, 16:8160, 68:120, 120:1) = onnx::Relu(%46) # /opt/anaconda3/envs/d2l/lib/python3.7/site-packages/torch/nn/functional.py:1119:0\n",
      "  return (%2d_feature)\n",
      "\n"
     ]
    }
   ],
   "source": [
    "torch.onnx.export(\n",
    "    model,\n",
    "    (data,),\n",
    "    \"test_case_3dconv.onnx\",\n",
    "    verbose=True,\n",
    "    input_names=[\"3d_feature\"],\n",
    "    output_names=[\"2d_feature\"],\n",
    "    )"
   ]
  },
  {
   "cell_type": "markdown",
   "metadata": {},
   "source": [
    "### Conv2D模型"
   ]
  },
  {
   "cell_type": "code",
   "execution_count": 7,
   "metadata": {},
   "outputs": [],
   "source": [
    "class Test2DConv(nn.Module):\n",
    "    def __init__(self):\n",
    "        super().__init__()\n",
    "        self.conv_2d = nn.Sequential(\n",
    "            nn.Conv2d(3,6 , 3, 1, 1),\n",
    "            nn.BatchNorm2d(6),\n",
    "            nn.ReLU(),\n",
    "        )\n",
    "        \n",
    "    def forward(self,feature_2d):\n",
    "        return self.conv_2d(feature_2d)"
   ]
  },
  {
   "cell_type": "code",
   "execution_count": 8,
   "metadata": {},
   "outputs": [],
   "source": [
    "model = Test2DConv().eval()"
   ]
  },
  {
   "cell_type": "code",
   "execution_count": 9,
   "metadata": {},
   "outputs": [],
   "source": [
    "data = torch.randn(1,3,4,4)"
   ]
  },
  {
   "cell_type": "code",
   "execution_count": 10,
   "metadata": {},
   "outputs": [
    {
     "data": {
      "text/plain": [
       "tensor([-0.7444,  0.2161, -0.4212,  1.4429,  1.4878,  0.3429,  0.8672,  0.3219,\n",
       "         0.9948,  0.3635, -0.2095,  1.1769,  0.7711,  1.2644,  0.5776, -0.5469,\n",
       "        -0.3175, -0.7794,  0.7725,  0.2944, -0.6526,  0.4034,  1.8545, -0.6677,\n",
       "         0.3432,  0.0643, -0.6606, -1.8605,  0.3472, -0.0051, -0.1759, -1.0716,\n",
       "        -0.0441,  0.0968, -0.0951, -1.3599, -0.2377, -0.2915, -0.0776, -0.4318,\n",
       "         1.3253, -0.8543,  0.5081,  0.8726,  1.9042, -0.7956,  1.1603,  0.4063])"
      ]
     },
     "execution_count": 10,
     "metadata": {},
     "output_type": "execute_result"
    }
   ],
   "source": [
    "data.permute(0,2,3,1).flatten()"
   ]
  },
  {
   "cell_type": "code",
   "execution_count": 11,
   "metadata": {},
   "outputs": [],
   "source": [
    "output = model(data) # 1 6 4 4"
   ]
  },
  {
   "cell_type": "code",
   "execution_count": 12,
   "metadata": {},
   "outputs": [
    {
     "name": "stdout",
     "output_type": "stream",
     "text": [
      "graph(%input : Float(1:48, 3:16, 4:4, 4:1),\n",
      "      %conv_2d.0.weight : Float(6:27, 3:9, 3:3, 3:1),\n",
      "      %conv_2d.0.bias : Float(6:1),\n",
      "      %conv_2d.1.weight : Float(6:1),\n",
      "      %conv_2d.1.bias : Float(6:1),\n",
      "      %conv_2d.1.running_mean : Float(6:1),\n",
      "      %conv_2d.1.running_var : Float(6:1)):\n",
      "  %8 : Float(1:96, 6:16, 4:4, 4:1) = onnx::Conv[dilations=[1, 1], group=1, kernel_shape=[3, 3], pads=[1, 1, 1, 1], strides=[1, 1]](%input, %conv_2d.0.weight, %conv_2d.0.bias) # /opt/anaconda3/envs/d2l/lib/python3.7/site-packages/torch/nn/modules/conv.py:416:0\n",
      "  %9 : Float(1:96, 6:16, 4:4, 4:1) = onnx::BatchNormalization[epsilon=1.0000000000000001e-05, momentum=0.90000000000000002](%8, %conv_2d.1.weight, %conv_2d.1.bias, %conv_2d.1.running_mean, %conv_2d.1.running_var) # /opt/anaconda3/envs/d2l/lib/python3.7/site-packages/torch/nn/functional.py:2016:0\n",
      "  %output : Float(1:96, 6:16, 4:4, 4:1) = onnx::Relu(%9) # /opt/anaconda3/envs/d2l/lib/python3.7/site-packages/torch/nn/functional.py:1119:0\n",
      "  return (%output)\n",
      "\n"
     ]
    }
   ],
   "source": [
    "torch.onnx.export(\n",
    "    model,\n",
    "    (data,),\n",
    "    \"test_2dconv.onnx\",\n",
    "    verbose=True,\n",
    "    opset_version = 9,\n",
    "    input_names=[\"input\"],\n",
    "    output_names=[\"output\"],\n",
    "    )"
   ]
  },
  {
   "cell_type": "code",
   "execution_count": 13,
   "metadata": {},
   "outputs": [
    {
     "data": {
      "text/plain": [
       "tensor([0.0000e+00, 1.3679e-01, 1.1203e-01, 3.0004e-01, 9.5306e-02, 0.0000e+00,\n",
       "        0.0000e+00, 3.3896e-01, 0.0000e+00, 0.0000e+00, 0.0000e+00, 0.0000e+00,\n",
       "        0.0000e+00, 0.0000e+00, 0.0000e+00, 0.0000e+00, 0.0000e+00, 0.0000e+00,\n",
       "        1.9857e-01, 0.0000e+00, 0.0000e+00, 6.4937e-02, 1.3274e-01, 0.0000e+00,\n",
       "        2.0866e-01, 0.0000e+00, 0.0000e+00, 0.0000e+00, 2.1403e-01, 1.3269e-01,\n",
       "        0.0000e+00, 8.8072e-01, 4.1674e-01, 5.2274e-01, 0.0000e+00, 0.0000e+00,\n",
       "        0.0000e+00, 9.4353e-01, 7.8012e-01, 6.1580e-01, 1.2396e-01, 0.0000e+00,\n",
       "        0.0000e+00, 0.0000e+00, 0.0000e+00, 2.0682e-01, 5.4254e-02, 4.9262e-04,\n",
       "        5.8872e-02, 2.9787e-02, 0.0000e+00, 4.1843e-01, 8.2621e-02, 0.0000e+00,\n",
       "        4.1931e-01, 0.0000e+00, 0.0000e+00, 7.0217e-01, 5.4993e-04, 4.4035e-02,\n",
       "        1.8465e-01, 0.0000e+00, 4.4121e-02, 2.0012e-01, 0.0000e+00, 0.0000e+00,\n",
       "        0.0000e+00, 5.5886e-01, 3.6826e-01, 5.3106e-01, 0.0000e+00, 0.0000e+00,\n",
       "        0.0000e+00, 6.7663e-02, 0.0000e+00, 4.2620e-01, 4.9180e-01, 0.0000e+00,\n",
       "        0.0000e+00, 0.0000e+00, 0.0000e+00, 0.0000e+00, 0.0000e+00, 1.4135e-01,\n",
       "        5.2584e-02, 3.1447e-01, 0.0000e+00, 0.0000e+00, 3.0805e-01, 1.8381e-02,\n",
       "        2.8172e-01, 4.3182e-01, 0.0000e+00, 1.2160e-01, 1.3717e-01, 0.0000e+00],\n",
       "       grad_fn=<UnsafeViewBackward>)"
      ]
     },
     "execution_count": 13,
     "metadata": {},
     "output_type": "execute_result"
    }
   ],
   "source": [
    "output.permute(0,2,3,1).flatten()"
   ]
  },
  {
   "cell_type": "markdown",
   "metadata": {},
   "source": [
    "#### 这里的模型是test_3dconv里用到的模型"
   ]
  },
  {
   "cell_type": "code",
   "execution_count": 14,
   "metadata": {},
   "outputs": [],
   "source": [
    "m_model = nn.Conv3d(32, 32, 3, 1, 1)"
   ]
  },
  {
   "cell_type": "code",
   "execution_count": 15,
   "metadata": {},
   "outputs": [],
   "source": [
    "p_weight = m_model.weight.detach().permute(0,2,3,4,1).flatten()"
   ]
  },
  {
   "cell_type": "code",
   "execution_count": 16,
   "metadata": {},
   "outputs": [],
   "source": [
    "p_bias = m_model.bias.detach().flatten()"
   ]
  },
  {
   "cell_type": "code",
   "execution_count": 17,
   "metadata": {},
   "outputs": [
    {
     "data": {
      "text/plain": [
       "tensor([-0.0173,  0.0239,  0.0225, -0.0118,  0.0156,  0.0337, -0.0125, -0.0091,\n",
       "         0.0282, -0.0268, -0.0295,  0.0339,  0.0018,  0.0304, -0.0088, -0.0209,\n",
       "         0.0327, -0.0293,  0.0073, -0.0145, -0.0020, -0.0194,  0.0272, -0.0303,\n",
       "         0.0272,  0.0269,  0.0311, -0.0005,  0.0247, -0.0321,  0.0312, -0.0031])"
      ]
     },
     "execution_count": 17,
     "metadata": {},
     "output_type": "execute_result"
    }
   ],
   "source": [
    "p_bias"
   ]
  },
  {
   "cell_type": "code",
   "execution_count": 18,
   "metadata": {},
   "outputs": [],
   "source": [
    "p_final = torch.cat([p_weight,p_bias],axis=0)"
   ]
  },
  {
   "cell_type": "code",
   "execution_count": 19,
   "metadata": {},
   "outputs": [
    {
     "data": {
      "text/plain": [
       "27680"
      ]
     },
     "execution_count": 19,
     "metadata": {},
     "output_type": "execute_result"
    }
   ],
   "source": [
    "p_final.numel()"
   ]
  },
  {
   "cell_type": "code",
   "execution_count": 34,
   "metadata": {},
   "outputs": [],
   "source": [
    "p_final.numpy().tofile(\"single_layer_3dconv.bin\")"
   ]
  },
  {
   "cell_type": "code",
   "execution_count": 20,
   "metadata": {},
   "outputs": [],
   "source": [
    "inpu = torch.rand(1, 32, 24, 68, 120)"
   ]
  },
  {
   "cell_type": "code",
   "execution_count": 23,
   "metadata": {},
   "outputs": [],
   "source": [
    "#保存模型\n",
    "m_model.eval()\n",
    "\n",
    "traced_script_module = torch.jit.trace(m_model, inpu)\n",
    "\n",
    "optimized_m = optimize_for_mobile(traced_script_module)\n",
    "\n",
    "optimized_m.save(\"bytenn_3dconv_test.pt\")"
   ]
  },
  {
   "cell_type": "code",
   "execution_count": 24,
   "metadata": {},
   "outputs": [
    {
     "name": "stdout",
     "output_type": "stream",
     "text": [
      "graph(%3d_feature : Float(1:6266880, 32:195840, 24:8160, 68:120, 120:1),\n",
      "      %weight : Float(32:864, 32:27, 3:9, 3:3, 3:1),\n",
      "      %bias : Float(32:1)):\n",
      "  %2d_feature : Float(1:6266880, 32:195840, 24:8160, 68:120, 120:1) = onnx::Conv[dilations=[1, 1, 1], group=1, kernel_shape=[3, 3, 3], pads=[1, 1, 1, 1, 1, 1], strides=[1, 1, 1]](%3d_feature, %weight, %bias) # /opt/anaconda3/envs/d2l/lib/python3.7/site-packages/torch/nn/modules/conv.py:567:0\n",
      "  return (%2d_feature)\n",
      "\n"
     ]
    }
   ],
   "source": [
    "torch.onnx.export(\n",
    "    m_model,\n",
    "    (inpu,),\n",
    "    \"single_layer_conv3d_test.onnx\",\n",
    "    verbose=True,\n",
    "    input_names=[\"3d_feature\"],\n",
    "    output_names=[\"2d_feature\"],\n",
    "    )"
   ]
  },
  {
   "cell_type": "code",
   "execution_count": 25,
   "metadata": {},
   "outputs": [],
   "source": [
    "begin_time = timer()\n",
    "res = m_model(inpu)\n",
    "end_time = timer()"
   ]
  },
  {
   "cell_type": "code",
   "execution_count": 26,
   "metadata": {},
   "outputs": [
    {
     "data": {
      "text/plain": [
       "483.13810199999807"
      ]
     },
     "execution_count": 26,
     "metadata": {},
     "output_type": "execute_result"
    }
   ],
   "source": [
    "#ms\n",
    "(end_time-begin_time) * 1000 "
   ]
  },
  {
   "cell_type": "code",
   "execution_count": 27,
   "metadata": {},
   "outputs": [
    {
     "data": {
      "text/plain": [
       "torch.Size([1, 32, 24, 68, 120])"
      ]
     },
     "execution_count": 27,
     "metadata": {},
     "output_type": "execute_result"
    }
   ],
   "source": [
    "res.shape"
   ]
  },
  {
   "cell_type": "code",
   "execution_count": 28,
   "metadata": {},
   "outputs": [],
   "source": [
    "to_bin = res.detach().permute(0,2,3,4,1).flatten()"
   ]
  },
  {
   "cell_type": "code",
   "execution_count": 29,
   "metadata": {},
   "outputs": [
    {
     "data": {
      "text/plain": [
       "tensor([ 0.0668, -0.4403, -0.2054, -0.2988, -0.1230,  0.3138, -0.3023,  0.1028,\n",
       "        -0.1982, -0.5449])"
      ]
     },
     "execution_count": 29,
     "metadata": {},
     "output_type": "execute_result"
    }
   ],
   "source": [
    "to_bin[0:10]"
   ]
  },
  {
   "cell_type": "code",
   "execution_count": 30,
   "metadata": {},
   "outputs": [],
   "source": [
    "to_bin.numpy().tofile(\"res.bin\")"
   ]
  },
  {
   "cell_type": "code",
   "execution_count": 31,
   "metadata": {},
   "outputs": [],
   "source": [
    "inpu.permute(0,2,3,4,1).flatten().numpy().tofile(\"inpu.bin\")"
   ]
  },
  {
   "cell_type": "code",
   "execution_count": 36,
   "metadata": {},
   "outputs": [
    {
     "data": {
      "text/plain": [
       "tensor([0.7651, 0.5260, 0.8956, 0.4452, 0.8368, 0.3923, 0.2981, 0.8860, 0.8949,\n",
       "        0.5104])"
      ]
     },
     "execution_count": 36,
     "metadata": {},
     "output_type": "execute_result"
    }
   ],
   "source": [
    "inpu.permute(0,2,3,4,1).flatten()[0:10]"
   ]
  },
  {
   "cell_type": "code",
   "execution_count": 33,
   "metadata": {},
   "outputs": [
    {
     "data": {
      "text/plain": [
       "tensor([ 6.6766e-02, -4.4028e-01, -2.0536e-01, -2.9880e-01, -1.2297e-01,\n",
       "         3.1380e-01, -3.0230e-01,  1.0279e-01, -1.9824e-01, -5.4493e-01,\n",
       "        -3.0706e-01,  8.1129e-02,  1.0991e-03,  8.0735e-02, -3.2745e-01,\n",
       "        -1.9374e-02,  1.7550e-01, -5.6417e-01, -3.0997e-01, -1.7843e-01,\n",
       "         3.5548e-01, -1.4415e-01,  5.8936e-02, -1.1469e-01,  1.6564e-02,\n",
       "        -5.2975e-02, -1.1905e-01,  1.6320e-01,  1.8762e-02,  1.7630e-01,\n",
       "         7.2471e-02, -6.5588e-02,  1.9695e-01, -2.5943e-01, -1.2165e-01,\n",
       "        -2.0772e-01, -3.1516e-01,  1.9693e-01, -2.6290e-01,  2.0130e-01,\n",
       "        -1.8074e-01, -6.7184e-01, -9.0122e-02, -1.7983e-01,  2.5916e-01,\n",
       "        -1.9926e-01, -2.2750e-01, -3.4565e-01,  1.8816e-02, -3.3267e-01,\n",
       "        -9.3340e-02,  1.1969e-01, -2.8708e-02, -2.6147e-02,  8.1535e-02,\n",
       "         3.4648e-02,  6.4717e-02,  6.6186e-02,  4.9889e-02, -8.0315e-02,\n",
       "        -8.4436e-02,  1.0755e-01, -9.1310e-02,  4.3830e-02,  3.2533e-02,\n",
       "        -5.7686e-02, -2.3388e-01,  1.0065e-01, -1.1719e-01,  3.1811e-01,\n",
       "        -2.8468e-01,  9.9394e-02, -1.0886e-03, -3.5679e-01, -1.6174e-01,\n",
       "         1.0978e-01,  2.0879e-02, -6.2828e-02, -4.9046e-01, -3.6405e-01,\n",
       "        -6.3953e-02, -5.4212e-01, -3.8642e-01,  2.8608e-02, -5.6988e-04,\n",
       "        -7.4013e-02,  1.8931e-01, -1.7729e-01,  3.3156e-02,  5.6372e-02,\n",
       "         6.0664e-02,  8.5939e-02, -3.5586e-02,  2.9447e-02, -5.4385e-02,\n",
       "         1.6206e-02,  1.7184e-01, -4.1986e-01,  8.3249e-02, -3.7017e-01])"
      ]
     },
     "execution_count": 33,
     "metadata": {},
     "output_type": "execute_result"
    }
   ],
   "source": [
    "to_bin[0:100]"
   ]
  },
  {
   "cell_type": "code",
   "execution_count": null,
   "metadata": {},
   "outputs": [],
   "source": []
  }
 ],
 "metadata": {
  "kernelspec": {
   "display_name": "Python 3",
   "language": "python",
   "name": "python3"
  },
  "language_info": {
   "codemirror_mode": {
    "name": "ipython",
    "version": 3
   },
   "file_extension": ".py",
   "mimetype": "text/x-python",
   "name": "python",
   "nbconvert_exporter": "python",
   "pygments_lexer": "ipython3",
   "version": "3.7.9"
  }
 },
 "nbformat": 4,
 "nbformat_minor": 4
}
