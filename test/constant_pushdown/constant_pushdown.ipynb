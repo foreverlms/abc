{
 "cells": [
  {
   "cell_type": "code",
   "execution_count": 1,
   "id": "4a42612c-0c8e-482c-ac3a-ae42a0fbece0",
   "metadata": {},
   "outputs": [],
   "source": [
    "import tensorflow as tf"
   ]
  },
  {
   "cell_type": "code",
   "execution_count": 13,
   "id": "122fa286-0a74-409b-aa86-5cc8cd171b37",
   "metadata": {},
   "outputs": [],
   "source": [
    "data = tf.random.uniform((2,3),3,100,dtype=tf.float32)"
   ]
  },
  {
   "cell_type": "code",
   "execution_count": 23,
   "id": "7cf79df1-f315-4ba2-ae67-1a839ade6cbe",
   "metadata": {},
   "outputs": [
    {
     "data": {
      "text/plain": [
       "<tf.Tensor: shape=(2, 3), dtype=float32, numpy=\n",
       "array([[28.943457, 55.324215, 50.168613],\n",
       "       [74.50713 , 11.473842, 25.035131]], dtype=float32)>"
      ]
     },
     "execution_count": 23,
     "metadata": {},
     "output_type": "execute_result"
    }
   ],
   "source": [
    "data"
   ]
  },
  {
   "cell_type": "code",
   "execution_count": 24,
   "id": "1b3a4b4e-8f04-4826-bf39-29bdc3a4d72e",
   "metadata": {},
   "outputs": [],
   "source": [
    "# rsqrt\n",
    "rsqrt = tf.math.rsqrt(data)"
   ]
  },
  {
   "cell_type": "code",
   "execution_count": 25,
   "id": "ef604c9a-12b7-494b-8e65-7b6f4f3768d6",
   "metadata": {},
   "outputs": [
    {
     "data": {
      "text/plain": [
       "<tf.Tensor: shape=(2, 3), dtype=float32, numpy=\n",
       "array([[0.18587662, 0.1344443 , 0.14118351],\n",
       "       [0.11585134, 0.29521987, 0.19985962]], dtype=float32)>"
      ]
     },
     "execution_count": 25,
     "metadata": {},
     "output_type": "execute_result"
    }
   ],
   "source": [
    "rsqrt"
   ]
  },
  {
   "cell_type": "code",
   "execution_count": 26,
   "id": "86114849-7f42-4cc1-8a35-6cc584bb288a",
   "metadata": {},
   "outputs": [],
   "source": [
    "# const input 1\n",
    "const_1 = tf.constant(1, shape = (2,3),dtype = tf.float32)"
   ]
  },
  {
   "cell_type": "code",
   "execution_count": 27,
   "id": "89d536d1-2821-4ec5-bd46-77c9ed1225ef",
   "metadata": {},
   "outputs": [
    {
     "data": {
      "text/plain": [
       "<tf.Tensor: shape=(2, 3), dtype=float32, numpy=\n",
       "array([[1., 1., 1.],\n",
       "       [1., 1., 1.]], dtype=float32)>"
      ]
     },
     "execution_count": 27,
     "metadata": {},
     "output_type": "execute_result"
    }
   ],
   "source": [
    "const_1"
   ]
  },
  {
   "cell_type": "code",
   "execution_count": 31,
   "id": "ef7579e0-0396-45f8-9111-df8481356050",
   "metadata": {},
   "outputs": [],
   "source": [
    "add_1 = tf.math.add(rsqrt,const_1)"
   ]
  },
  {
   "cell_type": "code",
   "execution_count": 32,
   "id": "a831bf0e-be7f-4377-9f97-c1d9c604e599",
   "metadata": {},
   "outputs": [
    {
     "data": {
      "text/plain": [
       "<tf.Tensor: shape=(2, 3), dtype=float32, numpy=\n",
       "array([[1.1858766, 1.1344442, 1.1411835],\n",
       "       [1.1158514, 1.2952199, 1.1998596]], dtype=float32)>"
      ]
     },
     "execution_count": 32,
     "metadata": {},
     "output_type": "execute_result"
    }
   ],
   "source": [
    "add_1"
   ]
  },
  {
   "cell_type": "code",
   "execution_count": 33,
   "id": "2c60ee88-1c59-413f-bdc3-2901521f2f9e",
   "metadata": {},
   "outputs": [],
   "source": [
    "const_2 = tf.constant(3, shape = (2,3),dtype = tf.float32)"
   ]
  },
  {
   "cell_type": "code",
   "execution_count": 34,
   "id": "65aeaa4f-2c0e-4be6-847b-3c83b230cc71",
   "metadata": {},
   "outputs": [],
   "source": [
    "add_2 = tf.math.add(add_1, const_2)"
   ]
  },
  {
   "cell_type": "code",
   "execution_count": 35,
   "id": "6e740162-f874-4ff3-9b90-109d92a3feeb",
   "metadata": {},
   "outputs": [
    {
     "data": {
      "text/plain": [
       "<tf.Tensor: shape=(2, 3), dtype=float32, numpy=\n",
       "array([[4.185877 , 4.134444 , 4.1411834],\n",
       "       [4.1158514, 4.29522  , 4.1998596]], dtype=float32)>"
      ]
     },
     "execution_count": 35,
     "metadata": {},
     "output_type": "execute_result"
    }
   ],
   "source": [
    "add_2"
   ]
  },
  {
   "cell_type": "code",
   "execution_count": null,
   "id": "03f59e54-ce4f-45bc-a02c-9dc811d0329f",
   "metadata": {},
   "outputs": [],
   "source": []
  }
 ],
 "metadata": {
  "kernelspec": {
   "display_name": "Python 3 (ipykernel)",
   "language": "python",
   "name": "python3"
  },
  "language_info": {
   "codemirror_mode": {
    "name": "ipython",
    "version": 3
   },
   "file_extension": ".py",
   "mimetype": "text/x-python",
   "name": "python",
   "nbconvert_exporter": "python",
   "pygments_lexer": "ipython3",
   "version": "3.8.5"
  }
 },
 "nbformat": 4,
 "nbformat_minor": 5
}
