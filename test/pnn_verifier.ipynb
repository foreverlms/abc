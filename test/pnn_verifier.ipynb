{
 "cells": [
  {
   "cell_type": "markdown",
   "id": "8e827fb4-daf4-4736-8b25-412a0b50ca7e",
   "metadata": {},
   "source": [
    "### OP Test"
   ]
  },
  {
   "cell_type": "code",
   "execution_count": 1,
   "id": "06189f56-7a03-4822-8df5-f2d7a84f8b6d",
   "metadata": {},
   "outputs": [],
   "source": [
    "import numpy as np\n",
    "import onnxruntime as ort"
   ]
  },
  {
   "cell_type": "code",
   "execution_count": 42,
   "id": "bc69ad7b-7ab5-4c72-a7fd-a3c50e8b6b15",
   "metadata": {},
   "outputs": [],
   "source": [
    "input_path = \"/Users/bob/code/ByteDance/PNN/tools/verifier/tmp/20220307-15-44-13/convolution_2d_0_input.npz\""
   ]
  },
  {
   "cell_type": "code",
   "execution_count": 43,
   "id": "8ba9eca9-7e43-48d4-84c5-fc02d354bd0d",
   "metadata": {},
   "outputs": [],
   "source": [
    "onnx_model_path = \"/Users/bob/code/ByteDance/PNN/tools/verifier/tmp/20220307-15-44-13/convolution_2d_0.onnx\""
   ]
  },
  {
   "cell_type": "code",
   "execution_count": 44,
   "id": "09f23468-fcf0-4ba7-b716-a6ec9ebde652",
   "metadata": {},
   "outputs": [],
   "source": [
    "onnx_inputs = {}"
   ]
  },
  {
   "cell_type": "code",
   "execution_count": 45,
   "id": "1ac5d33f-ed71-4d7e-acc5-03d59805ad5e",
   "metadata": {},
   "outputs": [],
   "source": [
    "with np.load(input_path) as data:\n",
    "    for key in data.keys():\n",
    "        onnx_inputs[key] = data[key]"
   ]
  },
  {
   "cell_type": "code",
   "execution_count": 46,
   "id": "5d1b6648-c5c6-4c75-8c83-7e369ec0c829",
   "metadata": {},
   "outputs": [],
   "source": [
    "sess = ort.InferenceSession(onnx_model_path)"
   ]
  },
  {
   "cell_type": "code",
   "execution_count": 47,
   "id": "ff9a9f8c-3a59-4dbc-9663-f3e8e494e6b7",
   "metadata": {},
   "outputs": [],
   "source": [
    "onnx_outputs = sess.run(None, onnx_inputs)"
   ]
  },
  {
   "cell_type": "code",
   "execution_count": 52,
   "id": "f5a6049d-13ec-484e-b547-d0b86715872b",
   "metadata": {},
   "outputs": [
    {
     "ename": "IndexError",
     "evalue": "list index out of range",
     "output_type": "error",
     "traceback": [
      "\u001b[0;31m---------------------------------------------------------------------------\u001b[0m",
      "\u001b[0;31mIndexError\u001b[0m                                Traceback (most recent call last)",
      "Input \u001b[0;32mIn [52]\u001b[0m, in \u001b[0;36m<module>\u001b[0;34m\u001b[0m\n\u001b[0;32m----> 1\u001b[0m \u001b[43monnx_outputs\u001b[49m\u001b[43m[\u001b[49m\u001b[38;5;241;43m1\u001b[39;49m\u001b[43m]\u001b[49m\u001b[38;5;241m.\u001b[39mshape\n",
      "\u001b[0;31mIndexError\u001b[0m: list index out of range"
     ]
    }
   ],
   "source": [
    "onnx_outputs[1].shape"
   ]
  },
  {
   "cell_type": "code",
   "execution_count": 56,
   "id": "b13b7069-e5a6-460c-a1e8-242682d64898",
   "metadata": {},
   "outputs": [],
   "source": [
    "np.savez(\"/Users/bob/Downloads/concat/concat_8_onnx_output.npz\",convolution=onnx_outputs[0])"
   ]
  },
  {
   "cell_type": "code",
   "execution_count": 58,
   "id": "fdf97d6f-12dc-46b3-a8b7-6a735d7634a1",
   "metadata": {},
   "outputs": [
    {
     "name": "stdout",
     "output_type": "stream",
     "text": [
      "concat\n"
     ]
    }
   ],
   "source": [
    "with np.load(\"/Users/bob/code/ByteDance/PNN/tools/verifier/tmp/20220308-14-35-00/concat_17_onnx_output.npz\") as data:\n",
    "    for key in data.keys():\n",
    "        print(key)"
   ]
  },
  {
   "cell_type": "markdown",
   "id": "866d023b-48af-499a-8b4f-94c86664b306",
   "metadata": {},
   "source": [
    "### PNN"
   ]
  },
  {
   "cell_type": "code",
   "execution_count": 10,
   "id": "e08a3269-89e8-4268-bc29-6a780f1cf141",
   "metadata": {},
   "outputs": [],
   "source": [
    "import pnn"
   ]
  },
  {
   "cell_type": "code",
   "execution_count": 11,
   "id": "838a9d29-0dbb-4953-bfc0-644dbe4f2f87",
   "metadata": {},
   "outputs": [],
   "source": [
    "pnn_model_path = \"/Users/bob/code/ByteDance/PNN/tools/verifier/tmp/20220307-20-18-35/concat_8_cpu.PNN\""
   ]
  },
  {
   "cell_type": "code",
   "execution_count": 12,
   "id": "34b549c4-9d8a-4144-9461-c9da361c20ea",
   "metadata": {},
   "outputs": [],
   "source": [
    "pnn_weight = \"/Users/bob/code/ByteDance/PNN/tools/verifier/tmp/20220307-16-10-27/concat_8_cpu_weight.bin\""
   ]
  },
  {
   "cell_type": "code",
   "execution_count": 13,
   "id": "964c6f50-f120-4159-9f77-7090fc02bd80",
   "metadata": {},
   "outputs": [],
   "source": [
    " e_config = pnn.engine_config()\n",
    "e_config.devices = [pnn.cpu_device()]\n",
    "engine = pnn.engine(e_config)\n",
    "status = engine.load_model(pnn_model_path, pnn_weight)\n",
    "assert status == pnn.STATUS.OK\n",
    "inputs = engine.mutable_inputs()  # type: list\n",
    "\n",
    "for i in inputs:\n",
    "    i.assign(onnx_inputs[i.name])\n",
    "\n",
    "status = engine.run(None, None)\n",
    "assert status == pnn.STATUS.OK"
   ]
  },
  {
   "cell_type": "code",
   "execution_count": 14,
   "id": "cd7eec74-0d74-4f61-9dbb-e995b17b4c56",
   "metadata": {},
   "outputs": [],
   "source": [
    "pnn_outputs = engine.get_outputs()"
   ]
  },
  {
   "cell_type": "code",
   "execution_count": 27,
   "id": "b0c62313-e36b-4269-82b1-6bf09135c0ec",
   "metadata": {},
   "outputs": [
    {
     "data": {
      "text/plain": [
       "(30, 8, 17, 35)"
      ]
     },
     "execution_count": 27,
     "metadata": {},
     "output_type": "execute_result"
    }
   ],
   "source": [
    "pnn_outputs[0].data().shape"
   ]
  },
  {
   "cell_type": "code",
   "execution_count": 16,
   "id": "b5e93917-c071-4514-a7b9-f161cca8d127",
   "metadata": {},
   "outputs": [
    {
     "data": {
      "text/plain": [
       "False"
      ]
     },
     "execution_count": 16,
     "metadata": {},
     "output_type": "execute_result"
    }
   ],
   "source": [
    "np.allclose(onnx_outputs[0],pnn_outputs[0].data())"
   ]
  },
  {
   "cell_type": "code",
   "execution_count": 17,
   "id": "c5cd4cf6-dfd2-4ba7-97bf-3fbd045f7013",
   "metadata": {},
   "outputs": [
    {
     "data": {
      "text/plain": [
       "142800"
      ]
     },
     "execution_count": 17,
     "metadata": {},
     "output_type": "execute_result"
    }
   ],
   "source": [
    "onnx_outputs[0].size"
   ]
  },
  {
   "cell_type": "code",
   "execution_count": 18,
   "id": "05d8bb42-e269-4419-971d-b20902781ea1",
   "metadata": {},
   "outputs": [
    {
     "data": {
      "text/plain": [
       "(0, 0, 2, 30)"
      ]
     },
     "execution_count": 18,
     "metadata": {},
     "output_type": "execute_result"
    }
   ],
   "source": [
    "tuple(np.unravel_index(100,onnx_outputs[0].shape))"
   ]
  },
  {
   "cell_type": "code",
   "execution_count": 19,
   "id": "11ceb3b1-a634-48ac-a6e1-7ae80cd3063b",
   "metadata": {},
   "outputs": [
    {
     "data": {
      "text/plain": [
       "0.7817977"
      ]
     },
     "execution_count": 19,
     "metadata": {},
     "output_type": "execute_result"
    }
   ],
   "source": [
    "onnx_outputs[0][5, 0, 5, 0]"
   ]
  },
  {
   "cell_type": "code",
   "execution_count": 20,
   "id": "3473384b-b80d-480d-b46c-e7c52fbafc33",
   "metadata": {},
   "outputs": [
    {
     "data": {
      "text/plain": [
       "0.7817977"
      ]
     },
     "execution_count": 20,
     "metadata": {},
     "output_type": "execute_result"
    }
   ],
   "source": [
    "pnn_outputs[0].data()[5, 0, 5, 0]"
   ]
  },
  {
   "cell_type": "code",
   "execution_count": 21,
   "id": "139eb6aa-4595-424a-a4ef-3511d9a759b1",
   "metadata": {},
   "outputs": [
    {
     "data": {
      "text/plain": [
       "dtype('float32')"
      ]
     },
     "execution_count": 21,
     "metadata": {},
     "output_type": "execute_result"
    }
   ],
   "source": [
    "pnn_outputs[0].data().dtype"
   ]
  },
  {
   "cell_type": "markdown",
   "id": "c52fa919-03e8-4c80-a511-944f94c3b5a2",
   "metadata": {},
   "source": [
    "### HAHAH"
   ]
  },
  {
   "cell_type": "code",
   "execution_count": 22,
   "id": "59b9609d-1662-49ac-b74d-42b427f4a180",
   "metadata": {},
   "outputs": [],
   "source": [
    "import random"
   ]
  },
  {
   "cell_type": "code",
   "execution_count": 23,
   "id": "7d3b4bd6-83a8-4874-b135-7bd803dc33cf",
   "metadata": {},
   "outputs": [
    {
     "data": {
      "text/plain": [
       "1"
      ]
     },
     "execution_count": 23,
     "metadata": {},
     "output_type": "execute_result"
    }
   ],
   "source": [
    "random.randint(1,1)"
   ]
  },
  {
   "cell_type": "code",
   "execution_count": 24,
   "id": "2694f04d-7965-44a2-b303-b4545250a4d4",
   "metadata": {},
   "outputs": [],
   "source": [
    "a = bytearray(\"abc\",encoding=\"utf8\")"
   ]
  },
  {
   "cell_type": "code",
   "execution_count": 25,
   "id": "ed822ab1-e990-4f99-bd33-3120d0b44104",
   "metadata": {},
   "outputs": [
    {
     "data": {
      "text/plain": [
       "bytearray(b'abc')"
      ]
     },
     "execution_count": 25,
     "metadata": {},
     "output_type": "execute_result"
    }
   ],
   "source": [
    "a"
   ]
  },
  {
   "cell_type": "code",
   "execution_count": 59,
   "id": "b7f83b29-bc10-4648-b66d-f099d06d87ad",
   "metadata": {},
   "outputs": [],
   "source": [
    "import random"
   ]
  },
  {
   "cell_type": "code",
   "execution_count": 60,
   "id": "aed58f79-2dd9-4936-b9c6-988d10c4b6ec",
   "metadata": {},
   "outputs": [
    {
     "data": {
      "text/plain": [
       "1"
      ]
     },
     "execution_count": 60,
     "metadata": {},
     "output_type": "execute_result"
    }
   ],
   "source": [
    "random.randint(1,1)"
   ]
  },
  {
   "cell_type": "code",
   "execution_count": 61,
   "id": "faec796e-ec7a-4959-b106-7559a7f292ab",
   "metadata": {},
   "outputs": [],
   "source": [
    "a= [1,2,3]"
   ]
  },
  {
   "cell_type": "code",
   "execution_count": 63,
   "id": "5bf34aa5-a1e6-4e97-9f1a-bae4b811d6da",
   "metadata": {},
   "outputs": [],
   "source": [
    "import functools"
   ]
  },
  {
   "cell_type": "code",
   "execution_count": 65,
   "id": "7cd5a122-2d53-425d-985b-5d74d4e6ce76",
   "metadata": {},
   "outputs": [
    {
     "data": {
      "text/plain": [
       "int"
      ]
     },
     "execution_count": 65,
     "metadata": {},
     "output_type": "execute_result"
    }
   ],
   "source": [
    "type(functools.reduce(lambda x,y : x*y,a))"
   ]
  },
  {
   "cell_type": "code",
   "execution_count": null,
   "id": "65f336d5-05be-4ecf-9eed-e6d0b9cc4728",
   "metadata": {},
   "outputs": [],
   "source": []
  }
 ],
 "metadata": {
  "kernelspec": {
   "display_name": "Python 3 (ipykernel)",
   "language": "python",
   "name": "python3"
  },
  "language_info": {
   "codemirror_mode": {
    "name": "ipython",
    "version": 3
   },
   "file_extension": ".py",
   "mimetype": "text/x-python",
   "name": "python",
   "nbconvert_exporter": "python",
   "pygments_lexer": "ipython3",
   "version": "3.8.12"
  }
 },
 "nbformat": 4,
 "nbformat_minor": 5
}
