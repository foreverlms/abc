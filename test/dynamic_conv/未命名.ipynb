{
 "cells": [
  {
   "cell_type": "code",
   "execution_count": 1,
   "id": "97567d38-6201-47d5-9f26-7c40ec450549",
   "metadata": {},
   "outputs": [],
   "source": [
    "from torch import nn\n",
    "import torch"
   ]
  },
  {
   "cell_type": "code",
   "execution_count": 2,
   "id": "2d330d8f-676b-476f-a9eb-5e769cc75683",
   "metadata": {},
   "outputs": [],
   "source": [
    "class MyModel(nn.Module):\n",
    "    def __init__(self):\n",
    "        super(MyModel, self).__init__()\n",
    "        self.features1 = nn.Sequential(\n",
    "            nn.Conv2d(1, 3, 3, 1, 1),\n",
    "            nn.MaxPool2d(2),\n",
    "            nn.ReLU(),\n",
    "        )\n",
    "        self.features2 = nn.Sequential(\n",
    "            nn.Conv2d(1, 3, 3, 1, 1),\n",
    "            nn.MaxPool2d(2),\n",
    "            nn.ReLU(),\n",
    "        )\n",
    "        self.features3 = nn.Sequential(\n",
    "            nn.Linear(10, 5),\n",
    "            nn.ReLU(),\n",
    "        )\n",
    "\n",
    "        self.classifier = nn.Linear(128*128*3 + 32*32*3 + 5, 4)\n",
    "        \n",
    "    def forward(self, x1, x2, x3):\n",
    "        x1 = self.features1(x1)\n",
    "        x2 = self.features2(x2)\n",
    "        x3 = self.features3(x3)\n",
    "\n",
    "        x1 = x1.view(x1.data.size(0), -1)\n",
    "        x2 = x2.view(x2.data.size(0), -1)\n",
    "        x3 = x3.view(x3.data.size(0), -1)\n",
    "        \n",
    "        x = torch.cat((x1, x2, x3), dim=1)\n",
    "        x = self.classifier(x)\n",
    "        return x"
   ]
  },
  {
   "cell_type": "code",
   "execution_count": 3,
   "id": "d809eea0-e982-4a11-b5bd-84abbeec1acd",
   "metadata": {},
   "outputs": [],
   "source": [
    "x1 = torch.randn(1,1,256,256)\n",
    "x2 = torch.randn(1,1,64,64)\n",
    "x3 = torch.randn(1,10)"
   ]
  },
  {
   "cell_type": "code",
   "execution_count": 4,
   "id": "a8133f2d-240b-45a3-8e76-7c48110bc14e",
   "metadata": {},
   "outputs": [],
   "source": [
    "model = MyModel()"
   ]
  },
  {
   "cell_type": "code",
   "execution_count": 5,
   "id": "e3ea2da7-fd07-47ff-a103-081c5ed56a79",
   "metadata": {},
   "outputs": [],
   "source": [
    "output = model(x1,x2,x3)"
   ]
  },
  {
   "cell_type": "code",
   "execution_count": 6,
   "id": "b0c4ae04-01c7-49c5-8d28-58f52c7647f9",
   "metadata": {},
   "outputs": [
    {
     "name": "stdout",
     "output_type": "stream",
     "text": [
      "graph(%x1 : Float(1, 1, 256, 256),\n",
      "      %x2 : Float(1, 1, 64, 64),\n",
      "      %x3 : Float(1, 10),\n",
      "      %features1.0.weight : Float(3, 1, 3, 3),\n",
      "      %features1.0.bias : Float(3),\n",
      "      %features2.0.weight : Float(3, 1, 3, 3),\n",
      "      %features2.0.bias : Float(3),\n",
      "      %features3.0.weight : Float(5, 10),\n",
      "      %features3.0.bias : Float(5),\n",
      "      %classifier.weight : Float(4, 52229),\n",
      "      %classifier.bias : Float(4)):\n",
      "  %11 : Float(1, 3, 256, 256) = onnx::Conv[dilations=[1, 1], group=1, kernel_shape=[3, 3], pads=[1, 1, 1, 1], strides=[1, 1]](%x1, %features1.0.weight, %features1.0.bias) # /opt/anaconda3/envs/tf2/lib/python3.8/site-packages/torch/nn/modules/conv.py:341:0\n",
      "  %12 : Float(1, 3, 128, 128) = onnx::MaxPool[kernel_shape=[2, 2], pads=[0, 0, 0, 0], strides=[2, 2]](%11) # /opt/anaconda3/envs/tf2/lib/python3.8/site-packages/torch/nn/functional.py:487:0\n",
      "  %13 : Float(1, 3, 128, 128) = onnx::Relu(%12) # /opt/anaconda3/envs/tf2/lib/python3.8/site-packages/torch/nn/functional.py:914:0\n",
      "  %14 : Float(1, 3, 64, 64) = onnx::Conv[dilations=[1, 1], group=1, kernel_shape=[3, 3], pads=[1, 1, 1, 1], strides=[1, 1]](%x2, %features2.0.weight, %features2.0.bias) # /opt/anaconda3/envs/tf2/lib/python3.8/site-packages/torch/nn/modules/conv.py:341:0\n",
      "  %15 : Float(1, 3, 32, 32) = onnx::MaxPool[kernel_shape=[2, 2], pads=[0, 0, 0, 0], strides=[2, 2]](%14) # /opt/anaconda3/envs/tf2/lib/python3.8/site-packages/torch/nn/functional.py:487:0\n",
      "  %16 : Float(1, 3, 32, 32) = onnx::Relu(%15) # /opt/anaconda3/envs/tf2/lib/python3.8/site-packages/torch/nn/functional.py:914:0\n",
      "  %17 : Float(1, 5) = onnx::Gemm[alpha=1, beta=1, transB=1](%x3, %features3.0.weight, %features3.0.bias) # /opt/anaconda3/envs/tf2/lib/python3.8/site-packages/torch/nn/functional.py:1370:0\n",
      "  %18 : Float(1, 5) = onnx::Relu(%17) # /opt/anaconda3/envs/tf2/lib/python3.8/site-packages/torch/nn/functional.py:914:0\n",
      "  %19 : Float(1, 49152) = onnx::Flatten[axis=1](%13) # <ipython-input-2-737219d39cfc>:26:0\n",
      "  %20 : Float(1, 3072) = onnx::Flatten[axis=1](%16) # <ipython-input-2-737219d39cfc>:27:0\n",
      "  %21 : Float(1, 5) = onnx::Flatten[axis=1](%18) # <ipython-input-2-737219d39cfc>:28:0\n",
      "  %22 : Float(1, 52229) = onnx::Concat[axis=1](%19, %20, %21) # <ipython-input-2-737219d39cfc>:30:0\n",
      "  %output : Float(1, 4) = onnx::Gemm[alpha=1, beta=1, transB=1](%22, %classifier.weight, %classifier.bias) # /opt/anaconda3/envs/tf2/lib/python3.8/site-packages/torch/nn/functional.py:1370:0\n",
      "  return (%output)\n",
      "\n"
     ]
    }
   ],
   "source": [
    "# export net_a onnx\n",
    "\n",
    "torch.onnx.export(model,\n",
    "                 (x1,x2,x3),\n",
    "                  \"demo_multiinput.onnx\",\n",
    "                 export_params = True,\n",
    "                 input_names = [\"x1\",\"x2\",\"x3\"],\n",
    "                  output_names = [\"output\"],\n",
    "                  opset_version = 9,\n",
    "                  verbose = True\n",
    "                 )"
   ]
  },
  {
   "cell_type": "code",
   "execution_count": 7,
   "id": "fea2cfcf-6db1-4282-8941-c7c6bcfb7d50",
   "metadata": {},
   "outputs": [],
   "source": [
    "t_x1 = x1.permute((0,2,3,1)).flatten()\n",
    "t_x2 = x2.permute((0,2,3,1)).flatten()"
   ]
  },
  {
   "cell_type": "code",
   "execution_count": 8,
   "id": "fec2afe9-4425-41ef-9ed3-fd805cf52273",
   "metadata": {},
   "outputs": [],
   "source": [
    "torch.cat([t_x1,t_x2,x1.flatten()]).numpy().tofile(\"./input.bin\")"
   ]
  },
  {
   "cell_type": "code",
   "execution_count": 23,
   "id": "98584c2c-2dce-4435-a775-24f9cf898f37",
   "metadata": {},
   "outputs": [
    {
     "data": {
      "text/plain": [
       "135168"
      ]
     },
     "execution_count": 23,
     "metadata": {},
     "output_type": "execute_result"
    }
   ],
   "source": [
    "torch.cat([t_x1,t_x2,x1.flatten()]).numel()"
   ]
  },
  {
   "cell_type": "code",
   "execution_count": 24,
   "id": "091f3a01-e153-479c-a8b6-a5d57718257b",
   "metadata": {},
   "outputs": [
    {
     "data": {
      "text/plain": [
       "540672"
      ]
     },
     "execution_count": 24,
     "metadata": {},
     "output_type": "execute_result"
    }
   ],
   "source": [
    "135168 * 4"
   ]
  },
  {
   "cell_type": "code",
   "execution_count": null,
   "id": "c082f501-9600-40d2-8931-2875ab15cfa3",
   "metadata": {},
   "outputs": [],
   "source": []
  }
 ],
 "metadata": {
  "kernelspec": {
   "display_name": "Python 3 (ipykernel)",
   "language": "python",
   "name": "python3"
  },
  "language_info": {
   "codemirror_mode": {
    "name": "ipython",
    "version": 3
   },
   "file_extension": ".py",
   "mimetype": "text/x-python",
   "name": "python",
   "nbconvert_exporter": "python",
   "pygments_lexer": "ipython3",
   "version": "3.8.12"
  }
 },
 "nbformat": 4,
 "nbformat_minor": 5
}
