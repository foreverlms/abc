{
 "cells": [
  {
   "cell_type": "code",
   "execution_count": 3,
   "id": "619b6aac-ea04-4753-a395-1ec6f0b93d59",
   "metadata": {},
   "outputs": [],
   "source": [
    "import os\n",
    "import pandas\n",
    "import json"
   ]
  },
  {
   "cell_type": "code",
   "execution_count": 85,
   "id": "b3473e81-2e40-4c20-99bc-a6f97ddd774b",
   "metadata": {},
   "outputs": [],
   "source": [
    "sample_json = \"\"\"\n",
    "{\n",
    "    \"curTimeStamp\":1623909560,\n",
    "    \"extra\":{\n",
    "        \"inputData\":\"[2.0, 5.0, 500.0, 501.0, 500.0, 501.0, 501.0, -1.0, -1.0, -1.0, -1.0, -1.0, -1.0, -1.0, -1.0, -1.0, -1.0, 0.0, 0.0, 0.0, 0.0, 0.0, -1.0, -1.0, -1.0, -1.0, -1.0, -1.0, -1.0, -1.0, -1.0, -1.0, -1.0, -1.0, -1.0, -1.0, -1.0, -1.0, -1.0, -1.0, -1.0, -1.0, 0.0, 0.0, 0.0, 0.0, 0.0, 0.0, 0.0, 0.0, 0.0, 0.0, 0.0, 0.0, 0.0, 0.0, 0.0, 0.0, 0.0, 0.0, 0.0, 0.0, 7.0, 0.0]\",\n",
    "        \"featList\":\"[nqe_effective_net_type, network_type, duration_0, duration_1, duration_2, duration_3, duration_4, ttfb_0, ttfb_1, ttfb_2, ttfb_3, ttfb_4, timing_send_0, timing_send_1, timing_send_2, timing_send_3, timing_send_4, timing_wait_0, timing_wait_1, timing_wait_2, timing_wait_3, timing_wait_4, timing_receive_0, timing_receive_1, timing_receive_2, timing_receive_3, timing_receive_4, timing_total_0, timing_total_1, timing_total_2, timing_total_3, timing_total_4, timing_totalReceivedBytes_0, timing_totalReceivedBytes_1, timing_totalReceivedBytes_2, timing_totalReceivedBytes_3, timing_totalReceivedBytes_4, timing_totalSendBytes_0, timing_totalSendBytes_1, timing_totalSendBytes_2, timing_totalSendBytes_3, timing_totalSendBytes_4, avg_speed_0, avg_speed_1, avg_speed_2, avg_speed_3, avg_speed_4, nqe_tcp_rtt_0, nqe_tcp_rtt_1, nqe_tcp_rtt_2, nqe_tcp_rtt_3, nqe_tcp_rtt_4, nqe_http_rtt_0, nqe_http_rtt_1, nqe_http_rtt_2, nqe_http_rtt_3, nqe_http_rtt_4, nqe_downlink_throughput_0, nqe_downlink_throughput_1, nqe_downlink_throughput_2, nqe_downlink_throughput_3, nqe_downlink_throughput_4, service_code, cdn_name_code]\"\n",
    "    }\n",
    "}\n",
    "\"\"\""
   ]
  },
  {
   "cell_type": "code",
   "execution_count": 86,
   "id": "79090b70-20bb-406e-a4dc-f6b29f6ac6fb",
   "metadata": {},
   "outputs": [],
   "source": [
    "header = json.loads(sample_json)['extra']['featList'].strip('[]').split(',')"
   ]
  },
  {
   "cell_type": "code",
   "execution_count": 87,
   "id": "0f75d94c-2746-424f-8765-132d47a0c4ed",
   "metadata": {},
   "outputs": [],
   "source": [
    "header = [\"curTimeStamp\"] + header\n",
    "\n",
    "header = [h.strip() for h in header]"
   ]
  },
  {
   "cell_type": "code",
   "execution_count": 88,
   "id": "1e714c17-fca5-4251-ab2c-5b2087c4f9c4",
   "metadata": {},
   "outputs": [],
   "source": [
    "data_to_write = []\n"
   ]
  },
  {
   "cell_type": "code",
   "execution_count": 89,
   "id": "2c5740b0-e06c-48d6-91eb-034ad5153174",
   "metadata": {},
   "outputs": [],
   "source": [
    "results = []"
   ]
  },
  {
   "cell_type": "code",
   "execution_count": 90,
   "id": "5464ff2a-8487-42e1-ad51-52589f3a26c0",
   "metadata": {},
   "outputs": [],
   "source": [
    "with open(\"/Users/bob/Desktop/android_log.txt\",'r') as f:\n",
    "    start_pattern = \"D/AiService:  input=\"\n",
    "    for line in f:\n",
    "        if line.startswith(start_pattern):\n",
    "            data_str = line.split('=')[1]\n",
    "            json_obj = json.loads(data_str)\n",
    "            timestamp = json_obj['curTimeStamp']\n",
    "            data = json.loads(json_obj['extra']['inputData'])\n",
    "            data = [int(timestamp)] + data\n",
    "            data_to_write.append(data)\n",
    "        if line.startswith(\"I/AiService: predict result:\"):\n",
    "            results.append(line.split(\":\")[2])"
   ]
  },
  {
   "cell_type": "code",
   "execution_count": 91,
   "id": "a91c4a1a-319f-4ed3-bf1a-0e98371596bd",
   "metadata": {},
   "outputs": [
    {
     "data": {
      "text/plain": [
       "166"
      ]
     },
     "execution_count": 91,
     "metadata": {},
     "output_type": "execute_result"
    }
   ],
   "source": [
    "len(data_to_write)"
   ]
  },
  {
   "cell_type": "code",
   "execution_count": 92,
   "id": "e1d00465-6eae-4991-bc5c-b7858bddf60a",
   "metadata": {},
   "outputs": [
    {
     "data": {
      "text/plain": [
       "83"
      ]
     },
     "execution_count": 92,
     "metadata": {},
     "output_type": "execute_result"
    }
   ],
   "source": [
    "len(results)"
   ]
  },
  {
   "cell_type": "code",
   "execution_count": 93,
   "id": "08dfa9b5-0ff1-443d-9442-92439c970d42",
   "metadata": {},
   "outputs": [],
   "source": [
    "df = pandas.DataFrame(data=data_to_write, columns = header)"
   ]
  },
  {
   "cell_type": "code",
   "execution_count": 95,
   "id": "0d59e244-884c-4828-98f8-00fbb2486789",
   "metadata": {},
   "outputs": [],
   "source": [
    "df.to_csv(\"./debug_data.csv\")"
   ]
  },
  {
   "cell_type": "code",
   "execution_count": 98,
   "id": "2da76f92-2d1b-4cfe-a174-ae48f97a350b",
   "metadata": {},
   "outputs": [
    {
     "data": {
      "text/plain": [
       "-1.0      134\n",
       " 138.0     14\n",
       " 106.0     14\n",
       " 354.0      2\n",
       " 42.0       2\n",
       "Name: ttfb_0, dtype: int64"
      ]
     },
     "execution_count": 98,
     "metadata": {},
     "output_type": "execute_result"
    }
   ],
   "source": [
    "df.ttfb_0.value_counts()"
   ]
  },
  {
   "cell_type": "code",
   "execution_count": null,
   "id": "d557f3e8-1950-4d7c-af48-c1ac327aa2e6",
   "metadata": {},
   "outputs": [],
   "source": []
  }
 ],
 "metadata": {
  "kernelspec": {
   "display_name": "Python 3",
   "language": "python",
   "name": "python3"
  },
  "language_info": {
   "codemirror_mode": {
    "name": "ipython",
    "version": 3
   },
   "file_extension": ".py",
   "mimetype": "text/x-python",
   "name": "python",
   "nbconvert_exporter": "python",
   "pygments_lexer": "ipython3",
   "version": "3.8.5"
  }
 },
 "nbformat": 4,
 "nbformat_minor": 5
}
