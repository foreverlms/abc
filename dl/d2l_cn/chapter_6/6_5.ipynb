{
 "cells": [
  {
   "cell_type": "code",
   "execution_count": 1,
   "metadata": {},
   "outputs": [],
   "source": [
    "import time\n",
    "import torch\n",
    "import numpy as np\n",
    "from torch import nn, optim\n",
    "import torch.nn.functional as F\n",
    "import math\n",
    "\n",
    "import sys\n",
    "sys.path.append(\"../..\")"
   ]
  },
  {
   "cell_type": "code",
   "execution_count": 2,
   "metadata": {},
   "outputs": [],
   "source": [
    "from d2l import d2l_cn as d2l"
   ]
  },
  {
   "cell_type": "code",
   "execution_count": 3,
   "metadata": {},
   "outputs": [],
   "source": [
    "device = torch.device('cuda' if torch.cuda.is_available() else 'cpu')"
   ]
  },
  {
   "cell_type": "code",
   "execution_count": 4,
   "metadata": {},
   "outputs": [],
   "source": [
    "(corpus_indices, char_to_idx, idx_to_char, vocab_size) = d2l.load_data_jay_lyrics()"
   ]
  },
  {
   "cell_type": "code",
   "execution_count": 5,
   "metadata": {},
   "outputs": [],
   "source": [
    "num_hiddens = 256"
   ]
  },
  {
   "cell_type": "code",
   "execution_count": 6,
   "metadata": {},
   "outputs": [],
   "source": [
    "rnn_layer = nn.RNN(input_size = vocab_size, hidden_size = num_hiddens)"
   ]
  },
  {
   "cell_type": "code",
   "execution_count": 7,
   "metadata": {},
   "outputs": [],
   "source": [
    "num_steps = 35\n",
    "batch_size = 2\n",
    "state = None\n",
    "X = torch.rand(num_steps,batch_size,vocab_size)\n",
    "Y, state_new = rnn_layer(X,state)"
   ]
  },
  {
   "cell_type": "code",
   "execution_count": 8,
   "metadata": {},
   "outputs": [
    {
     "name": "stdout",
     "output_type": "stream",
     "text": [
      "torch.Size([35, 2, 256]) 1 torch.Size([2, 256])\n"
     ]
    }
   ],
   "source": [
    "print(Y.shape, len(state_new), state_new[0].shape)\n",
    "#Y 是rnn的输出\n",
    "#state_new是最新的隐藏层状态"
   ]
  },
  {
   "cell_type": "code",
   "execution_count": 9,
   "metadata": {},
   "outputs": [],
   "source": [
    "class RNNModule(nn.Module):\n",
    "    def __init__(self,rnn_layer,vocab_size):\n",
    "        super(RNNModule,self).__init__()\n",
    "        self.rnn = rnn_layer\n",
    "        self.hidden_size = rnn_layer.hidden_size * (2 if rnn_layer.bidirectional else 1)\n",
    "        self.vocab_size = vocab_size\n",
    "        self.dense = nn.Linear(self.hidden_size,vocab_size)\n",
    "        self.state = None\n",
    "    \n",
    "    def forward(self,inputs,state):\n",
    "        #inputs (batch, seq_len)\n",
    "        X = d2l.to_onehot(inputs,self.vocab_size)\n",
    "        Y, self.state = self.rnn(torch.stack(X),state)\n",
    "        output = self.dense(Y.view(-1,Y.shape[-1]))\n",
    "        return output, self.state"
   ]
  },
  {
   "cell_type": "code",
   "execution_count": 10,
   "metadata": {},
   "outputs": [],
   "source": [
    "def predict_rnn_pytorch(prefix, num_chars, model, vocab_size, device, idx_to_char, char_to_idx):\n",
    "    state = None\n",
    "    #output包含输入前缀\n",
    "    output = [char_to_idx[prefix[0]]]\n",
    "    \n",
    "    for t in range(num_chars + len(prefix) - 1):\n",
    "        X = torch.tensor([output[-1]],device=device).view(1,1)\n",
    "        if state is not None:\n",
    "            if isinstance(state,tuple):#这种情况是LSTM网络\n",
    "                state = (state[0].to(device),state[1].to(device))\n",
    "            else:\n",
    "                state = state.to(device)\n",
    "        \n",
    "        (Y,state) = model(X,state)\n",
    "        if t<len(prefix) -1:\n",
    "            #如果时间步还是在前缀里，直接拿前缀的字符\n",
    "            output.append(char_to_idx[prefix[t+1]])\n",
    "        else:\n",
    "            output.append(int(Y.argmax(dim=1).item()))\n",
    "        \n",
    "    return ''.join([idx_to_char[i] for i in output] )\n",
    "                "
   ]
  },
  {
   "cell_type": "code",
   "execution_count": 11,
   "metadata": {},
   "outputs": [],
   "source": [
    "model = RNNModule(rnn_layer,vocab_size).to(device)"
   ]
  },
  {
   "cell_type": "code",
   "execution_count": 12,
   "metadata": {},
   "outputs": [
    {
     "data": {
      "text/plain": [
       "'分开葬背背背背背背背背背'"
      ]
     },
     "execution_count": 12,
     "metadata": {},
     "output_type": "execute_result"
    }
   ],
   "source": [
    "predict_rnn_pytorch('分开',10,model,vocab_size,device,idx_to_char,char_to_idx)"
   ]
  },
  {
   "cell_type": "code",
   "execution_count": 13,
   "metadata": {},
   "outputs": [],
   "source": [
    "def train_and_predict_rnn_pytorch(model, num_hiddens, vocab_size, device,\n",
    "                                corpus_indices, idx_to_char, char_to_idx,\n",
    "                                num_epochs, num_steps, lr, clipping_theta,\n",
    "                                batch_size, pred_period, pred_len, prefixes):\n",
    "    loss = nn.CrossEntropyLoss()\n",
    "    optimizer = torch.optim.Adam(model.parameters(),lr=lr)\n",
    "    \n",
    "    model.to(device)\n",
    "    \n",
    "    state = None\n",
    "    for epoch in range(num_epochs):\n",
    "        l_sum, n, start = 0.0, 0, time.time()\n",
    "        \n",
    "        data_iter = d2l. data_iter_consecutive(corpus_indices,batch_size,num_steps,device)#相邻采样\n",
    "        \n",
    "        for X, Y in data_iter:\n",
    "            if state is not None:\n",
    "                if isinstance(state,tuple):#LSTM\n",
    "                    state = (state[0].detach(), state[1].detach())\n",
    "                else:\n",
    "                    state = state.detach()#从计算图剥离\n",
    "            \n",
    "            (output, state) = model(X,state)#output: 形状为(num_steps * batch_size, vocab_size)\n",
    "            \n",
    "            # Y的形状是(batch_size, num_steps)，转置后再变成长度为\n",
    "            # batch * num_steps 的向量，这样跟输出的行一一对应\n",
    "            y = torch.transpose(Y,0,1).contiguous().view(-1)\n",
    "            l = loss(output,y.long())\n",
    "            \n",
    "            optimizer.zero_grad()\n",
    "            #反向传播\n",
    "            l.backward()\n",
    "            d2l.grad_clipping(model.parameters(),clipping_theta,device)\n",
    "            optimizer.step()\n",
    "            #为啥要乘一下？\n",
    "            l_sum+=l.item()*y.shape[0]\n",
    "            n+=y.shape[0]\n",
    "            \n",
    "        try:\n",
    "            perplexity = math.exp(l_sum/n)\n",
    "        except OverflowError:\n",
    "            perplexity = float('inf')\n",
    "        \n",
    "        if (epoch + 1) % pred_period == 0:\n",
    "            print('epoch %d, perplexity %f, time %.2f sec' % (\n",
    "                epoch + 1, perplexity, time.time() - start))\n",
    "            for prefix in prefixes:\n",
    "                print(' -', predict_rnn_pytorch(\n",
    "                    prefix, pred_len, model, vocab_size, device, idx_to_char,\n",
    "                    char_to_idx))"
   ]
  },
  {
   "cell_type": "code",
   "execution_count": 14,
   "metadata": {},
   "outputs": [
    {
     "name": "stdout",
     "output_type": "stream",
     "text": [
      "epoch 50, perplexity 1.979730, time 2.95 sec\n",
      " - 分开 为什么这样子巷　 所有人们都很美主义 太彻底 分手当作我的开意  我们进武情在演下 一步两步三步四\n",
      " - 不分开 爱你的美不 你来难过 只是你们的爱情 再给我一种 所有回忆 我用第臂人开始使用第一人称在飘移青春 \n",
      "epoch 100, perplexity 1.085944, time 3.45 sec\n",
      " - 分开 爱去的思念 不要有 才能够明白 我想想起 嘴角色刀调 你小命 是因为一点也许时还是不在远气　别会微\n",
      " - 不分开 为什么这样子我全拉着我 也还有种全神 我会学着我的方 这么简单你做不到 但们当朋友 泪是清晰的爱你\n",
      "epoch 150, perplexity 1.044751, time 2.94 sec\n",
      " - 分开 为什么想 我开你的话 好像 认真的男人最美丽 风 是否在她里 里懂西七看到 到你的身影 街上的一切\n",
      " - 不分开 为什么证明被别人的手前 你用手牵手 你身为我手猜 所以你弃权到我对你的想 当我这第一个人的梦会绕过\n",
      "epoch 200, perplexity 1.032920, time 3.01 sec\n",
      " - 分开 爱他的思是你不要让我也能不能不能太爱情 是因开没有办法 用来的方式 我们都还很年幼 而如今琴声幽幽\n",
      " - 不分开 爱你的爱情 就是我一直接 我要你离开 回忆很可爱没有祝福的话怎么每后每天都 我要我还要会抱 我说的\n",
      "epoch 250, perplexity 1.032565, time 3.04 sec\n",
      " - 分开 爱恨的对不 就算是因为在乎再不 用力在我中给的承诺 你说我若一个人会比较自由 我不懂你说什么 反正\n",
      " - 不分开 爱你的嘴角 微眼中撑伞 谁在练箭之后 镜里的世界 越过越远的道别 你转身向背 侧脸还是很美 我用眼\n"
     ]
    }
   ],
   "source": [
    "num_epochs, batch_size, lr, clipping_theta = 250, 32, 1e-3, 1e-2 # 注意这里的学习率设置\n",
    "pred_period, pred_len, prefixes = 50, 50, ['分开', '不分开']\n",
    "train_and_predict_rnn_pytorch(model, num_hiddens, vocab_size, device,\n",
    "                            corpus_indices, idx_to_char, char_to_idx,\n",
    "                            num_epochs, num_steps, lr, clipping_theta,\n",
    "                            batch_size, pred_period, pred_len, prefixes)"
   ]
  },
  {
   "cell_type": "code",
   "execution_count": null,
   "metadata": {},
   "outputs": [],
   "source": []
  }
 ],
 "metadata": {
  "kernelspec": {
   "display_name": "Python 3",
   "language": "python",
   "name": "python3"
  },
  "language_info": {
   "codemirror_mode": {
    "name": "ipython",
    "version": 3
   },
   "file_extension": ".py",
   "mimetype": "text/x-python",
   "name": "python",
   "nbconvert_exporter": "python",
   "pygments_lexer": "ipython3",
   "version": "3.7.9"
  }
 },
 "nbformat": 4,
 "nbformat_minor": 4
}
