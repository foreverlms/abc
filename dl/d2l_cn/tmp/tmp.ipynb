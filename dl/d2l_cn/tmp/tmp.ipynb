{
 "cells": [
  {
   "cell_type": "code",
   "execution_count": 1,
   "metadata": {},
   "outputs": [],
   "source": [
    "import numpy as np\n",
    "np_load_old = np.load\n",
    "\n",
    "# modify the default parameters of np.load\n",
    "np.load = lambda *a,**k: np_load_old(*a, allow_pickle=True, **k)"
   ]
  },
  {
   "cell_type": "code",
   "execution_count": 2,
   "metadata": {},
   "outputs": [],
   "source": [
    "import tensorflow as tf"
   ]
  },
  {
   "cell_type": "code",
   "execution_count": 3,
   "metadata": {},
   "outputs": [],
   "source": [
    "np_input = np.load(\"/Users/bob/docs/ByteDance/espresso/bert语音模型/task_input.npy\")"
   ]
  },
  {
   "cell_type": "code",
   "execution_count": 4,
   "metadata": {},
   "outputs": [],
   "source": [
    "np_arr = np_input.item()['src_tokens']"
   ]
  },
  {
   "cell_type": "code",
   "execution_count": 5,
   "metadata": {},
   "outputs": [
    {
     "data": {
      "text/plain": [
       "(1, 1, 1035, 80)"
      ]
     },
     "execution_count": 5,
     "metadata": {},
     "output_type": "execute_result"
    }
   ],
   "source": [
    "np_arr.shape"
   ]
  },
  {
   "cell_type": "code",
   "execution_count": 6,
   "metadata": {},
   "outputs": [],
   "source": [
    "np_output = np.load(\"/Users/bob/docs/ByteDance/espresso/bert语音模型/task_output.npy\")"
   ]
  },
  {
   "cell_type": "code",
   "execution_count": 7,
   "metadata": {},
   "outputs": [
    {
     "data": {
      "text/plain": [
       "(259, 365, 1)"
      ]
     },
     "execution_count": 7,
     "metadata": {},
     "output_type": "execute_result"
    }
   ],
   "source": [
    "np_output.shape"
   ]
  },
  {
   "cell_type": "code",
   "execution_count": 8,
   "metadata": {},
   "outputs": [
    {
     "data": {
      "text/plain": [
       "-2.79738"
      ]
     },
     "execution_count": 8,
     "metadata": {},
     "output_type": "execute_result"
    }
   ],
   "source": [
    "np_output[0,0,0]"
   ]
  },
  {
   "cell_type": "code",
   "execution_count": 9,
   "metadata": {},
   "outputs": [
    {
     "data": {
      "text/plain": [
       "array([[[-2.79738  ],\n",
       "        [-3.4349728],\n",
       "        [-2.8072953],\n",
       "        ...,\n",
       "        [-3.2976322],\n",
       "        [-2.8735304],\n",
       "        [19.57089  ]],\n",
       "\n",
       "       [[-3.429833 ],\n",
       "        [-4.1716685],\n",
       "        [-3.5441985],\n",
       "        ...,\n",
       "        [-3.7744877],\n",
       "        [-3.2619812],\n",
       "        [20.053272 ]],\n",
       "\n",
       "       [[-3.3450122],\n",
       "        [-4.140708 ],\n",
       "        [-3.5107887],\n",
       "        ...,\n",
       "        [-3.720094 ],\n",
       "        [-3.1962402],\n",
       "        [21.238876 ]],\n",
       "\n",
       "       ...,\n",
       "\n",
       "       [[-3.4010704],\n",
       "        [-4.1311517],\n",
       "        [-3.4937804],\n",
       "        ...,\n",
       "        [-3.676906 ],\n",
       "        [-3.205554 ],\n",
       "        [20.92643  ]],\n",
       "\n",
       "       [[-3.3726852],\n",
       "        [-4.092108 ],\n",
       "        [-3.4722443],\n",
       "        ...,\n",
       "        [-3.6262994],\n",
       "        [-3.1819704],\n",
       "        [20.849691 ]],\n",
       "\n",
       "       [[-3.2890878],\n",
       "        [-3.7752538],\n",
       "        [-3.212875 ],\n",
       "        ...,\n",
       "        [-3.4127398],\n",
       "        [-3.0322008],\n",
       "        [20.083883 ]]], dtype=float32)"
      ]
     },
     "execution_count": 9,
     "metadata": {},
     "output_type": "execute_result"
    }
   ],
   "source": [
    "np_output"
   ]
  },
  {
   "cell_type": "code",
   "execution_count": 10,
   "metadata": {},
   "outputs": [],
   "source": [
    "input_tf = tf.convert_to_tensor(np_arr)"
   ]
  },
  {
   "cell_type": "code",
   "execution_count": 11,
   "metadata": {},
   "outputs": [
    {
     "data": {
      "text/plain": [
       "<tf.Tensor: id=0, shape=(1, 1, 1035, 80), dtype=float32, numpy=\n",
       "array([[[[1.25762602e+05, 4.55268906e+05, 1.09248238e+06, ...,\n",
       "          2.24462866e+03, 2.28380957e+03, 1.59074036e+03],\n",
       "         [3.47812266e+04, 1.25910336e+05, 6.75793984e+04, ...,\n",
       "          1.41818677e+03, 1.60462073e+03, 2.04070081e+03],\n",
       "         [1.28189951e+04, 4.64056055e+04, 1.08342510e+04, ...,\n",
       "          1.20898462e+03, 1.11889746e+03, 1.23886829e+03],\n",
       "         ...,\n",
       "         [3.42566589e+02, 1.24011365e+03, 6.15149072e+03, ...,\n",
       "          4.00663666e+02, 9.11805847e+02, 2.36981476e+02],\n",
       "         [3.37475166e+01, 1.22168243e+02, 2.26967212e+03, ...,\n",
       "          2.71180603e+02, 7.58971619e+02, 8.54325806e+02],\n",
       "         [3.58467560e+02, 1.29767627e+03, 3.36008110e+01, ...,\n",
       "          4.74133209e+02, 2.10968918e+02, 7.68129944e+02]]]],\n",
       "      dtype=float32)>"
      ]
     },
     "execution_count": 11,
     "metadata": {},
     "output_type": "execute_result"
    }
   ],
   "source": [
    "input_tf"
   ]
  },
  {
   "cell_type": "code",
   "execution_count": 12,
   "metadata": {},
   "outputs": [],
   "source": [
    "nhwc_input_tf = tf.transpose(input_tf,[0, 2, 3, 1])"
   ]
  },
  {
   "cell_type": "code",
   "execution_count": 13,
   "metadata": {},
   "outputs": [
    {
     "data": {
      "text/plain": [
       "<tf.Tensor: id=2, shape=(1, 1035, 80, 1), dtype=float32, numpy=\n",
       "array([[[[1.25762602e+05],\n",
       "         [4.55268906e+05],\n",
       "         [1.09248238e+06],\n",
       "         ...,\n",
       "         [2.24462866e+03],\n",
       "         [2.28380957e+03],\n",
       "         [1.59074036e+03]],\n",
       "\n",
       "        [[3.47812266e+04],\n",
       "         [1.25910336e+05],\n",
       "         [6.75793984e+04],\n",
       "         ...,\n",
       "         [1.41818677e+03],\n",
       "         [1.60462073e+03],\n",
       "         [2.04070081e+03]],\n",
       "\n",
       "        [[1.28189951e+04],\n",
       "         [4.64056055e+04],\n",
       "         [1.08342510e+04],\n",
       "         ...,\n",
       "         [1.20898462e+03],\n",
       "         [1.11889746e+03],\n",
       "         [1.23886829e+03]],\n",
       "\n",
       "        ...,\n",
       "\n",
       "        [[3.42566589e+02],\n",
       "         [1.24011365e+03],\n",
       "         [6.15149072e+03],\n",
       "         ...,\n",
       "         [4.00663666e+02],\n",
       "         [9.11805847e+02],\n",
       "         [2.36981476e+02]],\n",
       "\n",
       "        [[3.37475166e+01],\n",
       "         [1.22168243e+02],\n",
       "         [2.26967212e+03],\n",
       "         ...,\n",
       "         [2.71180603e+02],\n",
       "         [7.58971619e+02],\n",
       "         [8.54325806e+02]],\n",
       "\n",
       "        [[3.58467560e+02],\n",
       "         [1.29767627e+03],\n",
       "         [3.36008110e+01],\n",
       "         ...,\n",
       "         [4.74133209e+02],\n",
       "         [2.10968918e+02],\n",
       "         [7.68129944e+02]]]], dtype=float32)>"
      ]
     },
     "execution_count": 13,
     "metadata": {},
     "output_type": "execute_result"
    }
   ],
   "source": [
    "nhwc_input_tf"
   ]
  },
  {
   "cell_type": "code",
   "execution_count": 14,
   "metadata": {},
   "outputs": [],
   "source": [
    "nhwc_np = nhwc_input_tf.numpy()"
   ]
  },
  {
   "cell_type": "code",
   "execution_count": 15,
   "metadata": {},
   "outputs": [
    {
     "data": {
      "text/plain": [
       "array([[[[1.25762602e+05],\n",
       "         [4.55268906e+05],\n",
       "         [1.09248238e+06],\n",
       "         ...,\n",
       "         [2.24462866e+03],\n",
       "         [2.28380957e+03],\n",
       "         [1.59074036e+03]],\n",
       "\n",
       "        [[3.47812266e+04],\n",
       "         [1.25910336e+05],\n",
       "         [6.75793984e+04],\n",
       "         ...,\n",
       "         [1.41818677e+03],\n",
       "         [1.60462073e+03],\n",
       "         [2.04070081e+03]],\n",
       "\n",
       "        [[1.28189951e+04],\n",
       "         [4.64056055e+04],\n",
       "         [1.08342510e+04],\n",
       "         ...,\n",
       "         [1.20898462e+03],\n",
       "         [1.11889746e+03],\n",
       "         [1.23886829e+03]],\n",
       "\n",
       "        ...,\n",
       "\n",
       "        [[3.42566589e+02],\n",
       "         [1.24011365e+03],\n",
       "         [6.15149072e+03],\n",
       "         ...,\n",
       "         [4.00663666e+02],\n",
       "         [9.11805847e+02],\n",
       "         [2.36981476e+02]],\n",
       "\n",
       "        [[3.37475166e+01],\n",
       "         [1.22168243e+02],\n",
       "         [2.26967212e+03],\n",
       "         ...,\n",
       "         [2.71180603e+02],\n",
       "         [7.58971619e+02],\n",
       "         [8.54325806e+02]],\n",
       "\n",
       "        [[3.58467560e+02],\n",
       "         [1.29767627e+03],\n",
       "         [3.36008110e+01],\n",
       "         ...,\n",
       "         [4.74133209e+02],\n",
       "         [2.10968918e+02],\n",
       "         [7.68129944e+02]]]], dtype=float32)"
      ]
     },
     "execution_count": 15,
     "metadata": {},
     "output_type": "execute_result"
    }
   ],
   "source": [
    "nhwc_np"
   ]
  },
  {
   "cell_type": "markdown",
   "metadata": {},
   "source": [
    "np.savetxt(\"input.txt\",nhwc_np.flatten())"
   ]
  },
  {
   "cell_type": "markdown",
   "metadata": {},
   "source": [
    "fw = open(\"input_data.txt\",\"w\")\n",
    "with open(\"input.txt\",\"r\") as f:\n",
    "    lines = f.readlines();\n",
    "    for line in lines:\n",
    "        new_line = line.replace('\\n','')\n",
    "        new_line = new_line + r',' + '\\n'\n",
    "        fw.write(new_line)"
   ]
  },
  {
   "cell_type": "code",
   "execution_count": 16,
   "metadata": {},
   "outputs": [
    {
     "data": {
      "text/plain": [
       "-2.79738"
      ]
     },
     "execution_count": 16,
     "metadata": {},
     "output_type": "execute_result"
    }
   ],
   "source": [
    "np_output[0,0,0]"
   ]
  },
  {
   "cell_type": "code",
   "execution_count": 17,
   "metadata": {},
   "outputs": [
    {
     "name": "stdout",
     "output_type": "stream",
     "text": [
      "-2.79738\n",
      "-3.4349728\n",
      "-2.8072953\n",
      "-2.7529569\n",
      "-2.9176917\n",
      "-2.5937123\n",
      "-2.9921324\n",
      "-2.829307\n",
      "-3.4564724\n",
      "-3.0959613\n"
     ]
    }
   ],
   "source": [
    "for i in range(10):\n",
    "    print(np_output[0,i,0])"
   ]
  },
  {
   "cell_type": "code",
   "execution_count": 18,
   "metadata": {},
   "outputs": [
    {
     "data": {
      "text/plain": [
       "TensorShape([1, 1, 1035, 80])"
      ]
     },
     "execution_count": 18,
     "metadata": {},
     "output_type": "execute_result"
    }
   ],
   "source": [
    "input_tf.shape"
   ]
  },
  {
   "cell_type": "code",
   "execution_count": 19,
   "metadata": {},
   "outputs": [
    {
     "data": {
      "text/plain": [
       "array([[[[1.25762602e+05, 4.55268906e+05, 1.09248238e+06, ...,\n",
       "          2.24462866e+03, 2.28380957e+03, 1.59074036e+03],\n",
       "         [3.47812266e+04, 1.25910336e+05, 6.75793984e+04, ...,\n",
       "          1.41818677e+03, 1.60462073e+03, 2.04070081e+03],\n",
       "         [1.28189951e+04, 4.64056055e+04, 1.08342510e+04, ...,\n",
       "          1.20898462e+03, 1.11889746e+03, 1.23886829e+03],\n",
       "         ...,\n",
       "         [3.42566589e+02, 1.24011365e+03, 6.15149072e+03, ...,\n",
       "          4.00663666e+02, 9.11805847e+02, 2.36981476e+02],\n",
       "         [3.37475166e+01, 1.22168243e+02, 2.26967212e+03, ...,\n",
       "          2.71180603e+02, 7.58971619e+02, 8.54325806e+02],\n",
       "         [3.58467560e+02, 1.29767627e+03, 3.36008110e+01, ...,\n",
       "          4.74133209e+02, 2.10968918e+02, 7.68129944e+02]]]],\n",
       "      dtype=float32)"
      ]
     },
     "execution_count": 19,
     "metadata": {},
     "output_type": "execute_result"
    }
   ],
   "source": [
    "input_tf.numpy()"
   ]
  },
  {
   "cell_type": "code",
   "execution_count": 21,
   "metadata": {},
   "outputs": [
    {
     "name": "stdout",
     "output_type": "stream",
     "text": [
      "-2.79738\n",
      "-3.4349728\n",
      "-2.8072953\n",
      "-2.7529569\n",
      "-2.9176917\n",
      "-2.5937123\n",
      "-2.9921324\n",
      "-2.829307\n",
      "-3.4564724\n",
      "-3.0959613\n",
      "4.0753984\n",
      "-3.1662552\n",
      "-2.505514\n",
      "-2.8455827\n",
      "-2.8732767\n",
      "-1.6529224\n",
      "-6.3917875\n",
      "-2.2620463\n",
      "-3.108081\n",
      "4.298729\n",
      "-2.1619928\n",
      "2.2409892\n",
      "2.149142\n",
      "1.257595\n",
      "-8.99403\n",
      "-0.27971876\n",
      "-2.7072163\n",
      "-3.0040417\n",
      "-3.3724318\n",
      "-2.643643\n",
      "-2.9943871\n",
      "0.31761956\n",
      "-2.914155\n",
      "-5.7642508\n",
      "-3.1165388\n",
      "5.4563274\n",
      "0.5856713\n",
      "3.9974344\n",
      "-2.709906\n",
      "0.20105597\n",
      "-2.733605\n",
      "0.40190578\n",
      "-3.1328635\n",
      "-2.7355533\n",
      "-2.4227076\n",
      "-3.1506178\n",
      "-3.402371\n",
      "6.039572\n",
      "3.7430549\n",
      "3.4454503\n",
      "5.325312\n",
      "5.585564\n",
      "-5.418111\n",
      "2.2560487\n",
      "0.43129987\n",
      "-1.1704848\n",
      "-3.8578186\n",
      "-1.9741751\n",
      "-2.7255766\n",
      "-2.6671982\n",
      "-2.7909856\n",
      "-3.3161666\n",
      "-3.0152507\n",
      "-0.42805776\n",
      "-4.649391\n",
      "-4.300238\n",
      "-2.6236944\n",
      "4.296343\n",
      "-6.05145\n",
      "1.3562549\n",
      "-0.33236337\n",
      "0.58398426\n",
      "-5.888913\n",
      "-2.1493607\n",
      "-2.8183544\n",
      "-3.2411797\n",
      "-2.67486\n",
      "-2.9340637\n",
      "-3.2669644\n",
      "0.0015812516\n",
      "-4.611634\n",
      "-12.176823\n",
      "-3.1568022\n",
      "2.9637177\n",
      "1.4699599\n",
      "-0.17971207\n",
      "-2.860958\n",
      "-3.9235368\n",
      "-9.957354\n",
      "-4.401741\n",
      "-2.7727609\n",
      "-2.383861\n",
      "-2.5552084\n",
      "-3.2210808\n",
      "-2.7411754\n",
      "-0.909016\n",
      "-6.510401\n",
      "-1.7846956\n",
      "-3.3847373\n",
      "3.189662\n"
     ]
    }
   ],
   "source": [
    "flatten_output = np_output.flatten()\n",
    "for i in range(100):\n",
    "    print(flatten_output[i])"
   ]
  },
  {
   "cell_type": "code",
   "execution_count": 27,
   "metadata": {},
   "outputs": [],
   "source": [
    "def foo():\n",
    "    print(b)"
   ]
  },
  {
   "cell_type": "code",
   "execution_count": 28,
   "metadata": {},
   "outputs": [
    {
     "ename": "NameError",
     "evalue": "name 'b' is not defined",
     "output_type": "error",
     "traceback": [
      "\u001b[0;31m---------------------------------------------------------------------------\u001b[0m",
      "\u001b[0;31mNameError\u001b[0m                                 Traceback (most recent call last)",
      "\u001b[0;32m<ipython-input-28-c19b6d9633cf>\u001b[0m in \u001b[0;36m<module>\u001b[0;34m\u001b[0m\n\u001b[0;32m----> 1\u001b[0;31m \u001b[0mfoo\u001b[0m\u001b[0;34m(\u001b[0m\u001b[0;34m)\u001b[0m\u001b[0;34m\u001b[0m\u001b[0;34m\u001b[0m\u001b[0m\n\u001b[0m",
      "\u001b[0;32m<ipython-input-27-e0d79f96ac3c>\u001b[0m in \u001b[0;36mfoo\u001b[0;34m()\u001b[0m\n\u001b[1;32m      1\u001b[0m \u001b[0;32mdef\u001b[0m \u001b[0mfoo\u001b[0m\u001b[0;34m(\u001b[0m\u001b[0;34m)\u001b[0m\u001b[0;34m:\u001b[0m\u001b[0;34m\u001b[0m\u001b[0;34m\u001b[0m\u001b[0m\n\u001b[0;32m----> 2\u001b[0;31m     \u001b[0mprint\u001b[0m\u001b[0;34m(\u001b[0m\u001b[0mb\u001b[0m\u001b[0;34m)\u001b[0m\u001b[0;34m\u001b[0m\u001b[0;34m\u001b[0m\u001b[0m\n\u001b[0m",
      "\u001b[0;31mNameError\u001b[0m: name 'b' is not defined"
     ]
    }
   ],
   "source": [
    "foo()"
   ]
  },
  {
   "cell_type": "code",
   "execution_count": 29,
   "metadata": {},
   "outputs": [],
   "source": [
    "b = 1"
   ]
  },
  {
   "cell_type": "code",
   "execution_count": 30,
   "metadata": {},
   "outputs": [
    {
     "name": "stdout",
     "output_type": "stream",
     "text": [
      "1\n"
     ]
    }
   ],
   "source": [
    "foo()"
   ]
  },
  {
   "cell_type": "code",
   "execution_count": 31,
   "metadata": {},
   "outputs": [
    {
     "data": {
      "text/plain": [
       "0.1"
      ]
     },
     "execution_count": 31,
     "metadata": {},
     "output_type": "execute_result"
    }
   ],
   "source": [
    "float(\"0.1\")"
   ]
  },
  {
   "cell_type": "code",
   "execution_count": 32,
   "metadata": {},
   "outputs": [],
   "source": [
    "a = \"12\""
   ]
  },
  {
   "cell_type": "code",
   "execution_count": 33,
   "metadata": {},
   "outputs": [],
   "source": [
    "b = \"12\""
   ]
  },
  {
   "cell_type": "code",
   "execution_count": 34,
   "metadata": {},
   "outputs": [
    {
     "data": {
      "text/plain": [
       "True"
      ]
     },
     "execution_count": 34,
     "metadata": {},
     "output_type": "execute_result"
    }
   ],
   "source": [
    "a == b"
   ]
  },
  {
   "cell_type": "code",
   "execution_count": 35,
   "metadata": {},
   "outputs": [
    {
     "data": {
      "text/plain": [
       "'-1.0'"
      ]
     },
     "execution_count": 35,
     "metadata": {},
     "output_type": "execute_result"
    }
   ],
   "source": [
    "str(-1.0)"
   ]
  },
  {
   "cell_type": "code",
   "execution_count": null,
   "metadata": {},
   "outputs": [],
   "source": []
  }
 ],
 "metadata": {
  "kernelspec": {
   "display_name": "Python 3",
   "language": "python",
   "name": "python3"
  },
  "language_info": {
   "codemirror_mode": {
    "name": "ipython",
    "version": 3
   },
   "file_extension": ".py",
   "mimetype": "text/x-python",
   "name": "python",
   "nbconvert_exporter": "python",
   "pygments_lexer": "ipython3",
   "version": "3.7.9"
  },
  "toc-autonumbering": false,
  "toc-showcode": false,
  "toc-showmarkdowntxt": false
 },
 "nbformat": 4,
 "nbformat_minor": 4
}
