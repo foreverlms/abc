{
 "cells": [
  {
   "cell_type": "code",
   "execution_count": 1,
   "metadata": {},
   "outputs": [],
   "source": [
    "#!/usr/bin/env python3\n",
    "# _*_ coding: utf-8 _*_\n",
    "\n",
    "import sys\n",
    "\n",
    "sys.path.append(\"../..\")"
   ]
  },
  {
   "cell_type": "code",
   "execution_count": 2,
   "metadata": {},
   "outputs": [],
   "source": [
    "from d2l import d2l_cn as d2l"
   ]
  },
  {
   "cell_type": "code",
   "execution_count": 3,
   "metadata": {},
   "outputs": [],
   "source": [
    "import tensorflow as tf"
   ]
  },
  {
   "cell_type": "code",
   "execution_count": 4,
   "metadata": {},
   "outputs": [
    {
     "data": {
      "text/plain": [
       "'2.0.0'"
      ]
     },
     "execution_count": 4,
     "metadata": {},
     "output_type": "execute_result"
    }
   ],
   "source": [
    "tf.__version__"
   ]
  },
  {
   "cell_type": "code",
   "execution_count": 5,
   "metadata": {},
   "outputs": [],
   "source": [
    "import torch"
   ]
  },
  {
   "cell_type": "code",
   "execution_count": 6,
   "metadata": {},
   "outputs": [],
   "source": [
    "import numpy as np"
   ]
  },
  {
   "cell_type": "code",
   "execution_count": 18,
   "metadata": {},
   "outputs": [],
   "source": [
    "source = np.asarray([\n",
    "            1, 2, -1, 1, 3, 4, -2, 2,\n",
    "            2, 1, 1, 2, 3, 4, -2, 2,\n",
    "            3, 2, -1, 1, 3, 1, -2, 2,\n",
    "            2, 1, 1, 2,  3, 4, -3, 2],dtype=np.float32)"
   ]
  },
  {
   "cell_type": "code",
   "execution_count": 19,
   "metadata": {},
   "outputs": [],
   "source": [
    "source = tf.convert_to_tensor(source,dtype=np.float32)"
   ]
  },
  {
   "cell_type": "code",
   "execution_count": 20,
   "metadata": {},
   "outputs": [
    {
     "data": {
      "text/plain": [
       "<tf.Tensor: id=30, shape=(32,), dtype=float32, numpy=\n",
       "array([ 1.,  2., -1.,  1.,  3.,  4., -2.,  2.,  2.,  1.,  1.,  2.,  3.,\n",
       "        4., -2.,  2.,  3.,  2., -1.,  1.,  3.,  1., -2.,  2.,  2.,  1.,\n",
       "        1.,  2.,  3.,  4., -3.,  2.], dtype=float32)>"
      ]
     },
     "execution_count": 20,
     "metadata": {},
     "output_type": "execute_result"
    }
   ],
   "source": [
    "source"
   ]
  },
  {
   "cell_type": "code",
   "execution_count": 21,
   "metadata": {},
   "outputs": [],
   "source": [
    "source = tf.reshape(source,[2,2,2,4])"
   ]
  },
  {
   "cell_type": "code",
   "execution_count": 22,
   "metadata": {},
   "outputs": [
    {
     "data": {
      "text/plain": [
       "<tf.Tensor: id=32, shape=(2, 2, 2, 4), dtype=float32, numpy=\n",
       "array([[[[ 1.,  2., -1.,  1.],\n",
       "         [ 3.,  4., -2.,  2.]],\n",
       "\n",
       "        [[ 2.,  1.,  1.,  2.],\n",
       "         [ 3.,  4., -2.,  2.]]],\n",
       "\n",
       "\n",
       "       [[[ 3.,  2., -1.,  1.],\n",
       "         [ 3.,  1., -2.,  2.]],\n",
       "\n",
       "        [[ 2.,  1.,  1.,  2.],\n",
       "         [ 3.,  4., -3.,  2.]]]], dtype=float32)>"
      ]
     },
     "execution_count": 22,
     "metadata": {},
     "output_type": "execute_result"
    }
   ],
   "source": [
    "source"
   ]
  },
  {
   "cell_type": "code",
   "execution_count": 25,
   "metadata": {},
   "outputs": [],
   "source": [
    "ln = tf.keras.layers.LayerNormalization(axis=-2,epsilon=1e-5)"
   ]
  },
  {
   "cell_type": "code",
   "execution_count": 26,
   "metadata": {},
   "outputs": [
    {
     "data": {
      "text/plain": [
       "<tf.Tensor: id=104, shape=(2, 2, 2, 4), dtype=float32, numpy=\n",
       "array([[[[-0.99999493, -0.9999949 ,  0.99997985, -0.99997985],\n",
       "         [ 0.9999949 ,  0.999995  , -0.99998   ,  0.99998   ]],\n",
       "\n",
       "        [[-0.99997973, -0.9999977 ,  0.99999774,  0.        ],\n",
       "         [ 0.99998   ,  0.99999774, -0.99999774,  0.        ]]],\n",
       "\n",
       "\n",
       "       [[[ 0.        ,  0.99998   ,  0.99997985, -0.99997985],\n",
       "         [ 0.        , -0.99997985, -0.99998   ,  0.99998   ]],\n",
       "\n",
       "        [[-0.99997973, -0.9999977 ,  0.9999986 ,  0.        ],\n",
       "         [ 0.99998   ,  0.99999774, -0.9999987 ,  0.        ]]]],\n",
       "      dtype=float32)>"
      ]
     },
     "execution_count": 26,
     "metadata": {},
     "output_type": "execute_result"
    }
   ],
   "source": [
    "ln(source)"
   ]
  },
  {
   "cell_type": "code",
   "execution_count": 28,
   "metadata": {},
   "outputs": [],
   "source": [
    "ln_1 = tf.keras.layers.LayerNormalization(axis=-3,epsilon=1e-5)"
   ]
  },
  {
   "cell_type": "code",
   "execution_count": 30,
   "metadata": {},
   "outputs": [],
   "source": [
    "res = ln_1(source)"
   ]
  },
  {
   "cell_type": "code",
   "execution_count": 32,
   "metadata": {},
   "outputs": [
    {
     "data": {
      "text/plain": [
       "<tf.Tensor: id=162, shape=(2, 2, 2, 4), dtype=float32, numpy=\n",
       "array([[[[-0.99997985,  0.99998   , -0.99999493, -0.99997985],\n",
       "         [ 0.        ,  0.        ,  0.        ,  0.        ]],\n",
       "\n",
       "        [[ 0.99998   , -0.99997985,  0.99999493,  0.99998   ],\n",
       "         [ 0.        ,  0.        ,  0.        ,  0.        ]]],\n",
       "\n",
       "\n",
       "       [[[ 0.99998   ,  0.99998   , -0.99999493, -0.99997985],\n",
       "         [ 0.        , -0.9999977 ,  0.99997973,  0.        ]],\n",
       "\n",
       "        [[-0.99997973, -0.99997985,  0.99999493,  0.99998   ],\n",
       "         [ 0.        ,  0.99999774, -0.99998   ,  0.        ]]]],\n",
       "      dtype=float32)>"
      ]
     },
     "execution_count": 32,
     "metadata": {},
     "output_type": "execute_result"
    }
   ],
   "source": [
    "res"
   ]
  },
  {
   "cell_type": "code",
   "execution_count": 34,
   "metadata": {},
   "outputs": [
    {
     "data": {
      "text/plain": [
       "array([-0.99997985,  0.99998   , -0.99999493, -0.99997985,  0.        ,\n",
       "        0.        ,  0.        ,  0.        ,  0.99998   , -0.99997985,\n",
       "        0.99999493,  0.99998   ,  0.        ,  0.        ,  0.        ,\n",
       "        0.        ,  0.99998   ,  0.99998   , -0.99999493, -0.99997985,\n",
       "        0.        , -0.9999977 ,  0.99997973,  0.        , -0.99997973,\n",
       "       -0.99997985,  0.99999493,  0.99998   ,  0.        ,  0.99999774,\n",
       "       -0.99998   ,  0.        ], dtype=float32)"
      ]
     },
     "execution_count": 34,
     "metadata": {},
     "output_type": "execute_result"
    }
   ],
   "source": [
    "res.numpy().flatten()"
   ]
  },
  {
   "cell_type": "code",
   "execution_count": null,
   "metadata": {},
   "outputs": [],
   "source": []
  }
 ],
 "metadata": {
  "kernelspec": {
   "display_name": "Python 3",
   "language": "python",
   "name": "python3"
  },
  "language_info": {
   "codemirror_mode": {
    "name": "ipython",
    "version": 3
   },
   "file_extension": ".py",
   "mimetype": "text/x-python",
   "name": "python",
   "nbconvert_exporter": "python",
   "pygments_lexer": "ipython3",
   "version": "3.7.9"
  }
 },
 "nbformat": 4,
 "nbformat_minor": 4
}
