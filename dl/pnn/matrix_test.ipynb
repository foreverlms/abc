{
 "cells": [
  {
   "cell_type": "code",
   "execution_count": 1,
   "id": "3764814a-b76c-49c6-9f1f-6f0b9ee02422",
   "metadata": {},
   "outputs": [],
   "source": [
    "import numpy as np"
   ]
  },
  {
   "cell_type": "code",
   "execution_count": 25,
   "id": "5ee2777f-c6ad-4283-ac54-7743358cd050",
   "metadata": {},
   "outputs": [],
   "source": [
    "a = np.random.uniform(low=0.5, high=13.3, size=(4,4))"
   ]
  },
  {
   "cell_type": "code",
   "execution_count": 26,
   "id": "abd0e6c4-b83b-480b-b0a3-240800762cbd",
   "metadata": {},
   "outputs": [],
   "source": [
    "b = np.random.uniform(low=0.5, high=13.3, size=(4,4))"
   ]
  },
  {
   "cell_type": "code",
   "execution_count": 27,
   "id": "358696d2-04c3-43f0-812e-cf15be4a3f3c",
   "metadata": {},
   "outputs": [],
   "source": [
    "c = a @ b"
   ]
  },
  {
   "cell_type": "code",
   "execution_count": 28,
   "id": "1a2724af-aa41-453d-ba20-ae50750d5f84",
   "metadata": {},
   "outputs": [
    {
     "data": {
      "text/plain": [
       "array([[119.15990117, 101.27312476, 167.11571851, 209.79393172],\n",
       "       [ 46.39908619,  30.81082479,  90.82716288, 107.87186194],\n",
       "       [195.77208206, 130.75332081, 252.91346928, 351.15981709],\n",
       "       [238.03855444, 172.1090268 , 169.21707574, 278.12896594]])"
      ]
     },
     "execution_count": 28,
     "metadata": {},
     "output_type": "execute_result"
    }
   ],
   "source": [
    "c"
   ]
  },
  {
   "cell_type": "code",
   "execution_count": 33,
   "id": "1dfc020a-79f3-4622-80dc-554c5f32b187",
   "metadata": {},
   "outputs": [],
   "source": [
    "c0 = np.array([0,0,0,0],dtype=np.float32)\n",
    "c1 = np.array([0,0,0,0],dtype=np.float32)\n",
    "c2 = np.array([0,0,0,0],dtype=np.float32)\n",
    "c3 = np.array([0,0,0,0],dtype=np.float32)\n",
    "for i in range(4):\n",
    "    c0 += a[0,i] * b[i,:]\n",
    "    c1 += a[1,i] * b[i,:]\n",
    "    c2 += a[2,i] * b[i,:]\n",
    "    c3 += a[3,i] * b[i,:]\n",
    "\n"
   ]
  },
  {
   "cell_type": "code",
   "execution_count": 34,
   "id": "432ff48d-73fe-46c6-a65a-9fdeaa610617",
   "metadata": {},
   "outputs": [
    {
     "data": {
      "text/plain": [
       "dtype('float32')"
      ]
     },
     "execution_count": 34,
     "metadata": {},
     "output_type": "execute_result"
    }
   ],
   "source": [
    "c0.dtype"
   ]
  },
  {
   "cell_type": "code",
   "execution_count": 32,
   "id": "f2e2ceac-5477-4533-b2ad-db871513aa88",
   "metadata": {},
   "outputs": [],
   "source": [
    "ctest = np.array([0,0,0,0],dtype=np.float32)"
   ]
  },
  {
   "cell_type": "code",
   "execution_count": 35,
   "id": "088a55d7-1ff4-4cb0-9ec5-cea592bbe963",
   "metadata": {},
   "outputs": [
    {
     "data": {
      "text/plain": [
       "array([119.159904, 101.27313 , 167.11572 , 209.79393 ], dtype=float32)"
      ]
     },
     "execution_count": 35,
     "metadata": {},
     "output_type": "execute_result"
    }
   ],
   "source": [
    "c0"
   ]
  },
  {
   "cell_type": "code",
   "execution_count": 36,
   "id": "3a950fcb-bda8-4ff4-8eaf-bbd81cef9123",
   "metadata": {},
   "outputs": [
    {
     "data": {
      "text/plain": [
       "array([ 46.399086,  30.810825,  90.82716 , 107.871864], dtype=float32)"
      ]
     },
     "execution_count": 36,
     "metadata": {},
     "output_type": "execute_result"
    }
   ],
   "source": [
    "c1"
   ]
  },
  {
   "cell_type": "code",
   "execution_count": null,
   "id": "2321e5bf-e1b1-41f3-b239-64cbb689edf3",
   "metadata": {},
   "outputs": [],
   "source": []
  }
 ],
 "metadata": {
  "kernelspec": {
   "display_name": "Python 3 (ipykernel)",
   "language": "python",
   "name": "python3"
  },
  "language_info": {
   "codemirror_mode": {
    "name": "ipython",
    "version": 3
   },
   "file_extension": ".py",
   "mimetype": "text/x-python",
   "name": "python",
   "nbconvert_exporter": "python",
   "pygments_lexer": "ipython3",
   "version": "3.8.12"
  }
 },
 "nbformat": 4,
 "nbformat_minor": 5
}
