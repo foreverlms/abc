{
 "cells": [
  {
   "cell_type": "code",
   "execution_count": 1,
   "id": "8ec4aa69-2586-4b11-bc55-483f774a74da",
   "metadata": {},
   "outputs": [
    {
     "name": "stderr",
     "output_type": "stream",
     "text": [
      "2022-10-19 15:40:47.988708 [E:onnxruntime:Default, provider_bridge_ort.cc:902 Ensure] Failed to load library libonnxruntime_providers_shared.dylib with error: dlopen(libonnxruntime_providers_shared.dylib, 0x000A): tried: '/opt/anaconda3/envs/d2l/lib/python3.8/site-packages/onnxruntime/capi/libonnxruntime_providers_shared.dylib' (no such file), '/opt/anaconda3/envs/d2l/lib/libonnxruntime_providers_shared.dylib' (no such file), '/opt/anaconda3/envs/d2l/bin/../lib/libonnxruntime_providers_shared.dylib' (no such file), 'libonnxruntime_providers_shared.dylib' (no such file), '/usr/local/lib/libonnxruntime_providers_shared.dylib' (no such file), '/usr/lib/libonnxruntime_providers_shared.dylib' (no such file), '/Users/bob/libonnxruntime_providers_shared.dylib' (no such file)\n",
      "2022-10-19 15:40:47.988730 [W:onnxruntime:Default, onnxruntime_pybind_state.cc:1615 pybind11_init_onnxruntime_pybind11_state] Init provider bridge failed.\n"
     ]
    }
   ],
   "source": [
    "import onnx\n",
    "import numpy as np\n",
    "import onnxruntime as ort"
   ]
  },
  {
   "cell_type": "code",
   "execution_count": 2,
   "id": "ecd42bbd-255a-4eb3-b214-324d5f931f7e",
   "metadata": {},
   "outputs": [],
   "source": [
    "onnx_model_path = \"/Users/bob/code/CodeReading/Paddle-Lite/pnn/3x3s2_dw.onnx\""
   ]
  },
  {
   "cell_type": "code",
   "execution_count": 3,
   "id": "f4c58b52-310d-4d17-88c9-b029756ebce0",
   "metadata": {},
   "outputs": [],
   "source": [
    "data = np.full((1,32,104,104), 1, dtype=np.float32)"
   ]
  },
  {
   "cell_type": "code",
   "execution_count": 4,
   "id": "60090882-f211-4789-af0d-3b617ae1c781",
   "metadata": {},
   "outputs": [],
   "source": [
    "sess = ort.InferenceSession(onnx_model_path)"
   ]
  },
  {
   "cell_type": "code",
   "execution_count": 5,
   "id": "11eedf38-84b2-42bd-a247-99264e93dfad",
   "metadata": {},
   "outputs": [],
   "source": [
    "inputs = {\"data\" : data}"
   ]
  },
  {
   "cell_type": "code",
   "execution_count": 6,
   "id": "6611411f-11b8-44ee-a65a-444cf4b37f11",
   "metadata": {},
   "outputs": [],
   "source": [
    "outputs = sess.run(None, inputs)"
   ]
  },
  {
   "cell_type": "code",
   "execution_count": 7,
   "id": "59371739-eff9-485c-b3d4-b23c91592fc7",
   "metadata": {},
   "outputs": [
    {
     "data": {
      "text/plain": [
       "array([-0.12178007, -0.12580684, -0.12580684, -0.12580684, -0.12580684,\n",
       "       -0.12580684, -0.12580684, -0.12580684, -0.12580684, -0.12580684,\n",
       "       -0.12580684, -0.12580684, -0.12580684, -0.12580684, -0.12580684,\n",
       "       -0.12580684, -0.12580684, -0.12580684, -0.12580684, -0.12580684,\n",
       "       -0.12580684, -0.12580684, -0.12580684, -0.12580684, -0.12580684,\n",
       "       -0.12580684, -0.12580684, -0.12580684, -0.12580684, -0.12580684,\n",
       "       -0.12580684, -0.12580684, -0.12580684, -0.12580684, -0.12580684,\n",
       "       -0.12580684, -0.12580684, -0.12580684, -0.12580684, -0.12580684,\n",
       "       -0.12580684, -0.12580684, -0.12580684, -0.12580684, -0.12580684,\n",
       "       -0.12580684, -0.12580684, -0.12580684, -0.12580684, -0.12580684,\n",
       "       -0.12580684, -0.12580684,  0.09853861,  0.23208767,  0.23208767,\n",
       "        0.23208767,  0.23208767,  0.23208767,  0.23208767,  0.23208767,\n",
       "        0.23208767,  0.23208767,  0.23208767,  0.23208767,  0.23208767,\n",
       "        0.23208767,  0.23208767,  0.23208767,  0.23208767,  0.23208767,\n",
       "        0.23208767,  0.23208767,  0.23208767,  0.23208767,  0.23208767,\n",
       "        0.23208767,  0.23208767,  0.23208767,  0.23208767,  0.23208767,\n",
       "        0.23208767,  0.23208767,  0.23208767,  0.23208767,  0.23208767,\n",
       "        0.23208767,  0.23208767,  0.23208767,  0.23208767,  0.23208767,\n",
       "        0.23208767,  0.23208767,  0.23208767,  0.23208767,  0.23208767,\n",
       "        0.23208767,  0.23208767,  0.23208767,  0.23208767,  0.23208767],\n",
       "      dtype=float32)"
      ]
     },
     "execution_count": 7,
     "metadata": {},
     "output_type": "execute_result"
    }
   ],
   "source": [
    "outputs[0].flatten()[0:100]"
   ]
  },
  {
   "cell_type": "markdown",
   "id": "9c8fbd75-e80f-43fe-a7c2-2cc5c58eb0be",
   "metadata": {},
   "source": [
    "## Construct ConvDepthwise Model"
   ]
  },
  {
   "cell_type": "code",
   "execution_count": 8,
   "id": "7483f483-c2cf-4b71-85a4-737e6efc83dc",
   "metadata": {},
   "outputs": [],
   "source": [
    "n=1\n",
    "h=9\n",
    "w=9\n",
    "ic=2\n",
    "oc=2\n",
    "kh=3\n",
    "kw=3\n",
    "sy=2\n",
    "sx=2\n",
    "dy=2\n",
    "dx=1\n",
    "oh=3\n",
    "ow=4\n",
    "fOpFlag=0\n",
    "groups = 2"
   ]
  },
  {
   "cell_type": "code",
   "execution_count": 9,
   "id": "132204d4-a7ab-4ec0-81dd-38f68c51d05b",
   "metadata": {},
   "outputs": [
    {
     "name": "stderr",
     "output_type": "stream",
     "text": [
      "/opt/anaconda3/envs/d2l/lib/python3.8/site-packages/tqdm/auto.py:22: TqdmWarning: IProgress not found. Please update jupyter and ipywidgets. See https://ipywidgets.readthedocs.io/en/stable/user_install.html\n",
      "  from .autonotebook import tqdm as notebook_tqdm\n"
     ]
    }
   ],
   "source": [
    "import torch\n",
    "from functools import reduce # Valid in Python 2.6+, required in Python 3\n",
    "from torch import nn as nn\n",
    "import operator\n",
    "import numpy as np"
   ]
  },
  {
   "cell_type": "code",
   "execution_count": 10,
   "id": "37d32767-3730-4bf5-a180-752d636ba65a",
   "metadata": {},
   "outputs": [],
   "source": [
    " m = nn.Conv2d(ic, oc , (kh,kw), (sy,sx),dilation = (dy,dx),padding = 0, groups = ic)"
   ]
  },
  {
   "cell_type": "code",
   "execution_count": 11,
   "id": "36606786-2bbb-44e6-b54a-3be7983d2c06",
   "metadata": {},
   "outputs": [],
   "source": [
    "def get_data(shape):\n",
    "    size = reduce(operator.mul, shape, 1)\n",
    "    data = []\n",
    "    for i in range(size):\n",
    "        data.append(i % 5)\n",
    "    \n",
    "    res = np.array(data).astype(np.float32).reshape(shape)\n",
    "    return res"
   ]
  },
  {
   "cell_type": "code",
   "execution_count": 12,
   "id": "fc0d8ed0-ddc4-49d7-bb76-f0e050716e1e",
   "metadata": {},
   "outputs": [],
   "source": [
    "# data = torch.from_numpy(get_data((n, ic, h, w)))\n",
    "raw = np.transpose(get_data((n, h, w, ic)), (0,3,1,2))"
   ]
  },
  {
   "cell_type": "code",
   "execution_count": 13,
   "id": "121aed61-5840-41b4-9357-da461dafd26d",
   "metadata": {},
   "outputs": [],
   "source": [
    "data = torch.from_numpy(raw)"
   ]
  },
  {
   "cell_type": "code",
   "execution_count": 14,
   "id": "27e36d98-d333-48fe-a477-403c21bd819c",
   "metadata": {},
   "outputs": [],
   "source": [
    "def gen_pnn_weight(shape):\n",
    "    size = reduce(operator.mul, shape, 1)\n",
    "    data = []\n",
    "    for i in range(size):\n",
    "        data.append(i % 4)\n",
    "    \n",
    "    return np.array(data).astype(np.float32).reshape(shape)"
   ]
  },
  {
   "cell_type": "code",
   "execution_count": 15,
   "id": "7376b2b2-8e4d-4640-a9d8-98273349b153",
   "metadata": {},
   "outputs": [],
   "source": [
    "def gen_pnn_bias(shape):\n",
    "    size = reduce(operator.mul, shape, 1)\n",
    "    data = []\n",
    "    for i in range(size):\n",
    "        data.append(i % 3)\n",
    "    \n",
    "    return np.array(data).astype(np.float32).reshape(shape)"
   ]
  },
  {
   "cell_type": "code",
   "execution_count": 16,
   "id": "2647bfb9-2219-45c7-9443-d69193476d53",
   "metadata": {},
   "outputs": [],
   "source": [
    "pnn_weight = gen_pnn_weight((1,kh,kw,oc))"
   ]
  },
  {
   "cell_type": "code",
   "execution_count": null,
   "id": "44feabd1-b408-4130-97ff-b97233b5a219",
   "metadata": {},
   "outputs": [],
   "source": []
  },
  {
   "cell_type": "code",
   "execution_count": 17,
   "id": "37ba1ded-4243-4a5f-ad0b-15a02061b3a6",
   "metadata": {},
   "outputs": [],
   "source": [
    "# 这里跟转换工具保持一致\n",
    "torch_weitht = np.transpose(pnn_weight, (0,3,1,2)).reshape((oc, ic // groups, kh, kw ))"
   ]
  },
  {
   "cell_type": "code",
   "execution_count": null,
   "id": "5b3a28b0-ccb4-4aed-a097-e8e0bfbabc19",
   "metadata": {},
   "outputs": [],
   "source": []
  },
  {
   "cell_type": "code",
   "execution_count": 18,
   "id": "14942a05-4ebf-43f1-b09b-82959a1bffd5",
   "metadata": {},
   "outputs": [],
   "source": [
    "pnn_bias = gen_pnn_bias((oc,))"
   ]
  },
  {
   "cell_type": "markdown",
   "id": "a9fc7b70-bc4e-40d8-886b-4bfa1884ab08",
   "metadata": {},
   "source": [
    "### change weight"
   ]
  },
  {
   "cell_type": "code",
   "execution_count": 19,
   "id": "4585d8a5-a063-45c9-af96-76fe73e06708",
   "metadata": {},
   "outputs": [
    {
     "data": {
      "text/plain": [
       "(1, 3, 3, 2)"
      ]
     },
     "execution_count": 19,
     "metadata": {},
     "output_type": "execute_result"
    }
   ],
   "source": [
    "pnn_weight.shape"
   ]
  },
  {
   "cell_type": "code",
   "execution_count": 20,
   "id": "c198a1b1-8416-4edc-8a9b-5fa3dc005ef8",
   "metadata": {},
   "outputs": [
    {
     "data": {
      "text/plain": [
       "array([0., 1.], dtype=float32)"
      ]
     },
     "execution_count": 20,
     "metadata": {},
     "output_type": "execute_result"
    }
   ],
   "source": [
    "pnn_bias"
   ]
  },
  {
   "cell_type": "code",
   "execution_count": 21,
   "id": "dbbd7868-8f00-4083-81d6-1544202606d8",
   "metadata": {},
   "outputs": [],
   "source": [
    "m.weight = torch.nn.Parameter(torch.from_numpy(torch_weitht))\n",
    "# m.weight = torch.nn.Parameter(torch.from_numpy(pnn_weight.reshape((32,1,3,3))))"
   ]
  },
  {
   "cell_type": "code",
   "execution_count": 22,
   "id": "dacc0e70-9532-4bcb-a4a8-00fda5599cc0",
   "metadata": {},
   "outputs": [],
   "source": [
    "m.bias = torch.nn.Parameter(torch.from_numpy(pnn_bias))"
   ]
  },
  {
   "cell_type": "markdown",
   "id": "37c9c606-54a5-4370-a658-bed87c154b3f",
   "metadata": {},
   "source": [
    "### Calc output"
   ]
  },
  {
   "cell_type": "code",
   "execution_count": 23,
   "id": "2afcffb4-4ebe-466a-b41c-d63e25a4b920",
   "metadata": {},
   "outputs": [
    {
     "data": {
      "text/plain": [
       "array([0., 1.], dtype=float32)"
      ]
     },
     "execution_count": 23,
     "metadata": {},
     "output_type": "execute_result"
    }
   ],
   "source": [
    "pnn_bias"
   ]
  },
  {
   "cell_type": "code",
   "execution_count": 24,
   "id": "42459c8e-4785-4cfc-bd34-78117dbc81ec",
   "metadata": {},
   "outputs": [],
   "source": [
    "output = m(data)"
   ]
  },
  {
   "cell_type": "code",
   "execution_count": 25,
   "id": "c9e0e26d-ee4d-4688-b0b3-901f9b8b38dd",
   "metadata": {},
   "outputs": [],
   "source": [
    "# silu\n",
    "a = nn.SiLU()\n",
    "final = a(output)"
   ]
  },
  {
   "cell_type": "code",
   "execution_count": 26,
   "id": "6b82c694-8e0a-4eb8-8218-681789243760",
   "metadata": {},
   "outputs": [],
   "source": [
    "# transpose\n",
    "ooo = torch.permute(final,(0,2,3,1))"
   ]
  },
  {
   "cell_type": "code",
   "execution_count": 27,
   "id": "5ec252c1-75e0-4bf1-afdb-7f05d8ade26a",
   "metadata": {},
   "outputs": [
    {
     "data": {
      "text/plain": [
       "tensor(29., grad_fn=<SelectBackward0>)"
      ]
     },
     "execution_count": 27,
     "metadata": {},
     "output_type": "execute_result"
    }
   ],
   "source": [
    "ooo.flatten()[21]"
   ]
  },
  {
   "cell_type": "code",
   "execution_count": 28,
   "id": "4749dd87-52a6-4eb4-a5f6-e2b790346ff2",
   "metadata": {},
   "outputs": [
    {
     "ename": "IndexError",
     "evalue": "index 31 is out of bounds for dimension 1 with size 2",
     "output_type": "error",
     "traceback": [
      "\u001b[0;31m---------------------------------------------------------------------------\u001b[0m",
      "\u001b[0;31mIndexError\u001b[0m                                Traceback (most recent call last)",
      "Input \u001b[0;32mIn [28]\u001b[0m, in \u001b[0;36m<module>\u001b[0;34m\u001b[0m\n\u001b[0;32m----> 1\u001b[0m sample_input \u001b[38;5;241m=\u001b[39m \u001b[43mdata\u001b[49m\u001b[43m[\u001b[49m\u001b[38;5;241;43m0\u001b[39;49m\u001b[43m,\u001b[49m\u001b[38;5;241;43m31\u001b[39;49m\u001b[43m,\u001b[49m\u001b[38;5;241;43m86\u001b[39;49m\u001b[43m:\u001b[49m\u001b[38;5;241;43m89\u001b[39;49m\u001b[43m,\u001b[49m\u001b[38;5;241;43m100\u001b[39;49m\u001b[43m:\u001b[49m\u001b[38;5;241;43m103\u001b[39;49m\u001b[43m]\u001b[49m\n",
      "\u001b[0;31mIndexError\u001b[0m: index 31 is out of bounds for dimension 1 with size 2"
     ]
    }
   ],
   "source": [
    "sample_input = data[0,31,86:89,100:103]"
   ]
  },
  {
   "cell_type": "code",
   "execution_count": null,
   "id": "fbd189ad-4691-4589-857d-46d2a9d332b7",
   "metadata": {},
   "outputs": [],
   "source": [
    "sample_input"
   ]
  },
  {
   "cell_type": "code",
   "execution_count": null,
   "id": "0dc9ef5a-65a1-47d1-a97e-8cf73e5eca17",
   "metadata": {},
   "outputs": [],
   "source": []
  },
  {
   "cell_type": "code",
   "execution_count": null,
   "id": "e7efa50d-c045-4655-8363-7129786b30f1",
   "metadata": {},
   "outputs": [],
   "source": [
    "sample_kernel = torch_weitht[31,0]"
   ]
  },
  {
   "cell_type": "code",
   "execution_count": null,
   "id": "3d56bee6-f206-4233-a9ec-5c3595818783",
   "metadata": {},
   "outputs": [],
   "source": [
    "sample_kernel"
   ]
  },
  {
   "cell_type": "code",
   "execution_count": null,
   "id": "0df47e4a-00d6-4816-a91b-70c924309e26",
   "metadata": {},
   "outputs": [],
   "source": [
    "sample_bias = pnn_bias[31]"
   ]
  },
  {
   "cell_type": "code",
   "execution_count": null,
   "id": "6374ff59-c581-4359-9055-a0c39b5b3d7f",
   "metadata": {},
   "outputs": [],
   "source": [
    "sample_bias"
   ]
  },
  {
   "cell_type": "code",
   "execution_count": null,
   "id": "02eb8402-78b6-45cb-b2b9-24282391adaa",
   "metadata": {},
   "outputs": [],
   "source": [
    "(sample_input * sample_kernel).sum() + sample_bias"
   ]
  },
  {
   "cell_type": "code",
   "execution_count": null,
   "id": "572e0195-9a8f-46c6-abf0-4c3f7a40d4d2",
   "metadata": {},
   "outputs": [],
   "source": [
    "output[0,0,50,0:4]"
   ]
  },
  {
   "cell_type": "code",
   "execution_count": null,
   "id": "bf5729df-1896-4563-b324-0202979d23ca",
   "metadata": {},
   "outputs": [],
   "source": [
    "output.flatten()[1600:1604]"
   ]
  },
  {
   "cell_type": "code",
   "execution_count": null,
   "id": "2371432b-b1c6-4ff9-9e30-43015d41c869",
   "metadata": {},
   "outputs": [],
   "source": [
    "torch.onnx.export(m,               # model being run\n",
    "                  data,                         # model input (or a tuple for multiple inputs)\n",
    "                  \"/Users/bob/Desktop/tmp/conv_opt/conv3x3_s2p0.onnx\",   # where to save the model (can be a file or file-like object)\n",
    "               export_params=True,        # store the trained parameter weights inside the model file\n",
    "                  opset_version=10,          # the ONNX version to export the model to\n",
    "                  do_constant_folding=True,  # whether to execute constant folding for optimization\n",
    "                  input_names = ['data'],   # the model's input names\n",
    "                  output_names = ['output'], # the model's output names\n",
    "                 )"
   ]
  },
  {
   "cell_type": "code",
   "execution_count": null,
   "id": "23a62768-ab2f-487c-89e7-7284dda20766",
   "metadata": {},
   "outputs": [],
   "source": [
    "np.unravel_index(21, (1,9,5,3))"
   ]
  },
  {
   "cell_type": "code",
   "execution_count": null,
   "id": "3303597d-084b-4318-8207-fde54950fd69",
   "metadata": {},
   "outputs": [],
   "source": [
    "output.flatten()"
   ]
  },
  {
   "cell_type": "code",
   "execution_count": null,
   "id": "27478a71-026f-4a0b-81fb-efa215b90d3f",
   "metadata": {},
   "outputs": [],
   "source": [
    "output[0,2,2,1]"
   ]
  },
  {
   "cell_type": "code",
   "execution_count": null,
   "id": "a7c59d44-c3d0-4f2c-ba15-dc62ab62f379",
   "metadata": {},
   "outputs": [],
   "source": [
    "output.shape"
   ]
  },
  {
   "cell_type": "code",
   "execution_count": null,
   "id": "05c88437-54ae-4d9e-92a3-11934552e6e1",
   "metadata": {},
   "outputs": [],
   "source": [
    "ms = nn.SiLU()"
   ]
  },
  {
   "cell_type": "code",
   "execution_count": null,
   "id": "44eff214-b7af-46b8-9004-f384ae226961",
   "metadata": {},
   "outputs": [],
   "source": [
    "ms(output).flatten()[21]"
   ]
  },
  {
   "cell_type": "markdown",
   "id": "ee6d6adf-dc53-4b49-86e5-de77ee8e81ae",
   "metadata": {},
   "source": [
    "### Generate Conv2D 3x3"
   ]
  },
  {
   "cell_type": "code",
   "execution_count": 29,
   "id": "5939c7bf-4514-4bfe-8d92-0b85b01b9531",
   "metadata": {},
   "outputs": [],
   "source": [
    "s13x3 = nn.Conv2d(3, 12 , (3,3), (1,1),dilation = (1,1),padding = 0)"
   ]
  },
  {
   "cell_type": "code",
   "execution_count": 31,
   "id": "de88234f-eefd-4b4a-b682-3b198cce6255",
   "metadata": {},
   "outputs": [],
   "source": [
    "n = 1\n",
    "h = 114\n",
    "w = 114\n",
    "ic = 3"
   ]
  },
  {
   "cell_type": "code",
   "execution_count": 32,
   "id": "1acb1b0c-a8f1-45b0-8c01-9b4db8b2c51e",
   "metadata": {},
   "outputs": [],
   "source": [
    "data = torch.from_numpy(get_data((n, ic, h, w)))"
   ]
  },
  {
   "cell_type": "code",
   "execution_count": 36,
   "id": "263f915e-ee03-4796-b92e-cb2218f77821",
   "metadata": {},
   "outputs": [],
   "source": [
    "torch.onnx.export(s13x3,               # model being run\n",
    "                  data,                         # model input (or a tuple for multiple inputs)\n",
    "                  \"/Users/bob/Desktop/tmp/conv_opt/conv3x3_s1p0.onnx\",   # where to save the model (can be a file or file-like object)\n",
    "                   export_params=True,        # store the trained parameter weights inside the model file\n",
    "                  opset_version=10,          # the ONNX version to export the model to\n",
    "                  do_constant_folding=True,  # whether to execute constant folding for optimization\n",
    "                  input_names = ['data'],   # the model's input names\n",
    "                  output_names = ['output'], # the model's output names\n",
    "                 )"
   ]
  },
  {
   "cell_type": "code",
   "execution_count": null,
   "id": "0fd9fcc7-72e7-4f5a-bfab-2bae14eb2f06",
   "metadata": {},
   "outputs": [],
   "source": []
  }
 ],
 "metadata": {
  "kernelspec": {
   "display_name": "Python 3 (ipykernel)",
   "language": "python",
   "name": "python3"
  },
  "language_info": {
   "codemirror_mode": {
    "name": "ipython",
    "version": 3
   },
   "file_extension": ".py",
   "mimetype": "text/x-python",
   "name": "python",
   "nbconvert_exporter": "python",
   "pygments_lexer": "ipython3",
   "version": "3.8.15"
  }
 },
 "nbformat": 4,
 "nbformat_minor": 5
}
