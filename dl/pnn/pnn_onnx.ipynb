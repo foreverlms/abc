{
 "cells": [
  {
   "cell_type": "code",
   "execution_count": 2,
   "id": "c80415cc-4cea-47d7-9efd-f9b9081dd999",
   "metadata": {},
   "outputs": [],
   "source": [
    "import onnxruntime as ort\n",
    "import numpy as np"
   ]
  },
  {
   "cell_type": "markdown",
   "id": "66119021-154e-422e-a40a-2a8169326f6b",
   "metadata": {},
   "source": [
    "###  ONNX Inference"
   ]
  },
  {
   "cell_type": "code",
   "execution_count": 1,
   "id": "2f018ea9-3f94-4e86-84f1-55546d188f6c",
   "metadata": {},
   "outputs": [],
   "source": [
    "onnx_model_path = \"/Users/bob/docs/ByteDance/PNN/converter/load_fail.onnx\""
   ]
  },
  {
   "cell_type": "code",
   "execution_count": 3,
   "id": "a8c79636-0549-4d9b-a3f4-09d7c878aac1",
   "metadata": {},
   "outputs": [],
   "source": [
    "input_path = \"/Users/bob/Downloads/windows_ci_report/python_test_report/tmp/20220622-14-29-41/convolution_2d_0_input.npz\""
   ]
  },
  {
   "cell_type": "code",
   "execution_count": 8,
   "id": "d8add75b-0ab9-440b-8762-4ac392d9eecf",
   "metadata": {},
   "outputs": [],
   "source": [
    "onnx_output_path = \"/Users/bob/Downloads/windows_ci_report/python_test_report/tmp/20220622-14-29-41/convolution_2d_0_output.npz\""
   ]
  },
  {
   "cell_type": "code",
   "execution_count": 5,
   "id": "faf47d6b-09e8-43dc-b511-e39b891c1bf8",
   "metadata": {},
   "outputs": [],
   "source": [
    "sess = ort.InferenceSession(onnx_model_path)"
   ]
  },
  {
   "cell_type": "markdown",
   "id": "97d9082e-1630-43df-be72-ade522d32c08",
   "metadata": {},
   "source": [
    "#### Read Input and to binary"
   ]
  },
  {
   "cell_type": "code",
   "execution_count": 4,
   "id": "0e398399-fb6f-481e-af50-f5c8692fb149",
   "metadata": {},
   "outputs": [],
   "source": [
    "inputs = {}\n",
    "with np.load(input_path) as data:\n",
    "    for  k in data.keys():\n",
    "        inputs[k] = data[k]"
   ]
  },
  {
   "cell_type": "code",
   "execution_count": 6,
   "id": "c46bc99a-6d45-4b2d-979a-6ff21c52c6bd",
   "metadata": {},
   "outputs": [
    {
     "data": {
      "text/plain": [
       "(2, 28, 12, 2)"
      ]
     },
     "execution_count": 6,
     "metadata": {},
     "output_type": "execute_result"
    }
   ],
   "source": [
    "inputs['input'].shape"
   ]
  },
  {
   "cell_type": "code",
   "execution_count": 7,
   "id": "1af7b7d9-0dbd-41ca-afc8-72dcfbc5015d",
   "metadata": {},
   "outputs": [],
   "source": [
    "inputs['input'].tofile(\"/Users/bob/Downloads/windows_ci_report/python_test_report/tmp/20220622-14-29-41/convolution_2d_0_input.bin\")"
   ]
  },
  {
   "cell_type": "markdown",
   "id": "c94362f8-1d98-40ed-89ab-6dc1052469ae",
   "metadata": {},
   "source": [
    "#### Read output and to binary"
   ]
  },
  {
   "cell_type": "code",
   "execution_count": 17,
   "id": "85ef61fb-a140-4293-b467-e34949be6aa9",
   "metadata": {},
   "outputs": [],
   "source": [
    "onnx_infered_outputs = {}\n",
    "with np.load(onnx_output_path) as data:\n",
    "    for  k in data.keys():\n",
    "        onnx_infered_outputs[k] = data[k]"
   ]
  },
  {
   "cell_type": "code",
   "execution_count": 21,
   "id": "d0fdd9bf-c2c7-4259-94e9-3f7104a6a8c7",
   "metadata": {},
   "outputs": [],
   "source": [
    "onnx_infered_outputs['reduce_mean'].tofile(\"/Users/bob/Downloads/reduce_mean_3_input/reduce_mean_3_output.bin\")"
   ]
  },
  {
   "cell_type": "markdown",
   "id": "86a5a127-c6c2-4d82-937a-6a740a478dab",
   "metadata": {},
   "source": [
    "#### Run ONNX"
   ]
  },
  {
   "cell_type": "code",
   "execution_count": 10,
   "id": "7c106c5c-eaaf-4af0-b68c-f44e8201defa",
   "metadata": {},
   "outputs": [],
   "source": [
    "outputs = sess.run(None, inputs)"
   ]
  },
  {
   "cell_type": "code",
   "execution_count": 11,
   "id": "f73f1305-6e9d-40a6-a6c4-b747c5cbe544",
   "metadata": {},
   "outputs": [
    {
     "data": {
      "text/plain": [
       "array([0.44793013, 0.5031735 , 0.47086844, 0.42500693, 0.49454945,\n",
       "       0.46459344, 0.4326595 , 0.47928378, 0.6065165 , 0.5034367 ],\n",
       "      dtype=float32)"
      ]
     },
     "execution_count": 11,
     "metadata": {},
     "output_type": "execute_result"
    }
   ],
   "source": [
    "outputs[0].flatten()[:10]"
   ]
  },
  {
   "cell_type": "code",
   "execution_count": 12,
   "id": "03593c31-7d02-4842-ad44-13f3cc3b2b21",
   "metadata": {},
   "outputs": [
    {
     "data": {
      "text/plain": [
       "(29, 40, 1, 15)"
      ]
     },
     "execution_count": 12,
     "metadata": {},
     "output_type": "execute_result"
    }
   ],
   "source": [
    "outputs[0].shape"
   ]
  },
  {
   "cell_type": "markdown",
   "id": "a2ffb0cc-2d56-4bbd-8d33-a01a860470a7",
   "metadata": {},
   "source": [
    "### Test P"
   ]
  },
  {
   "cell_type": "markdown",
   "id": "ed42b1c9-97ae-4ab5-83ff-c4aaa5d31d68",
   "metadata": {},
   "source": [
    "### PNN API"
   ]
  },
  {
   "cell_type": "code",
   "execution_count": 140,
   "id": "1d6affa8-caf7-4a40-87b5-46d3b0b30855",
   "metadata": {},
   "outputs": [
    {
     "data": {
      "text/plain": [
       "(array([ 0,  2,  3,  8, 10]),\n",
       " array([ 0, 18,  2,  3, 17]),\n",
       " array([ 0,  3, 12,  3,  3]),\n",
       " array([ 4,  2,  1, 14, 10]))"
      ]
     },
     "execution_count": 140,
     "metadata": {},
     "output_type": "execute_result"
    }
   ],
   "source": [
    "np.where(abs(test_p - 1.1426839) < 1e-5)"
   ]
  },
  {
   "cell_type": "code",
   "execution_count": 144,
   "id": "e07495a7-7856-48fe-8058-183646286ee6",
   "metadata": {},
   "outputs": [
    {
     "data": {
      "text/plain": [
       "1.1426804"
      ]
     },
     "execution_count": 144,
     "metadata": {},
     "output_type": "execute_result"
    }
   ],
   "source": [
    "test_p[10,17,3,10]"
   ]
  },
  {
   "cell_type": "code",
   "execution_count": null,
   "id": "cef86a22-904e-4017-963f-70569917a25f",
   "metadata": {},
   "outputs": [],
   "source": []
  },
  {
   "cell_type": "markdown",
   "id": "1ed6f84f-b7b2-4372-a33e-7eebc4b7c815",
   "metadata": {},
   "source": [
    "### PNN Inference"
   ]
  },
  {
   "cell_type": "code",
   "execution_count": 12,
   "id": "296c4fbd-62f4-4706-b912-5b4f5c2ca763",
   "metadata": {},
   "outputs": [],
   "source": [
    "import pnn"
   ]
  },
  {
   "cell_type": "code",
   "execution_count": 13,
   "id": "bca8dc5e-7126-424a-83a4-f7450fd2dea8",
   "metadata": {},
   "outputs": [],
   "source": [
    "model_path = \"/Users/bob/Downloads/reduce_mean_3_input/reduce_mean_3_gpu.pnn\""
   ]
  },
  {
   "cell_type": "code",
   "execution_count": 14,
   "id": "5ecdd275-d559-49e0-9beb-69b932a66f60",
   "metadata": {},
   "outputs": [
    {
     "name": "stderr",
     "output_type": "stream",
     "text": [
      "\u001b[;31mERROR\u001b[0m [/Users/bob/code/ByteDance/PNN/src/core/Engine.cpp:81::LoadGraph] Partition failed caused by: Unsupported\n"
     ]
    }
   ],
   "source": [
    "config = pnn.engine_config()\n",
    "config.devices = [pnn.cpu_device()]  # now don't support inplace assign, eg: append\n",
    "# need to learn pybind11 to handle this\n",
    "engine = pnn.engine(config)\n",
    "status = engine.load_model(model_path)"
   ]
  },
  {
   "cell_type": "code",
   "execution_count": 211,
   "id": "7c8353ee-e343-48a1-bcc2-237aa31bded8",
   "metadata": {},
   "outputs": [],
   "source": [
    "assert status == pnn.STATUS.OK\n",
    "\n",
    "pnn_inputs = engine.mutable_inputs()  # type: list\n",
    "\n",
    "infer_result = {}\n",
    "\n",
    "\n",
    "def after_callback(outputs, metric: pnn.op_metric):\n",
    "    # get executor/node name -> metric.name\n",
    "    for o in outputs:\n",
    "        infer_result[o.name] = o.data()\n",
    "    return True"
   ]
  },
  {
   "cell_type": "code",
   "execution_count": 212,
   "id": "5bb9491a-d3a2-4c17-bab9-da6a50747d08",
   "metadata": {},
   "outputs": [],
   "source": [
    "with np.load(input_path) as values:\n",
    "    for i in pnn_inputs:\n",
    "        i.assign(values[i.name])"
   ]
  },
  {
   "cell_type": "code",
   "execution_count": 213,
   "id": "01198ca7-01cf-4579-95bd-258029d18587",
   "metadata": {},
   "outputs": [
    {
     "name": "stdout",
     "output_type": "stream",
     "text": [
      "(2, 16)\n",
      "[1.         1.         1.         0.74791116 1.         1.\n",
      " 1.         1.         1.         1.        ]\n",
      "float32\n",
      "(2, 16)\n",
      "[1.         1.         1.         0.74791116 1.         1.\n",
      " 1.         1.         1.         1.        ]\n"
     ]
    }
   ],
   "source": [
    "status = engine.run(None, after_callback)\n",
    "assert status == pnn.STATUS.OK\n",
    "\n",
    "outputs = engine.get_outputs()\n",
    "\n",
    "print(outputs[0].data().shape)\n",
    "o = outputs[0].data().flatten()\n",
    "print(o[:10])\n",
    "print(o.dtype)\n",
    "\n",
    "print(infer_result[\"matmul\"].shape)\n",
    "print(infer_result[\"matmul\"].flatten()[:10])"
   ]
  },
  {
   "cell_type": "code",
   "execution_count": 9,
   "id": "fb4024ea-c6bd-40b2-9086-f7157ae5ab40",
   "metadata": {},
   "outputs": [],
   "source": [
    "import numpy as np"
   ]
  },
  {
   "cell_type": "code",
   "execution_count": 13,
   "id": "f14cdc1f-41d5-4d5c-8f51-9e22651c5654",
   "metadata": {},
   "outputs": [],
   "source": [
    "tmp_path = \"/Users/bob/Downloads/windows_ci_report/python_test_report/tmp/20220622-14-29-41/convolution_2d_0_onnx_output.npz\""
   ]
  },
  {
   "cell_type": "code",
   "execution_count": 14,
   "id": "b967159c-fc76-416c-af40-cc564483c329",
   "metadata": {},
   "outputs": [],
   "source": [
    "a = {}"
   ]
  },
  {
   "cell_type": "code",
   "execution_count": 15,
   "id": "b7947488-81ff-427f-813e-e39c1be08d29",
   "metadata": {},
   "outputs": [],
   "source": [
    "with np.load(tmp_path) as data:\n",
    "    for  k in data.keys():\n",
    "        a[k] = data[k]"
   ]
  },
  {
   "cell_type": "code",
   "execution_count": 17,
   "id": "7414a13f-e1a2-4b7f-9ffa-b72c1399010c",
   "metadata": {},
   "outputs": [],
   "source": [
    "a['convolution'].tofile(\"/Users/bob/Downloads/windows_ci_report/python_test_report/tmp/20220622-14-29-41/convolution_2d_0_output.bin\")"
   ]
  },
  {
   "cell_type": "code",
   "execution_count": 1,
   "id": "b9af6ad3-df5d-4d3f-9cd6-8ae99f3a58d9",
   "metadata": {},
   "outputs": [],
   "source": [
    "import os"
   ]
  },
  {
   "cell_type": "code",
   "execution_count": 4,
   "id": "a857911a-90ae-4ea8-9b03-4dcb62dd14f3",
   "metadata": {},
   "outputs": [
    {
     "name": "stdout",
     "output_type": "stream",
     "text": [
      "/Users/bob/code/ByteDance/PNN/tools/converter test\n",
      "/Users/bob/code/ByteDance/PNN/tools/converter src\n",
      "/Users/bob/code/ByteDance/PNN/tools/converter/test onnx\n",
      "/Users/bob/code/ByteDance/PNN/tools/converter/test test_data\n",
      "/Users/bob/code/ByteDance/PNN/tools/converter/test tensorflow\n",
      "/Users/bob/code/ByteDance/PNN/tools/converter/test/test_data onnx\n",
      "/Users/bob/code/ByteDance/PNN/tools/converter/test/test_data tensorflow\n",
      "/Users/bob/code/ByteDance/PNN/tools/converter/test/test_data/onnx mobilenetv2\n",
      "/Users/bob/code/ByteDance/PNN/tools/converter/test/test_data/onnx deepfm\n",
      "/Users/bob/code/ByteDance/PNN/tools/converter/test/test_data/tensorflow mobilenetv2\n",
      "/Users/bob/code/ByteDance/PNN/tools/converter/test/test_data/tensorflow deepfm\n",
      "/Users/bob/code/ByteDance/PNN/tools/converter/src core\n",
      "/Users/bob/code/ByteDance/PNN/tools/converter/src onnx\n",
      "/Users/bob/code/ByteDance/PNN/tools/converter/src common\n",
      "/Users/bob/code/ByteDance/PNN/tools/converter/src tensorflow\n",
      "/Users/bob/code/ByteDance/PNN/tools/converter/src legalizer\n"
     ]
    }
   ],
   "source": [
    "for path, dirnames, filenames in os.walk('/Users/bob/code/ByteDance/PNN/tools/converter'):\n",
    "    # print path to all subdirectories first.\n",
    "    for subdirname in dirnames:\n",
    "        print(path,subdirname)"
   ]
  },
  {
   "cell_type": "code",
   "execution_count": 18,
   "id": "cb371d33-a667-4c41-80a6-3567fc0c6a2f",
   "metadata": {},
   "outputs": [],
   "source": [
    "import tensorflow as tf"
   ]
  },
  {
   "cell_type": "code",
   "execution_count": 19,
   "id": "a2e192bb-ec87-4538-a583-b23121e2ad40",
   "metadata": {},
   "outputs": [
    {
     "name": "stderr",
     "output_type": "stream",
     "text": [
      "2022-04-19 20:41:16.060005: I tensorflow/compiler/jit/xla_cpu_device.cc:41] Not creating XLA devices, tf_xla_enable_xla_devices not set\n",
      "2022-04-19 20:41:16.062321: I tensorflow/core/platform/cpu_feature_guard.cc:142] This TensorFlow binary is optimized with oneAPI Deep Neural Network Library (oneDNN) to use the following CPU instructions in performance-critical operations:  AVX2 FMA\n",
      "To enable them in other operations, rebuild TensorFlow with the appropriate compiler flags.\n"
     ]
    }
   ],
   "source": [
    "input_shape = (4, 28, 28, 3)\n",
    "x = tf.random.normal(input_shape)\n",
    "y = tf.keras.layers.Conv2D(\n",
    "2, 3, activation='relu', input_shape=input_shape[1:])(x)"
   ]
  },
  {
   "cell_type": "code",
   "execution_count": 29,
   "id": "fbda84aa-9961-4711-850b-89338cfccabc",
   "metadata": {},
   "outputs": [],
   "source": [
    "import numpy as np"
   ]
  },
  {
   "cell_type": "code",
   "execution_count": 30,
   "id": "750a46fe-c52f-4279-9ab6-818a62a29513",
   "metadata": {},
   "outputs": [],
   "source": [
    "a = np.random.rand(2,1,4)"
   ]
  },
  {
   "cell_type": "code",
   "execution_count": 33,
   "id": "538e55db-53f4-431b-8352-03c617f66b3d",
   "metadata": {},
   "outputs": [],
   "source": [
    "b = np.random.rand(4)"
   ]
  },
  {
   "cell_type": "code",
   "execution_count": 34,
   "id": "b8ef8bee-dd15-4835-ba12-f525c921f973",
   "metadata": {},
   "outputs": [
    {
     "data": {
      "text/plain": [
       "array([[[-0.16892279,  0.15003531, -0.57425805,  0.3597487 ]],\n",
       "\n",
       "       [[-0.75622075, -0.08833513, -0.76440729, -0.05332514]]])"
      ]
     },
     "execution_count": 34,
     "metadata": {},
     "output_type": "execute_result"
    }
   ],
   "source": [
    "a - b"
   ]
  },
  {
   "cell_type": "code",
   "execution_count": 36,
   "id": "8c3fdcb6-e56f-44b3-9fa7-5394e57f6f23",
   "metadata": {},
   "outputs": [],
   "source": [
    "c = a-b"
   ]
  },
  {
   "cell_type": "code",
   "execution_count": 37,
   "id": "0803ba1a-4fe3-40fa-94e1-3e2ad9d90e3d",
   "metadata": {},
   "outputs": [
    {
     "data": {
      "text/plain": [
       "(2, 1, 4)"
      ]
     },
     "execution_count": 37,
     "metadata": {},
     "output_type": "execute_result"
    }
   ],
   "source": [
    "c.shape"
   ]
  },
  {
   "cell_type": "markdown",
   "id": "9583b912-bd4f-4e35-9e37-f389a55022bb",
   "metadata": {},
   "source": [
    "### Infer Qualitai"
   ]
  },
  {
   "cell_type": "code",
   "execution_count": 35,
   "id": "f88528e4-932e-4c7f-a722-ab875c096843",
   "metadata": {},
   "outputs": [],
   "source": [
    "import numpy as np\n",
    "import onnx\n",
    "import onnxruntime as ort\n",
    "from onnx.helper import make_tensor, make_model, make_graph\n",
    "from onnx import ValueInfoProto"
   ]
  },
  {
   "cell_type": "code",
   "execution_count": 23,
   "id": "1678f927-93c9-4a97-a960-899c6ab04b18",
   "metadata": {},
   "outputs": [],
   "source": [
    "save_prefix = \"/Users/bob/docs/ByteDance/PNN/converter/quality/\""
   ]
  },
  {
   "cell_type": "code",
   "execution_count": 29,
   "id": "36df1ebc-ea87-4c94-8026-89c489ed434f",
   "metadata": {},
   "outputs": [],
   "source": [
    "model_path = \"/Users/bob/docs/ByteDance/PNN/converter/quality/load_fail.onnx\""
   ]
  },
  {
   "cell_type": "code",
   "execution_count": 15,
   "id": "b0ede804-3e2d-4604-bfa9-4ae218fdc334",
   "metadata": {},
   "outputs": [],
   "source": [
    "data = np.random.uniform(size = [1,3,640,640]).astype(np.float32)"
   ]
  },
  {
   "cell_type": "code",
   "execution_count": 17,
   "id": "c534cd04-8e54-47c8-8aea-acbcc3c6b9a6",
   "metadata": {},
   "outputs": [],
   "source": [
    "sess = ort.InferenceSession(model_path)"
   ]
  },
  {
   "cell_type": "code",
   "execution_count": 19,
   "id": "427b0cbe-ae10-431b-b78c-46e104253796",
   "metadata": {},
   "outputs": [],
   "source": [
    "outputs  = sess.run(None, {\"images\" : data})"
   ]
  },
  {
   "cell_type": "code",
   "execution_count": 24,
   "id": "35df16d5-9c68-44e7-a47e-67f99122d751",
   "metadata": {},
   "outputs": [],
   "source": [
    "outputs[0].tofile(save_prefix + \"onnx_output.bin\")"
   ]
  },
  {
   "cell_type": "code",
   "execution_count": 25,
   "id": "2b15ed40-e5f1-4904-8d01-40ee352599db",
   "metadata": {},
   "outputs": [],
   "source": [
    "data.tofile(save_prefix + \"onnx_input.bin\")"
   ]
  },
  {
   "cell_type": "code",
   "execution_count": 27,
   "id": "bfea00c2-e438-4847-9486-31fd1ef8c285",
   "metadata": {},
   "outputs": [
    {
     "data": {
      "text/plain": [
       "0.9429071"
      ]
     },
     "execution_count": 27,
     "metadata": {},
     "output_type": "execute_result"
    }
   ],
   "source": [
    "outputs[0].flatten()[0]"
   ]
  },
  {
   "cell_type": "code",
   "execution_count": 28,
   "id": "e1196409-cff2-4a7b-87bf-bcb36013236c",
   "metadata": {},
   "outputs": [
    {
     "ename": "InvalidArgument",
     "evalue": "[ONNXRuntimeError] : 2 : INVALID_ARGUMENT : Invalid Output Name:Mul_142",
     "output_type": "error",
     "traceback": [
      "\u001b[0;31m---------------------------------------------------------------------------\u001b[0m",
      "\u001b[0;31mInvalidArgument\u001b[0m                           Traceback (most recent call last)",
      "Input \u001b[0;32mIn [28]\u001b[0m, in \u001b[0;36m<module>\u001b[0;34m\u001b[0m\n\u001b[0;32m----> 1\u001b[0m outputs  \u001b[38;5;241m=\u001b[39m \u001b[43msess\u001b[49m\u001b[38;5;241;43m.\u001b[39;49m\u001b[43mrun\u001b[49m\u001b[43m(\u001b[49m\u001b[43m[\u001b[49m\u001b[38;5;124;43m'\u001b[39;49m\u001b[38;5;124;43mMul_142\u001b[39;49m\u001b[38;5;124;43m'\u001b[39;49m\u001b[43m,\u001b[49m\u001b[38;5;124;43m'\u001b[39;49m\u001b[38;5;124;43mUpsample_122\u001b[39;49m\u001b[38;5;124;43m'\u001b[39;49m\u001b[43m,\u001b[49m\u001b[43m]\u001b[49m\u001b[43m,\u001b[49m\u001b[43m \u001b[49m\u001b[43m{\u001b[49m\u001b[38;5;124;43m\"\u001b[39;49m\u001b[38;5;124;43mimages\u001b[39;49m\u001b[38;5;124;43m\"\u001b[39;49m\u001b[43m \u001b[49m\u001b[43m:\u001b[49m\u001b[43m \u001b[49m\u001b[43mdata\u001b[49m\u001b[43m}\u001b[49m\u001b[43m)\u001b[49m\n",
      "File \u001b[0;32m/opt/anaconda3/envs/d2l/lib/python3.8/site-packages/onnxruntime/capi/onnxruntime_inference_collection.py:192\u001b[0m, in \u001b[0;36mSession.run\u001b[0;34m(self, output_names, input_feed, run_options)\u001b[0m\n\u001b[1;32m    190\u001b[0m     output_names \u001b[38;5;241m=\u001b[39m [output\u001b[38;5;241m.\u001b[39mname \u001b[38;5;28;01mfor\u001b[39;00m output \u001b[38;5;129;01min\u001b[39;00m \u001b[38;5;28mself\u001b[39m\u001b[38;5;241m.\u001b[39m_outputs_meta]\n\u001b[1;32m    191\u001b[0m \u001b[38;5;28;01mtry\u001b[39;00m:\n\u001b[0;32m--> 192\u001b[0m     \u001b[38;5;28;01mreturn\u001b[39;00m \u001b[38;5;28;43mself\u001b[39;49m\u001b[38;5;241;43m.\u001b[39;49m\u001b[43m_sess\u001b[49m\u001b[38;5;241;43m.\u001b[39;49m\u001b[43mrun\u001b[49m\u001b[43m(\u001b[49m\u001b[43moutput_names\u001b[49m\u001b[43m,\u001b[49m\u001b[43m \u001b[49m\u001b[43minput_feed\u001b[49m\u001b[43m,\u001b[49m\u001b[43m \u001b[49m\u001b[43mrun_options\u001b[49m\u001b[43m)\u001b[49m\n\u001b[1;32m    193\u001b[0m \u001b[38;5;28;01mexcept\u001b[39;00m C\u001b[38;5;241m.\u001b[39mEPFail \u001b[38;5;28;01mas\u001b[39;00m err:\n\u001b[1;32m    194\u001b[0m     \u001b[38;5;28;01mif\u001b[39;00m \u001b[38;5;28mself\u001b[39m\u001b[38;5;241m.\u001b[39m_enable_fallback:\n",
      "\u001b[0;31mInvalidArgument\u001b[0m: [ONNXRuntimeError] : 2 : INVALID_ARGUMENT : Invalid Output Name:Mul_142"
     ]
    }
   ],
   "source": [
    "outputs  = sess.run(None, {\"images\" : data})"
   ]
  },
  {
   "cell_type": "code",
   "execution_count": 83,
   "id": "9bea4b64-e2c5-45a9-a9bf-1f3b80fb9a29",
   "metadata": {},
   "outputs": [],
   "source": [
    "onnx_model = onnx.load(model_path)"
   ]
  },
  {
   "cell_type": "code",
   "execution_count": 84,
   "id": "0e8e7911-615b-48f2-a23a-5e4b0427ffe2",
   "metadata": {},
   "outputs": [],
   "source": [
    "def extend_model_outputs(model, outputs=None):\n",
    "    \"\"\"\n",
    "    Extend model's outputs\n",
    "    :param model: *ONNX* model\n",
    "    :param outputs: new outputs -> str list\n",
    "    :return: modified model\n",
    "    \"\"\"\n",
    "    if outputs is None:\n",
    "        raise ValueError(\"Outputs cannot be None.\")\n",
    "\n",
    "    if not isinstance(outputs, list):\n",
    "        outputs = [outputs]\n",
    "    original_outputs = [o.name for o in model.graph.output]  # type: list\n",
    "\n",
    "    var_out = []\n",
    "    for out in outputs:\n",
    "        if out in original_outputs:\n",
    "            continue\n",
    "        value_info = ValueInfoProto()\n",
    "        value_info.name = out\n",
    "        var_out.append(value_info)\n",
    "    # extend original graph outputs\n",
    "    var_out.extend(list(model.graph.output))\n",
    "    graph = make_graph(model.graph.node, model.graph.name, model.graph.input,\n",
    "                       var_out, model.graph.initializer)\n",
    "    onnx_model = make_model(graph)\n",
    "    onnx_model.ir_version = model.ir_version\n",
    "    onnx_model.producer_name = model.producer_name\n",
    "    onnx_model.producer_version = model.producer_version\n",
    "    onnx_model.domain = model.domain\n",
    "    onnx_model.model_version = model.model_version\n",
    "    onnx_model.doc_string = model.doc_string\n",
    "    if len(model.metadata_props) > 0:\n",
    "        values = {p.key: p.value for p in model.metadata_props}\n",
    "        onnx.helper.set_model_props(onnx_model, values)\n",
    "\n",
    "    if len(onnx_model.graph.input) != len(model.graph.input):\n",
    "        raise RuntimeError(\"Input mismatch {} != {}\".format(\n",
    "            len(onnx_model.input), len(model.input)))\n",
    "\n",
    "    # fix opset import\n",
    "    del onnx_model.opset_import[:]\n",
    "    for oimp in model.opset_import:\n",
    "        op_set = onnx_model.opset_import.add()\n",
    "        op_set.domain = oimp.domain\n",
    "        op_set.version = oimp.version\n",
    "    return onnx_model"
   ]
  },
  {
   "cell_type": "code",
   "execution_count": 85,
   "id": "7ad5a9d6-a323-4fd3-ad54-a70f830b4da4",
   "metadata": {},
   "outputs": [],
   "source": [
    "new_model = extend_model_outputs(onnx_model,[\"614\",\"616\"])"
   ]
  },
  {
   "cell_type": "code",
   "execution_count": 86,
   "id": "905346a7-62ec-465c-9b56-e8f823ea0db1",
   "metadata": {},
   "outputs": [],
   "source": [
    "onnx.save(new_model, save_prefix + \"new_model.onnx\")"
   ]
  },
  {
   "cell_type": "code",
   "execution_count": 41,
   "id": "f72bb1ed-38be-43f5-813b-eaeac30ae6a0",
   "metadata": {},
   "outputs": [],
   "source": [
    "new_sess = ort.InferenceSession(save_prefix + \"new_model.onnx\")"
   ]
  },
  {
   "cell_type": "code",
   "execution_count": 53,
   "id": "1457e925-70eb-40c3-899b-fd20f845a098",
   "metadata": {},
   "outputs": [],
   "source": [
    "new_outputs  = new_sess.run([\"output\",\"642\",\"644\"], {\"images\" : data})"
   ]
  },
  {
   "cell_type": "code",
   "execution_count": 56,
   "id": "733c9d13-85ab-442e-a9ed-1da66fdde337",
   "metadata": {},
   "outputs": [],
   "source": [
    "new_outputs[1].tofile(save_prefix + \"upsample_input.bin\")"
   ]
  },
  {
   "cell_type": "code",
   "execution_count": 57,
   "id": "59b30e51-8bcd-4a09-a35b-5ac4722b9dfb",
   "metadata": {},
   "outputs": [],
   "source": [
    "new_outputs[2].tofile(save_prefix + \"upsample_output.bin\")"
   ]
  },
  {
   "cell_type": "code",
   "execution_count": 58,
   "id": "46d04e83-59af-45b8-acac-c084543f69d0",
   "metadata": {},
   "outputs": [],
   "source": [
    "upsample_input = new_outputs[1]"
   ]
  },
  {
   "cell_type": "code",
   "execution_count": 64,
   "id": "57a55a3c-b806-4b6c-9b3e-6749c4e3001b",
   "metadata": {},
   "outputs": [
    {
     "data": {
      "text/plain": [
       "array([ 0.78252816,  0.79711086,  1.1949968 ,  0.952159  ,  0.7991512 ,\n",
       "        0.7115123 ,  0.53460616,  0.68280643, -0.0542749 ,  0.3403077 ],\n",
       "      dtype=float32)"
      ]
     },
     "execution_count": 64,
     "metadata": {},
     "output_type": "execute_result"
    }
   ],
   "source": [
    "upsample_input.flatten()[:10]"
   ]
  },
  {
   "cell_type": "code",
   "execution_count": 62,
   "id": "335516b4-8bb2-4663-b3fc-c1c4f9e8ee6e",
   "metadata": {},
   "outputs": [],
   "source": [
    "upsample_output = new_outputs[2]"
   ]
  },
  {
   "cell_type": "code",
   "execution_count": 72,
   "id": "29717bc7-4698-4ebb-843e-e3a1594c4ce8",
   "metadata": {},
   "outputs": [
    {
     "data": {
      "text/plain": [
       "array([0.78252816, 0.7898195 , 0.79711086, 0.9960538 , 1.1949968 ,\n",
       "       1.0735779 , 0.952159  , 0.87565506, 0.7991512 , 0.75533175,\n",
       "       0.7115123 , 0.6230593 , 0.53460616, 0.6087063 , 0.68280643,\n",
       "       0.31426576], dtype=float32)"
      ]
     },
     "execution_count": 72,
     "metadata": {},
     "output_type": "execute_result"
    }
   ],
   "source": [
    "upsample_output.flatten()[:16]"
   ]
  },
  {
   "cell_type": "code",
   "execution_count": null,
   "id": "d8132749-623c-45ef-99bd-8954acc99af6",
   "metadata": {},
   "outputs": [],
   "source": [
    "def nchw2nc4hw4(nchw_data):\n",
    "    shape = nchw_data.shape\n",
    "    original_c = shape[1]\n",
    "    c4 = (shape[1] // 4) + 1\n",
    "    shape[1] = c4\n",
    "    shape.append(4)\n",
    "    c4array = np.zeros(shape)\n",
    "    for b in range(shape[0]):\n",
    "        for i in range(c4):\n",
    "            c = c4 * 4\n",
    "            if c < original_c:\n",
    "                c4array[b,c:c+4,]"
   ]
  },
  {
   "cell_type": "code",
   "execution_count": 69,
   "id": "7e9b247e-1eb1-4796-b889-1c41fb69c0e9",
   "metadata": {},
   "outputs": [],
   "source": [
    "result = new_outputs[0]"
   ]
  },
  {
   "cell_type": "code",
   "execution_count": 82,
   "id": "b26c2f3d-566b-472b-bb18-dffc997cae58",
   "metadata": {},
   "outputs": [
    {
     "data": {
      "text/plain": [
       "0.6733867"
      ]
     },
     "execution_count": 82,
     "metadata": {},
     "output_type": "execute_result"
    }
   ],
   "source": [
    "result.flatten()[1]"
   ]
  },
  {
   "cell_type": "code",
   "execution_count": 73,
   "id": "0724dfd5-280d-41f6-889f-cdfb080862bb",
   "metadata": {},
   "outputs": [],
   "source": [
    "test_output = np.fromfile(save_prefix + \"upsample_output.bin\",dtype=np.float32)"
   ]
  },
  {
   "cell_type": "code",
   "execution_count": 81,
   "id": "65753f15-2ab9-4ca7-b098-8b4c16483846",
   "metadata": {},
   "outputs": [
    {
     "data": {
      "text/plain": [
       "4.0294362e-05"
      ]
     },
     "execution_count": 81,
     "metadata": {},
     "output_type": "execute_result"
    }
   ],
   "source": [
    "test_output[11564]"
   ]
  },
  {
   "cell_type": "markdown",
   "id": "00394d22-fdc7-49d2-a987-26cf03c31d36",
   "metadata": {},
   "source": [
    "### Fix PNN"
   ]
  },
  {
   "cell_type": "code",
   "execution_count": null,
   "id": "217978e8-e618-4faa-b1ff-abf8d5209e4f",
   "metadata": {},
   "outputs": [],
   "source": []
  }
 ],
 "metadata": {
  "kernelspec": {
   "display_name": "Python 3 (ipykernel)",
   "language": "python",
   "name": "python3"
  },
  "language_info": {
   "codemirror_mode": {
    "name": "ipython",
    "version": 3
   },
   "file_extension": ".py",
   "mimetype": "text/x-python",
   "name": "python",
   "nbconvert_exporter": "python",
   "pygments_lexer": "ipython3",
   "version": "3.8.12"
  }
 },
 "nbformat": 4,
 "nbformat_minor": 5
}
