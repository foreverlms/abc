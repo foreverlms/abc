{
 "cells": [
  {
   "cell_type": "code",
   "execution_count": 1,
   "id": "b301c07f-0bba-40f8-82ba-d65d5c3a5da2",
   "metadata": {},
   "outputs": [],
   "source": [
    "import numpy as np\n",
    "from functools import reduce\n",
    "import torch"
   ]
  },
  {
   "cell_type": "code",
   "execution_count": 8,
   "id": "66a1860b-2154-4f12-ab01-2d07e9c887ea",
   "metadata": {},
   "outputs": [],
   "source": [
    "def create_data(shape, begin = 0, truncate = False, truncate_base = 13):\n",
    "    size = reduce(lambda x, y: x * y, shape)\n",
    "    res = []\n",
    "    for i in range(size):\n",
    "        res.append(i % 5)\n",
    "    return np.array(res,dtype=np.float32).reshape(shape)"
   ]
  },
  {
   "cell_type": "code",
   "execution_count": 140,
   "id": "211fe166-abf9-436a-95e6-67bee99fa9a4",
   "metadata": {},
   "outputs": [],
   "source": [
    "data = np.transpose(create_data([1,7,7,1]),(0,3,1,2)) # nchw"
   ]
  },
  {
   "cell_type": "code",
   "execution_count": 141,
   "id": "fc360a20-8c17-48d6-a7c9-b46631f454ca",
   "metadata": {},
   "outputs": [],
   "source": [
    "# pad data to input unit buffer\n",
    "pad_data = np.pad(data, ((0,0),(0,0),(0,4),(0,4)), mode='constant') "
   ]
  },
  {
   "cell_type": "code",
   "execution_count": 142,
   "id": "767773be-e7b6-46ec-a2b5-64b08a0b022e",
   "metadata": {},
   "outputs": [
    {
     "data": {
      "text/plain": [
       "array([[[[0., 1., 2., 3., 4., 0., 1., 0., 0., 0., 0.],\n",
       "         [2., 3., 4., 0., 1., 2., 3., 0., 0., 0., 0.],\n",
       "         [4., 0., 1., 2., 3., 4., 0., 0., 0., 0., 0.],\n",
       "         [1., 2., 3., 4., 0., 1., 2., 0., 0., 0., 0.],\n",
       "         [3., 4., 0., 1., 2., 3., 4., 0., 0., 0., 0.],\n",
       "         [0., 1., 2., 3., 4., 0., 1., 0., 0., 0., 0.],\n",
       "         [2., 3., 4., 0., 1., 2., 3., 0., 0., 0., 0.],\n",
       "         [0., 0., 0., 0., 0., 0., 0., 0., 0., 0., 0.],\n",
       "         [0., 0., 0., 0., 0., 0., 0., 0., 0., 0., 0.],\n",
       "         [0., 0., 0., 0., 0., 0., 0., 0., 0., 0., 0.],\n",
       "         [0., 0., 0., 0., 0., 0., 0., 0., 0., 0., 0.]]]], dtype=float32)"
      ]
     },
     "execution_count": 142,
     "metadata": {},
     "output_type": "execute_result"
    }
   ],
   "source": [
    "pad_data"
   ]
  },
  {
   "cell_type": "code",
   "execution_count": 143,
   "id": "362035b6-bd39-4c56-813a-ea18f19cabe2",
   "metadata": {},
   "outputs": [],
   "source": [
    "kernel3x3_input = pad_data[:,:,0::2,0::2]"
   ]
  },
  {
   "cell_type": "code",
   "execution_count": 144,
   "id": "874316ea-44f1-44cc-8867-a26597963381",
   "metadata": {},
   "outputs": [],
   "source": [
    "kernel3x2_input = pad_data[:,:,0::2,1::2]"
   ]
  },
  {
   "cell_type": "code",
   "execution_count": 145,
   "id": "c757702e-0da2-4763-acb5-af988a879e64",
   "metadata": {},
   "outputs": [
    {
     "data": {
      "text/plain": [
       "(1, 1, 6, 5)"
      ]
     },
     "execution_count": 145,
     "metadata": {},
     "output_type": "execute_result"
    }
   ],
   "source": [
    "kernel3x2_input.shape"
   ]
  },
  {
   "cell_type": "code",
   "execution_count": 146,
   "id": "b03db732-6653-4fee-8d8b-84b2d58c50ed",
   "metadata": {},
   "outputs": [],
   "source": [
    "kernel2x3_input = pad_data[:,:,1::2,0::2]"
   ]
  },
  {
   "cell_type": "code",
   "execution_count": 147,
   "id": "5b28bea4-b032-44af-ad7b-90014db6a692",
   "metadata": {},
   "outputs": [],
   "source": [
    "kernel2x2_input = pad_data[:,:,1::2,1::2]"
   ]
  },
  {
   "cell_type": "code",
   "execution_count": 148,
   "id": "47034a12-bec9-4b76-8e23-037cf72ec69b",
   "metadata": {},
   "outputs": [],
   "source": [
    "weight = np.transpose(np.array([i % 4 for i in range(1*1*5*5)], dtype=np.float32).reshape((1,5,5,1)),(0,3,1,2))"
   ]
  },
  {
   "cell_type": "code",
   "execution_count": 173,
   "id": "8aef361b-a585-478c-8b13-e07bf81df903",
   "metadata": {},
   "outputs": [
    {
     "data": {
      "text/plain": [
       "array([[[[0., 1., 2., 3., 0.],\n",
       "         [1., 2., 3., 0., 1.],\n",
       "         [2., 3., 0., 1., 2.],\n",
       "         [3., 0., 1., 2., 3.],\n",
       "         [0., 1., 2., 3., 0.]]]], dtype=float32)"
      ]
     },
     "execution_count": 173,
     "metadata": {},
     "output_type": "execute_result"
    }
   ],
   "source": [
    "weight"
   ]
  },
  {
   "cell_type": "code",
   "execution_count": 149,
   "id": "f4ce96a7-8dfc-4a39-9dce-78e18d54f947",
   "metadata": {},
   "outputs": [
    {
     "data": {
      "text/plain": [
       "(1, 1, 5, 5)"
      ]
     },
     "execution_count": 149,
     "metadata": {},
     "output_type": "execute_result"
    }
   ],
   "source": [
    "weight.shape"
   ]
  },
  {
   "cell_type": "code",
   "execution_count": 150,
   "id": "4e2b5bf9-5dc4-4d16-8da9-9648bcb2c111",
   "metadata": {},
   "outputs": [],
   "source": [
    "kernel_3x3 = weight[:,:,0::2,0::2] # o,i,h,w"
   ]
  },
  {
   "cell_type": "code",
   "execution_count": 151,
   "id": "a842005f-63a0-40cb-b3bf-01d00b4278fe",
   "metadata": {},
   "outputs": [
    {
     "data": {
      "text/plain": [
       "(1, 1, 3, 3)"
      ]
     },
     "execution_count": 151,
     "metadata": {},
     "output_type": "execute_result"
    }
   ],
   "source": [
    "kernel_3x3.shape"
   ]
  },
  {
   "cell_type": "code",
   "execution_count": 152,
   "id": "fb130930-9cba-4152-bdd3-3347e9d84b9f",
   "metadata": {},
   "outputs": [],
   "source": [
    "kernel_3x2= weight[:,:,0::2,1::2]"
   ]
  },
  {
   "cell_type": "code",
   "execution_count": 172,
   "id": "94fdd8c7-5a22-4741-85f3-86cb9bac76ac",
   "metadata": {},
   "outputs": [
    {
     "data": {
      "text/plain": [
       "array([[[[1., 3.],\n",
       "         [3., 1.],\n",
       "         [1., 3.]]]], dtype=float32)"
      ]
     },
     "execution_count": 172,
     "metadata": {},
     "output_type": "execute_result"
    }
   ],
   "source": [
    "kernel_3x2"
   ]
  },
  {
   "cell_type": "code",
   "execution_count": 153,
   "id": "3d8e1e50-d831-432e-beab-43b81c725c6c",
   "metadata": {},
   "outputs": [],
   "source": [
    "kernel_2x3 = weight[:,:, 1::2, 0::2]"
   ]
  },
  {
   "cell_type": "code",
   "execution_count": 154,
   "id": "81275940-f367-477e-9331-887118f1a54f",
   "metadata": {},
   "outputs": [],
   "source": [
    "kernel_2x2 = weight[:,:, 1::2, 1::2]"
   ]
  },
  {
   "cell_type": "code",
   "execution_count": 155,
   "id": "9b7f6a66-2caf-4f86-b427-52b0037d69ba",
   "metadata": {},
   "outputs": [],
   "source": [
    "res_p3x2 = torch.nn.functional.conv2d(torch.from_numpy(kernel3x2_input), torch.from_numpy(kernel_3x2), bias=None, stride=1, padding=0, dilation=1, groups=1) "
   ]
  },
  {
   "cell_type": "code",
   "execution_count": 156,
   "id": "993ca21d-6beb-424f-b4ad-abb74c3a0128",
   "metadata": {},
   "outputs": [
    {
     "data": {
      "text/plain": [
       "array([[0, 1, 2, 3, 4, 0, 1, 0, 0, 0, 0],\n",
       "       [2, 3, 4, 0, 1, 2, 3, 0, 0, 0, 0],\n",
       "       [4, 0, 1, 2, 3, 4, 0, 0, 0, 0, 0],\n",
       "       [1, 2, 3, 4, 0, 1, 2, 0, 0, 0, 0],\n",
       "       [3, 4, 0, 1, 2, 3, 4, 0, 0, 0, 0],\n",
       "       [0, 1, 2, 3, 4, 0, 1, 0, 0, 0, 0],\n",
       "       [2, 3, 4, 0, 1, 2, 3, 0, 0, 0, 0],\n",
       "       [0, 0, 0, 0, 0, 0, 0, 0, 0, 0, 0],\n",
       "       [0, 0, 0, 0, 0, 0, 0, 0, 0, 0, 0],\n",
       "       [0, 0, 0, 0, 0, 0, 0, 0, 0, 0, 0],\n",
       "       [0, 0, 0, 0, 0, 0, 0, 0, 0, 0, 0]])"
      ]
     },
     "execution_count": 156,
     "metadata": {},
     "output_type": "execute_result"
    }
   ],
   "source": [
    "tmp_array[0,:,:,0]"
   ]
  },
  {
   "cell_type": "code",
   "execution_count": 157,
   "id": "d045f0e6-6573-4a71-9681-526be8eca605",
   "metadata": {},
   "outputs": [
    {
     "data": {
      "text/plain": [
       "array([[[[0., 1., 2., 3., 4., 0., 1., 0., 0., 0., 0.],\n",
       "         [2., 3., 4., 0., 1., 2., 3., 0., 0., 0., 0.],\n",
       "         [4., 0., 1., 2., 3., 4., 0., 0., 0., 0., 0.],\n",
       "         [1., 2., 3., 4., 0., 1., 2., 0., 0., 0., 0.],\n",
       "         [3., 4., 0., 1., 2., 3., 4., 0., 0., 0., 0.],\n",
       "         [0., 1., 2., 3., 4., 0., 1., 0., 0., 0., 0.],\n",
       "         [2., 3., 4., 0., 1., 2., 3., 0., 0., 0., 0.],\n",
       "         [0., 0., 0., 0., 0., 0., 0., 0., 0., 0., 0.],\n",
       "         [0., 0., 0., 0., 0., 0., 0., 0., 0., 0., 0.],\n",
       "         [0., 0., 0., 0., 0., 0., 0., 0., 0., 0., 0.],\n",
       "         [0., 0., 0., 0., 0., 0., 0., 0., 0., 0., 0.]]]], dtype=float32)"
      ]
     },
     "execution_count": 157,
     "metadata": {},
     "output_type": "execute_result"
    }
   ],
   "source": [
    "pad_data"
   ]
  },
  {
   "cell_type": "code",
   "execution_count": 158,
   "id": "1c08ecb9-8ecc-4502-8a6b-fdc407fd27f0",
   "metadata": {},
   "outputs": [
    {
     "data": {
      "text/plain": [
       "array([[[[1., 3., 0., 0., 0.],\n",
       "         [0., 2., 4., 0., 0.],\n",
       "         [4., 1., 3., 0., 0.],\n",
       "         [3., 0., 2., 0., 0.],\n",
       "         [0., 0., 0., 0., 0.],\n",
       "         [0., 0., 0., 0., 0.]]]], dtype=float32)"
      ]
     },
     "execution_count": 158,
     "metadata": {},
     "output_type": "execute_result"
    }
   ],
   "source": [
    "kernel3x2_input"
   ]
  },
  {
   "cell_type": "code",
   "execution_count": 159,
   "id": "baf1ca74-3aed-4d61-b6ab-438a0234190e",
   "metadata": {},
   "outputs": [
    {
     "data": {
      "text/plain": [
       "tensor([[[[19., 23., 15.,  0.],\n",
       "          [22., 26., 15.,  0.],\n",
       "          [16., 12.,  9.,  0.],\n",
       "          [ 3.,  6.,  2.,  0.]]]])"
      ]
     },
     "execution_count": 159,
     "metadata": {},
     "output_type": "execute_result"
    }
   ],
   "source": [
    "res_p3x2"
   ]
  },
  {
   "cell_type": "code",
   "execution_count": 160,
   "id": "98ac6580-accb-4945-bbe1-5f6a3205b695",
   "metadata": {},
   "outputs": [],
   "source": [
    "res_p2x3 = torch.nn.functional.conv2d(torch.from_numpy(kernel2x3_input), torch.from_numpy(kernel_2x3), bias=None, stride=1, padding=0, dilation=1, groups=1) "
   ]
  },
  {
   "cell_type": "code",
   "execution_count": 161,
   "id": "ac5b31e9-3f5c-4b06-bede-a79434b0a987",
   "metadata": {},
   "outputs": [
    {
     "data": {
      "text/plain": [
       "tensor([[[[21., 25., 12.,  9.],\n",
       "          [24., 18., 19.,  5.],\n",
       "          [10., 15.,  7.,  1.],\n",
       "          [ 0.,  0.,  0.,  0.]]]])"
      ]
     },
     "execution_count": 161,
     "metadata": {},
     "output_type": "execute_result"
    }
   ],
   "source": [
    "res_p2x3"
   ]
  },
  {
   "cell_type": "code",
   "execution_count": 162,
   "id": "c40ba2d2-e98f-437e-bc62-1f220effc6be",
   "metadata": {},
   "outputs": [],
   "source": [
    "res_p3x3 = torch.nn.functional.conv2d(torch.from_numpy(kernel3x3_input), torch.from_numpy(kernel_3x3), bias=None, stride=1, padding=0, dilation=1, groups=1) "
   ]
  },
  {
   "cell_type": "code",
   "execution_count": 163,
   "id": "9ecbaeac-b00e-4742-a634-414149f9e299",
   "metadata": {},
   "outputs": [
    {
     "data": {
      "text/plain": [
       "tensor([[[[18., 14., 16.,  0.],\n",
       "          [20., 16., 10.,  8.],\n",
       "          [ 6., 18., 10.,  6.],\n",
       "          [ 8.,  2.,  6.,  0.]]]])"
      ]
     },
     "execution_count": 163,
     "metadata": {},
     "output_type": "execute_result"
    }
   ],
   "source": [
    "res_p3x3"
   ]
  },
  {
   "cell_type": "code",
   "execution_count": 164,
   "id": "93bb4d1b-beda-4f58-bc63-9b060f5957f2",
   "metadata": {},
   "outputs": [],
   "source": [
    "res_p2x2 = torch.nn.functional.conv2d(torch.from_numpy(kernel2x2_input), torch.from_numpy(kernel_2x2), bias=None, stride=1, padding=0, dilation=1, groups=1) "
   ]
  },
  {
   "cell_type": "code",
   "execution_count": 165,
   "id": "71448271-4f4f-4a1c-b0b4-fccf32fa9e4a",
   "metadata": {},
   "outputs": [
    {
     "data": {
      "text/plain": [
       "tensor([[[[14.,  2.,  4.,  0.],\n",
       "          [10.,  8.,  2.,  0.],\n",
       "          [ 2.,  6.,  0.,  0.],\n",
       "          [ 0.,  0.,  0.,  0.]]]])"
      ]
     },
     "execution_count": 165,
     "metadata": {},
     "output_type": "execute_result"
    }
   ],
   "source": [
    "res_p2x2"
   ]
  },
  {
   "cell_type": "code",
   "execution_count": 166,
   "id": "725bc88b-98cb-49cc-a5db-6d450d8f9355",
   "metadata": {},
   "outputs": [],
   "source": [
    "correct  = res_p2x2 + res_p2x3 + res_p3x2 + res_p3x3"
   ]
  },
  {
   "cell_type": "code",
   "execution_count": 167,
   "id": "89fe31aa-a2f5-41d8-9cac-5a932c0b58c9",
   "metadata": {},
   "outputs": [
    {
     "data": {
      "text/plain": [
       "tensor([[[[72., 64., 47.,  9.],\n",
       "          [76., 68., 46., 13.],\n",
       "          [34., 51., 26.,  7.],\n",
       "          [11.,  8.,  8.,  0.]]]])"
      ]
     },
     "execution_count": 167,
     "metadata": {},
     "output_type": "execute_result"
    }
   ],
   "source": [
    "correct"
   ]
  },
  {
   "cell_type": "code",
   "execution_count": 168,
   "id": "01f9ab95-0d47-47c6-afaf-74cecf90c06c",
   "metadata": {},
   "outputs": [],
   "source": [
    "real = torch.nn.functional.conv2d(torch.from_numpy(pad_data), torch.from_numpy(weight), bias=None, stride=2, padding=0, dilation=1, groups=1) "
   ]
  },
  {
   "cell_type": "code",
   "execution_count": 169,
   "id": "2aa529dc-86f4-4413-8e46-9ff50cb01904",
   "metadata": {},
   "outputs": [
    {
     "data": {
      "text/plain": [
       "torch.Size([1, 1, 4, 4])"
      ]
     },
     "execution_count": 169,
     "metadata": {},
     "output_type": "execute_result"
    }
   ],
   "source": [
    "real.shape"
   ]
  },
  {
   "cell_type": "code",
   "execution_count": 170,
   "id": "b7c93b55-8bdd-414f-9494-152dd215e29a",
   "metadata": {},
   "outputs": [],
   "source": [
    "#  to nhwc\n",
    "real_nhwc = torch.permute(real, (0,2,3,1))"
   ]
  },
  {
   "cell_type": "code",
   "execution_count": 171,
   "id": "f7e00817-a8a6-47c1-b95f-0d2a6d5a655c",
   "metadata": {},
   "outputs": [
    {
     "data": {
      "text/plain": [
       "tensor([[72., 64.],\n",
       "        [76., 68.]])"
      ]
     },
     "execution_count": 171,
     "metadata": {},
     "output_type": "execute_result"
    }
   ],
   "source": [
    "real_nhwc[0,0:2,0:2,0]"
   ]
  },
  {
   "cell_type": "code",
   "execution_count": 59,
   "id": "f059940d-6215-41e8-bdf9-bc9afbc7ec71",
   "metadata": {},
   "outputs": [],
   "source": [
    "mid = res_p3x2[0,:4,0,0] + res_p2x5[0,:4,0,0]"
   ]
  },
  {
   "cell_type": "code",
   "execution_count": 60,
   "id": "d59a8ef4-e896-437b-87d8-a91d8e1730ff",
   "metadata": {},
   "outputs": [
    {
     "data": {
      "text/plain": [
       "tensor([240., 232., 240., 248.])"
      ]
     },
     "execution_count": 60,
     "metadata": {},
     "output_type": "execute_result"
    }
   ],
   "source": [
    "mid"
   ]
  },
  {
   "cell_type": "code",
   "execution_count": 61,
   "id": "1a0ac547-14a6-4a5a-9180-1b2bdce37a70",
   "metadata": {},
   "outputs": [],
   "source": [
    "wrong = torch.from_numpy(np.array([318,312,326,328],dtype=np.float32))"
   ]
  },
  {
   "cell_type": "code",
   "execution_count": 62,
   "id": "6a40f4f3-24c5-46f2-9e55-f23a6e4fe292",
   "metadata": {},
   "outputs": [
    {
     "data": {
      "text/plain": [
       "tensor([318., 312., 326., 328.])"
      ]
     },
     "execution_count": 62,
     "metadata": {},
     "output_type": "execute_result"
    }
   ],
   "source": [
    "wrong "
   ]
  },
  {
   "cell_type": "code",
   "execution_count": 63,
   "id": "df77c257-510b-4215-a785-5dddb191cfb7",
   "metadata": {},
   "outputs": [
    {
     "data": {
      "text/plain": [
       "tensor([78., 80., 86., 80.])"
      ]
     },
     "execution_count": 63,
     "metadata": {},
     "output_type": "execute_result"
    }
   ],
   "source": [
    "wrong - mid"
   ]
  },
  {
   "cell_type": "code",
   "execution_count": 64,
   "id": "b1a8ed6d-d397-4cee-9f55-4c97a637826f",
   "metadata": {},
   "outputs": [
    {
     "data": {
      "text/plain": [
       "tensor([134., 140., 134., 132.])"
      ]
     },
     "execution_count": 64,
     "metadata": {},
     "output_type": "execute_result"
    }
   ],
   "source": [
    "correct - mid"
   ]
  },
  {
   "cell_type": "code",
   "execution_count": 65,
   "id": "04af4cf9-a648-4ad1-b0f3-f4d81230fb4c",
   "metadata": {},
   "outputs": [
    {
     "data": {
      "text/plain": [
       "tensor([134., 140., 134., 132.])"
      ]
     },
     "execution_count": 65,
     "metadata": {},
     "output_type": "execute_result"
    }
   ],
   "source": [
    "res_p3x3[0,:4,0,0]"
   ]
  },
  {
   "cell_type": "code",
   "execution_count": 66,
   "id": "19a356f5-7d6f-4041-b23f-ccafb095aef3",
   "metadata": {},
   "outputs": [
    {
     "data": {
      "text/plain": [
       "array([[[[0., 1., 2., 3., 0.],\n",
       "         [1., 2., 3., 0., 1.],\n",
       "         [2., 3., 0., 1., 2.]],\n",
       "\n",
       "        [[1., 2., 3., 0., 1.],\n",
       "         [2., 3., 0., 1., 2.],\n",
       "         [3., 0., 1., 2., 3.]],\n",
       "\n",
       "        [[2., 3., 0., 1., 2.],\n",
       "         [3., 0., 1., 2., 3.],\n",
       "         [0., 1., 2., 3., 0.]]],\n",
       "\n",
       "\n",
       "       [[[1., 2., 3., 0., 1.],\n",
       "         [2., 3., 0., 1., 2.],\n",
       "         [3., 0., 1., 2., 3.]],\n",
       "\n",
       "        [[2., 3., 0., 1., 2.],\n",
       "         [3., 0., 1., 2., 3.],\n",
       "         [0., 1., 2., 3., 0.]],\n",
       "\n",
       "        [[3., 0., 1., 2., 3.],\n",
       "         [0., 1., 2., 3., 0.],\n",
       "         [1., 2., 3., 0., 1.]]],\n",
       "\n",
       "\n",
       "       [[[2., 3., 0., 1., 2.],\n",
       "         [3., 0., 1., 2., 3.],\n",
       "         [0., 1., 2., 3., 0.]],\n",
       "\n",
       "        [[3., 0., 1., 2., 3.],\n",
       "         [0., 1., 2., 3., 0.],\n",
       "         [1., 2., 3., 0., 1.]],\n",
       "\n",
       "        [[0., 1., 2., 3., 0.],\n",
       "         [1., 2., 3., 0., 1.],\n",
       "         [2., 3., 0., 1., 2.]]],\n",
       "\n",
       "\n",
       "       [[[3., 0., 1., 2., 3.],\n",
       "         [0., 1., 2., 3., 0.],\n",
       "         [1., 2., 3., 0., 1.]],\n",
       "\n",
       "        [[0., 1., 2., 3., 0.],\n",
       "         [1., 2., 3., 0., 1.],\n",
       "         [2., 3., 0., 1., 2.]],\n",
       "\n",
       "        [[1., 2., 3., 0., 1.],\n",
       "         [2., 3., 0., 1., 2.],\n",
       "         [3., 0., 1., 2., 3.]]],\n",
       "\n",
       "\n",
       "       [[[0., 1., 2., 3., 0.],\n",
       "         [1., 2., 3., 0., 1.],\n",
       "         [2., 3., 0., 1., 2.]],\n",
       "\n",
       "        [[1., 2., 3., 0., 1.],\n",
       "         [2., 3., 0., 1., 2.],\n",
       "         [3., 0., 1., 2., 3.]],\n",
       "\n",
       "        [[2., 3., 0., 1., 2.],\n",
       "         [3., 0., 1., 2., 3.],\n",
       "         [0., 1., 2., 3., 0.]]]], dtype=float32)"
      ]
     },
     "execution_count": 66,
     "metadata": {},
     "output_type": "execute_result"
    }
   ],
   "source": [
    "np.transpose(kernel_3x3, (0,2,3,1))"
   ]
  },
  {
   "cell_type": "markdown",
   "id": "d8978d0d-a88a-4907-a62c-042641f061d3",
   "metadata": {},
   "source": [
    "### 5x5s1"
   ]
  },
  {
   "cell_type": "code",
   "execution_count": 98,
   "id": "9ac04ae5-9170-4dfb-bc2e-6263cdcab968",
   "metadata": {},
   "outputs": [],
   "source": [
    "data_5x5 = np.transpose(create_data([1,6,6,1]),(0,3,1,2)) # nchw"
   ]
  },
  {
   "cell_type": "code",
   "execution_count": 115,
   "id": "2d47cade-9b0b-4edc-9ad6-c3df00a5b8d5",
   "metadata": {},
   "outputs": [],
   "source": [
    "pad_data = np.pad(data_5x5, ((0,0),(0,0),(0,2),(0,2)), mode='constant') "
   ]
  },
  {
   "cell_type": "code",
   "execution_count": 138,
   "id": "1a539c0c-1db0-4901-aca9-e64523505c23",
   "metadata": {},
   "outputs": [
    {
     "data": {
      "text/plain": [
       "array([[[[0., 1., 2., 3., 4., 0., 0., 0.],\n",
       "         [1., 2., 3., 4., 0., 1., 0., 0.],\n",
       "         [2., 3., 4., 0., 1., 2., 0., 0.],\n",
       "         [3., 4., 0., 1., 2., 3., 0., 0.],\n",
       "         [4., 0., 1., 2., 3., 4., 0., 0.],\n",
       "         [0., 1., 2., 3., 4., 0., 0., 0.],\n",
       "         [0., 0., 0., 0., 0., 0., 0., 0.],\n",
       "         [0., 0., 0., 0., 0., 0., 0., 0.]]]], dtype=float32)"
      ]
     },
     "execution_count": 138,
     "metadata": {},
     "output_type": "execute_result"
    }
   ],
   "source": [
    "pad_data"
   ]
  },
  {
   "cell_type": "code",
   "execution_count": 117,
   "id": "45ab8be5-0678-4c37-9138-4b4423d20213",
   "metadata": {},
   "outputs": [],
   "source": [
    "kernel3x3_input = pad_data[:,:,0:6,0:6]"
   ]
  },
  {
   "cell_type": "code",
   "execution_count": 118,
   "id": "0930df1c-06fc-4de3-aae4-d6b547859e8a",
   "metadata": {},
   "outputs": [],
   "source": [
    "kernel_3x2_input = pad_data[:,:,0:6,3:]"
   ]
  },
  {
   "cell_type": "code",
   "execution_count": 119,
   "id": "fd248b6b-cede-44f9-8d6c-343b99a109b8",
   "metadata": {},
   "outputs": [
    {
     "data": {
      "text/plain": [
       "(1, 1, 6, 5)"
      ]
     },
     "execution_count": 119,
     "metadata": {},
     "output_type": "execute_result"
    }
   ],
   "source": [
    "kernel_3x2_input.shape"
   ]
  },
  {
   "cell_type": "code",
   "execution_count": 120,
   "id": "d5cfda9b-558c-4750-940c-3ce5011cb743",
   "metadata": {},
   "outputs": [],
   "source": [
    "kernel_2x5_input = pad_data[:,:,3:,:]"
   ]
  },
  {
   "cell_type": "code",
   "execution_count": 121,
   "id": "3ad117b8-cc5e-459f-996f-2addcd35bedf",
   "metadata": {},
   "outputs": [
    {
     "data": {
      "text/plain": [
       "(1, 1, 5, 8)"
      ]
     },
     "execution_count": 121,
     "metadata": {},
     "output_type": "execute_result"
    }
   ],
   "source": [
    "kernel_2x5_input.shape"
   ]
  },
  {
   "cell_type": "code",
   "execution_count": 122,
   "id": "3cc958cc-d036-4241-bf33-1fc5ccfb0427",
   "metadata": {},
   "outputs": [],
   "source": [
    "weight = np.transpose(np.array([i % 4 for i in range(1*1*5*5)], dtype=np.float32).reshape((1,5,5,1)),(0,3,1,2))"
   ]
  },
  {
   "cell_type": "code",
   "execution_count": 129,
   "id": "111aa96a-cfa0-4fee-ae05-f406eb6d66ea",
   "metadata": {},
   "outputs": [],
   "source": [
    "kernel_3x3_weight = weight[:,:,0:3,0:3]"
   ]
  },
  {
   "cell_type": "code",
   "execution_count": 130,
   "id": "3301b68f-064e-46b6-9c86-29e391eb83ae",
   "metadata": {},
   "outputs": [],
   "source": [
    "kernel_3x2_weight = weight[:,:,0:3,3:]"
   ]
  },
  {
   "cell_type": "code",
   "execution_count": 131,
   "id": "c0367974-c92f-4a07-82a5-0534ddc68e38",
   "metadata": {},
   "outputs": [],
   "source": [
    "kernel_2x5_weight = weight[:,:,3:,:]"
   ]
  },
  {
   "cell_type": "code",
   "execution_count": 132,
   "id": "1e89d440-4786-4ed5-ab46-18344a942884",
   "metadata": {},
   "outputs": [],
   "source": [
    "res_p3x3 = torch.nn.functional.conv2d(torch.from_numpy(kernel3x3_input), torch.from_numpy(kernel_3x3_weight), bias=None, stride=1, padding=0, dilation=1, groups=1) "
   ]
  },
  {
   "cell_type": "code",
   "execution_count": 133,
   "id": "59afbdc0-c04f-4fd4-9a16-c9716897265f",
   "metadata": {},
   "outputs": [],
   "source": [
    "res_p3x2 = torch.nn.functional.conv2d(torch.from_numpy(kernel_3x2_input), torch.from_numpy(kernel_3x2_weight), bias=None, stride=1, padding=0, dilation=1, groups=1) "
   ]
  },
  {
   "cell_type": "code",
   "execution_count": 139,
   "id": "c6f420c0-4d71-4704-894f-7914dbf3ab13",
   "metadata": {},
   "outputs": [
    {
     "data": {
      "text/plain": [
       "tensor([[[[11., 18.,  2.,  0.],\n",
       "          [18., 10.,  6.,  0.],\n",
       "          [10., 17., 10.,  0.],\n",
       "          [17., 14.,  9.,  0.]]]])"
      ]
     },
     "execution_count": 139,
     "metadata": {},
     "output_type": "execute_result"
    }
   ],
   "source": [
    "res_p3x2"
   ]
  },
  {
   "cell_type": "code",
   "execution_count": 134,
   "id": "ede971dd-074a-46d0-8c16-4e8a73d793a8",
   "metadata": {},
   "outputs": [],
   "source": [
    "res_p2x5 = torch.nn.functional.conv2d(torch.from_numpy(kernel_2x5_input), torch.from_numpy(kernel_2x5_weight), bias=None, stride=1, padding=0, dilation=1, groups=1) "
   ]
  },
  {
   "cell_type": "code",
   "execution_count": 135,
   "id": "82a9ca07-f352-4b25-a39c-652fa2dfc92d",
   "metadata": {},
   "outputs": [],
   "source": [
    "real = torch.nn.functional.conv2d(torch.from_numpy(pad_data), torch.from_numpy(weight), bias=None, stride=1, padding=0, dilation=1, groups=1) "
   ]
  },
  {
   "cell_type": "code",
   "execution_count": 136,
   "id": "df59a921-1c56-4113-adc6-020ffed66a7e",
   "metadata": {},
   "outputs": [
    {
     "data": {
      "text/plain": [
       "tensor([[[[ 68., 104.,  60.,  31.],\n",
       "          [104.,  80.,  45.,  32.],\n",
       "          [ 60.,  45.,  38.,  41.],\n",
       "          [ 31.,  32.,  41.,  46.]]]])"
      ]
     },
     "execution_count": 136,
     "metadata": {},
     "output_type": "execute_result"
    }
   ],
   "source": [
    "real"
   ]
  },
  {
   "cell_type": "code",
   "execution_count": 137,
   "id": "0f362407-f81f-4642-8e0f-90eb379e63a5",
   "metadata": {},
   "outputs": [
    {
     "data": {
      "text/plain": [
       "tensor([[[[ 68., 104.,  60.,  31.],\n",
       "          [104.,  80.,  45.,  32.],\n",
       "          [ 60.,  45.,  38.,  41.],\n",
       "          [ 31.,  32.,  41.,  46.]]]])"
      ]
     },
     "execution_count": 137,
     "metadata": {},
     "output_type": "execute_result"
    }
   ],
   "source": [
    "res_p3x3 + res_p3x2 + res_p2x5"
   ]
  },
  {
   "cell_type": "markdown",
   "id": "aa042ac6-582b-4f08-9706-c66d098ceff9",
   "metadata": {},
   "source": [
    "# TestTranspose"
   ]
  },
  {
   "cell_type": "code",
   "execution_count": 28,
   "id": "e6e898e5-8df7-4edb-8a0c-7682e4b219fc",
   "metadata": {},
   "outputs": [],
   "source": [
    "data = [i for i in range(8*8)]"
   ]
  },
  {
   "cell_type": "code",
   "execution_count": 29,
   "id": "5010f357-7005-46f2-bb4e-a4d5648d2a09",
   "metadata": {},
   "outputs": [],
   "source": [
    "foo = np.array(data).reshape([8,8])"
   ]
  },
  {
   "cell_type": "code",
   "execution_count": 30,
   "id": "561641ba-c076-47af-aeb1-8b1dc0740bab",
   "metadata": {},
   "outputs": [
    {
     "data": {
      "text/plain": [
       "array([[ 0,  1,  2,  3,  4,  5,  6,  7],\n",
       "       [ 8,  9, 10, 11, 12, 13, 14, 15],\n",
       "       [16, 17, 18, 19, 20, 21, 22, 23],\n",
       "       [24, 25, 26, 27, 28, 29, 30, 31],\n",
       "       [32, 33, 34, 35, 36, 37, 38, 39],\n",
       "       [40, 41, 42, 43, 44, 45, 46, 47],\n",
       "       [48, 49, 50, 51, 52, 53, 54, 55],\n",
       "       [56, 57, 58, 59, 60, 61, 62, 63]])"
      ]
     },
     "execution_count": 30,
     "metadata": {},
     "output_type": "execute_result"
    }
   ],
   "source": [
    "foo"
   ]
  },
  {
   "cell_type": "code",
   "execution_count": 31,
   "id": "a0af3326-2f2e-4136-8cbe-6a94db4a1fde",
   "metadata": {},
   "outputs": [],
   "source": [
    "res =np.transpose(foo)"
   ]
  },
  {
   "cell_type": "code",
   "execution_count": 32,
   "id": "2b90fa94-43dc-47e8-a4ac-c1e169edf49e",
   "metadata": {},
   "outputs": [
    {
     "data": {
      "text/plain": [
       "array([[ 0,  8, 16, 24, 32, 40, 48, 56],\n",
       "       [ 1,  9, 17, 25, 33, 41, 49, 57],\n",
       "       [ 2, 10, 18, 26, 34, 42, 50, 58],\n",
       "       [ 3, 11, 19, 27, 35, 43, 51, 59],\n",
       "       [ 4, 12, 20, 28, 36, 44, 52, 60],\n",
       "       [ 5, 13, 21, 29, 37, 45, 53, 61],\n",
       "       [ 6, 14, 22, 30, 38, 46, 54, 62],\n",
       "       [ 7, 15, 23, 31, 39, 47, 55, 63]])"
      ]
     },
     "execution_count": 32,
     "metadata": {},
     "output_type": "execute_result"
    }
   ],
   "source": [
    "res"
   ]
  },
  {
   "cell_type": "code",
   "execution_count": 33,
   "id": "638f8182-8b0c-49bc-af26-458a49c84e15",
   "metadata": {},
   "outputs": [],
   "source": [
    "p_4x4 = foo[0:4, 0:4]"
   ]
  },
  {
   "cell_type": "code",
   "execution_count": 34,
   "id": "aa42c7c7-2d3a-4553-b162-0a76984b192c",
   "metadata": {},
   "outputs": [
    {
     "data": {
      "text/plain": [
       "array([[ 0,  8, 16, 24],\n",
       "       [ 1,  9, 17, 25],\n",
       "       [ 2, 10, 18, 26],\n",
       "       [ 3, 11, 19, 27]])"
      ]
     },
     "execution_count": 34,
     "metadata": {},
     "output_type": "execute_result"
    }
   ],
   "source": [
    "np.transpose(p_4x4)"
   ]
  },
  {
   "cell_type": "code",
   "execution_count": 35,
   "id": "8ed29e58-ff26-48f8-84a7-fe98faad017e",
   "metadata": {},
   "outputs": [],
   "source": [
    "p_4x4_1 = foo[0:4, 4:]"
   ]
  },
  {
   "cell_type": "code",
   "execution_count": 36,
   "id": "63be0769-ae3e-4063-abad-501dbb6f1327",
   "metadata": {},
   "outputs": [
    {
     "data": {
      "text/plain": [
       "array([[ 4,  5,  6,  7],\n",
       "       [12, 13, 14, 15],\n",
       "       [20, 21, 22, 23],\n",
       "       [28, 29, 30, 31]])"
      ]
     },
     "execution_count": 36,
     "metadata": {},
     "output_type": "execute_result"
    }
   ],
   "source": [
    "p_4x4_1"
   ]
  },
  {
   "cell_type": "code",
   "execution_count": 37,
   "id": "66859f56-4dcb-42a7-8a74-9803eb889f76",
   "metadata": {},
   "outputs": [
    {
     "data": {
      "text/plain": [
       "array([[ 4, 12, 20, 28],\n",
       "       [ 5, 13, 21, 29],\n",
       "       [ 6, 14, 22, 30],\n",
       "       [ 7, 15, 23, 31]])"
      ]
     },
     "execution_count": 37,
     "metadata": {},
     "output_type": "execute_result"
    }
   ],
   "source": [
    "np.transpose(p_4x4_1)"
   ]
  },
  {
   "cell_type": "markdown",
   "id": "17ec0797-a488-4041-9cfc-b22b94a6b72b",
   "metadata": {},
   "source": [
    "### 7x7s1"
   ]
  },
  {
   "cell_type": "code",
   "execution_count": 71,
   "id": "6878d2a3-2e78-43db-9e9f-3b7016d65306",
   "metadata": {},
   "outputs": [],
   "source": [
    "data = create_data([1,32,416,416])"
   ]
  },
  {
   "cell_type": "code",
   "execution_count": null,
   "id": "c981a619-c883-4e80-8270-b59b960a7271",
   "metadata": {},
   "outputs": [],
   "source": [
    "m = torch.nn.Conv2d(32,4,)"
   ]
  },
  {
   "cell_type": "code",
   "execution_count": null,
   "id": "16c11a3a-ed08-4e3b-a8ef-f1eac1b42d95",
   "metadata": {},
   "outputs": [],
   "source": []
  },
  {
   "cell_type": "markdown",
   "id": "6f045a60-5903-46a2-aa0a-bdee065f4f6e",
   "metadata": {},
   "source": [
    "### 测试一个模型是否是合法ONNX"
   ]
  },
  {
   "cell_type": "code",
   "execution_count": 2,
   "id": "e345fb32-ff04-443d-993a-86a90342c0cd",
   "metadata": {},
   "outputs": [],
   "source": [
    "import onnxruntime as ort"
   ]
  },
  {
   "cell_type": "code",
   "execution_count": 3,
   "id": "68d5b77a-e2a9-4e75-a344-11f691cdeabb",
   "metadata": {},
   "outputs": [
    {
     "ename": "InvalidProtobuf",
     "evalue": "[ONNXRuntimeError] : 7 : INVALID_PROTOBUF : Load model from /Users/bob/docs/ByteDance/PNN/converter/modelzoo/deepfillv2_model_places2_360x640_float32.onnx failed:Protobuf parsing failed.",
     "output_type": "error",
     "traceback": [
      "\u001b[0;31m---------------------------------------------------------------------------\u001b[0m",
      "\u001b[0;31mInvalidProtobuf\u001b[0m                           Traceback (most recent call last)",
      "Cell \u001b[0;32mIn[3], line 1\u001b[0m\n\u001b[0;32m----> 1\u001b[0m sess \u001b[38;5;241m=\u001b[39m \u001b[43mort\u001b[49m\u001b[38;5;241;43m.\u001b[39;49m\u001b[43mInferenceSession\u001b[49m\u001b[43m(\u001b[49m\u001b[38;5;124;43m\"\u001b[39;49m\u001b[38;5;124;43m/Users/bob/docs/ByteDance/PNN/converter/modelzoo/deepfillv2_model_places2_360x640_float32.onnx\u001b[39;49m\u001b[38;5;124;43m\"\u001b[39;49m\u001b[43m)\u001b[49m\n",
      "File \u001b[0;32m~/opt/miniconda3/envs/d2l/lib/python3.8/site-packages/onnxruntime/capi/onnxruntime_inference_collection.py:347\u001b[0m, in \u001b[0;36mInferenceSession.__init__\u001b[0;34m(self, path_or_bytes, sess_options, providers, provider_options, **kwargs)\u001b[0m\n\u001b[1;32m    344\u001b[0m disabled_optimizers \u001b[38;5;241m=\u001b[39m kwargs[\u001b[38;5;124m\"\u001b[39m\u001b[38;5;124mdisabled_optimizers\u001b[39m\u001b[38;5;124m\"\u001b[39m] \u001b[38;5;28;01mif\u001b[39;00m \u001b[38;5;124m\"\u001b[39m\u001b[38;5;124mdisabled_optimizers\u001b[39m\u001b[38;5;124m\"\u001b[39m \u001b[38;5;129;01min\u001b[39;00m kwargs \u001b[38;5;28;01melse\u001b[39;00m \u001b[38;5;28;01mNone\u001b[39;00m\n\u001b[1;32m    346\u001b[0m \u001b[38;5;28;01mtry\u001b[39;00m:\n\u001b[0;32m--> 347\u001b[0m     \u001b[38;5;28;43mself\u001b[39;49m\u001b[38;5;241;43m.\u001b[39;49m\u001b[43m_create_inference_session\u001b[49m\u001b[43m(\u001b[49m\u001b[43mproviders\u001b[49m\u001b[43m,\u001b[49m\u001b[43m \u001b[49m\u001b[43mprovider_options\u001b[49m\u001b[43m,\u001b[49m\u001b[43m \u001b[49m\u001b[43mdisabled_optimizers\u001b[49m\u001b[43m)\u001b[49m\n\u001b[1;32m    348\u001b[0m \u001b[38;5;28;01mexcept\u001b[39;00m \u001b[38;5;167;01mValueError\u001b[39;00m:\n\u001b[1;32m    349\u001b[0m     \u001b[38;5;28;01mif\u001b[39;00m \u001b[38;5;28mself\u001b[39m\u001b[38;5;241m.\u001b[39m_enable_fallback:\n",
      "File \u001b[0;32m~/opt/miniconda3/envs/d2l/lib/python3.8/site-packages/onnxruntime/capi/onnxruntime_inference_collection.py:384\u001b[0m, in \u001b[0;36mInferenceSession._create_inference_session\u001b[0;34m(self, providers, provider_options, disabled_optimizers)\u001b[0m\n\u001b[1;32m    382\u001b[0m session_options \u001b[38;5;241m=\u001b[39m \u001b[38;5;28mself\u001b[39m\u001b[38;5;241m.\u001b[39m_sess_options \u001b[38;5;28;01mif\u001b[39;00m \u001b[38;5;28mself\u001b[39m\u001b[38;5;241m.\u001b[39m_sess_options \u001b[38;5;28;01melse\u001b[39;00m C\u001b[38;5;241m.\u001b[39mget_default_session_options()\n\u001b[1;32m    383\u001b[0m \u001b[38;5;28;01mif\u001b[39;00m \u001b[38;5;28mself\u001b[39m\u001b[38;5;241m.\u001b[39m_model_path:\n\u001b[0;32m--> 384\u001b[0m     sess \u001b[38;5;241m=\u001b[39m \u001b[43mC\u001b[49m\u001b[38;5;241;43m.\u001b[39;49m\u001b[43mInferenceSession\u001b[49m\u001b[43m(\u001b[49m\u001b[43msession_options\u001b[49m\u001b[43m,\u001b[49m\u001b[43m \u001b[49m\u001b[38;5;28;43mself\u001b[39;49m\u001b[38;5;241;43m.\u001b[39;49m\u001b[43m_model_path\u001b[49m\u001b[43m,\u001b[49m\u001b[43m \u001b[49m\u001b[38;5;28;43;01mTrue\u001b[39;49;00m\u001b[43m,\u001b[49m\u001b[43m \u001b[49m\u001b[38;5;28;43mself\u001b[39;49m\u001b[38;5;241;43m.\u001b[39;49m\u001b[43m_read_config_from_model\u001b[49m\u001b[43m)\u001b[49m\n\u001b[1;32m    385\u001b[0m \u001b[38;5;28;01melse\u001b[39;00m:\n\u001b[1;32m    386\u001b[0m     sess \u001b[38;5;241m=\u001b[39m C\u001b[38;5;241m.\u001b[39mInferenceSession(session_options, \u001b[38;5;28mself\u001b[39m\u001b[38;5;241m.\u001b[39m_model_bytes, \u001b[38;5;28;01mFalse\u001b[39;00m, \u001b[38;5;28mself\u001b[39m\u001b[38;5;241m.\u001b[39m_read_config_from_model)\n",
      "\u001b[0;31mInvalidProtobuf\u001b[0m: [ONNXRuntimeError] : 7 : INVALID_PROTOBUF : Load model from /Users/bob/docs/ByteDance/PNN/converter/modelzoo/deepfillv2_model_places2_360x640_float32.onnx failed:Protobuf parsing failed."
     ]
    }
   ],
   "source": [
    "sess = ort.InferenceSession(\"/Users/bob/docs/ByteDance/PNN/converter/modelzoo/deepfillv2_model_places2_360x640_float32.onnx\")"
   ]
  },
  {
   "cell_type": "code",
   "execution_count": null,
   "id": "16b53786-1720-4504-9c96-c158111e5e56",
   "metadata": {},
   "outputs": [],
   "source": []
  }
 ],
 "metadata": {
  "kernelspec": {
   "display_name": "Python 3 (ipykernel)",
   "language": "python",
   "name": "python3"
  },
  "language_info": {
   "codemirror_mode": {
    "name": "ipython",
    "version": 3
   },
   "file_extension": ".py",
   "mimetype": "text/x-python",
   "name": "python",
   "nbconvert_exporter": "python",
   "pygments_lexer": "ipython3",
   "version": "3.8.15"
  }
 },
 "nbformat": 4,
 "nbformat_minor": 5
}
