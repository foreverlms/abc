{
 "cells": [
  {
   "cell_type": "code",
   "execution_count": 33,
   "id": "af878718-d0b6-43bf-acf8-8e08a439dbeb",
   "metadata": {},
   "outputs": [],
   "source": [
    "import numpy as np\n",
    "from functools import reduce\n",
    "import torch\n",
    "import operator"
   ]
  },
  {
   "cell_type": "code",
   "execution_count": 34,
   "id": "3950c7b2-eb41-44a8-b843-294e4ea95eea",
   "metadata": {},
   "outputs": [],
   "source": [
    "def create_data(shape, begin = 0, truncate = False, truncate_base = 13):\n",
    "    size = reduce(lambda x, y: x * y, shape)\n",
    "    res = []\n",
    "    for i in range(size):\n",
    "        res.append(i % 5)\n",
    "    return np.array(res,dtype=np.float32).reshape(shape)"
   ]
  },
  {
   "cell_type": "code",
   "execution_count": 35,
   "id": "5312d7ea-a306-4997-a75b-0a92d7ceec72",
   "metadata": {},
   "outputs": [],
   "source": [
    "s13x3 = torch.nn.Conv2d(3, 12 , (1,1), (1,1),dilation = (1,1),padding = 0)"
   ]
  },
  {
   "cell_type": "code",
   "execution_count": 36,
   "id": "c704de51-10b0-4b7f-aec8-4da65c108678",
   "metadata": {},
   "outputs": [],
   "source": [
    "n = 1\n",
    "h = 32\n",
    "w = 32\n",
    "ic = 3"
   ]
  },
  {
   "cell_type": "code",
   "execution_count": 37,
   "id": "6d45e700-c4da-48d6-a444-f2cd1655aab2",
   "metadata": {},
   "outputs": [],
   "source": [
    "def get_data(shape):\n",
    "    size = reduce(operator.mul, shape, 1)\n",
    "    data = []\n",
    "    for i in range(size):\n",
    "        data.append(i % 5)\n",
    "    \n",
    "    res = np.array(data).astype(np.float32).reshape(shape)\n",
    "    return res"
   ]
  },
  {
   "cell_type": "code",
   "execution_count": 38,
   "id": "75941402-bb26-438e-a9db-1f1ba0edc627",
   "metadata": {},
   "outputs": [],
   "source": [
    "data = torch.from_numpy(get_data((n, ic, h, w)))"
   ]
  },
  {
   "cell_type": "code",
   "execution_count": 39,
   "id": "672a5af8-9db4-4c12-bacf-d572be52dc52",
   "metadata": {},
   "outputs": [],
   "source": [
    "torch.onnx.export(s13x3,               # model being run\n",
    "                  data,                         # model input (or a tuple for multiple inputs)\n",
    "                  \"/Users/bob/code/CodeReading/mnn/MNN/cmake-build-debug/conv1x1.onnx\",   # where to save the model (can be a file or file-like object)\n",
    "                   export_params=True,        # store the trained parameter weights inside the model file\n",
    "                  opset_version=10,          # the ONNX version to export the model to\n",
    "                  do_constant_folding=True,  # whether to execute constant folding for optimization\n",
    "                  input_names = ['data'],   # the model's input names\n",
    "                  output_names = ['output'], # the model's output names\n",
    "                 )"
   ]
  },
  {
   "cell_type": "code",
   "execution_count": 40,
   "id": "956ebe26-a977-4a9c-ba41-accb2e0c8a9a",
   "metadata": {},
   "outputs": [],
   "source": [
    "import onnxruntime as ort"
   ]
  },
  {
   "cell_type": "code",
   "execution_count": 41,
   "id": "471c9731-47d7-4d05-97d5-f91437f51ce4",
   "metadata": {},
   "outputs": [],
   "source": [
    "sess = ort.InferenceSession(\"/Users/bob/code/CodeReading/mnn/MNN/cmake-build-debug/conv1x1.onnx\")"
   ]
  },
  {
   "cell_type": "code",
   "execution_count": 42,
   "id": "3329d5fd-f6ab-4547-a317-815d5c452ae9",
   "metadata": {},
   "outputs": [],
   "source": [
    "np_input = get_data((n, ic, h, w))"
   ]
  },
  {
   "cell_type": "code",
   "execution_count": 43,
   "id": "2aea333a-18b4-4bf7-b586-5159513488dd",
   "metadata": {},
   "outputs": [],
   "source": [
    "output = sess.run(None, {'data': np_input})[0]"
   ]
  },
  {
   "cell_type": "code",
   "execution_count": 44,
   "id": "00082202-5c2b-4659-9793-90471a08b398",
   "metadata": {},
   "outputs": [
    {
     "data": {
      "text/plain": [
       "-0.30818594"
      ]
     },
     "execution_count": 44,
     "metadata": {},
     "output_type": "execute_result"
    }
   ],
   "source": [
    "output.flatten()[1]"
   ]
  },
  {
   "cell_type": "code",
   "execution_count": 45,
   "id": "d10ef74d-6de4-4f63-933d-5ba47b5dff9b",
   "metadata": {},
   "outputs": [],
   "source": [
    "np_input.tofile(\"/Users/bob/code/CodeReading/mnn/MNN/cmake-build-debug/input.bin\")"
   ]
  },
  {
   "cell_type": "code",
   "execution_count": 46,
   "id": "a3253702-1fe4-4cfd-87ad-141f9585c147",
   "metadata": {},
   "outputs": [],
   "source": [
    "output.tofile(\"/Users/bob/code/CodeReading/mnn/MNN/cmake-build-debug/output.bin\")"
   ]
  },
  {
   "cell_type": "code",
   "execution_count": null,
   "id": "aabbbb7a-a3f2-42d4-815b-0413a26ee3b0",
   "metadata": {},
   "outputs": [],
   "source": []
  }
 ],
 "metadata": {
  "kernelspec": {
   "display_name": "Python 3 (ipykernel)",
   "language": "python",
   "name": "python3"
  },
  "language_info": {
   "codemirror_mode": {
    "name": "ipython",
    "version": 3
   },
   "file_extension": ".py",
   "mimetype": "text/x-python",
   "name": "python",
   "nbconvert_exporter": "python",
   "pygments_lexer": "ipython3",
   "version": "3.8.15"
  }
 },
 "nbformat": 4,
 "nbformat_minor": 5
}
