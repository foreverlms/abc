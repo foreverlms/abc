{
 "cells": [
  {
   "cell_type": "code",
   "execution_count": 2,
   "id": "cacc25a1-fa5a-4130-b4d2-b8baa0111e4f",
   "metadata": {},
   "outputs": [],
   "source": [
    "import numpy as np\n",
    "from functools import reduce\n"
   ]
  },
  {
   "cell_type": "code",
   "execution_count": 15,
   "id": "6fb9bb37-67aa-4365-8d38-20560b01a4db",
   "metadata": {},
   "outputs": [],
   "source": [
    "def create_data(shape, begin = 0, truncate = False, truncate_base = 13):\n",
    "    size = reduce(lambda x, y: x * y, shape)\n",
    "    res = []\n",
    "    for i in range(size):\n",
    "        if not truncate:\n",
    "            res.append(i + begin)\n",
    "        else:\n",
    "            res.append(i+begin if i+begin < 0 else (i+begin) % truncate_base)\n",
    "    return np.array(res,dtype=np.float32).reshape(shape)"
   ]
  },
  {
   "cell_type": "markdown",
   "id": "a796f26d-d787-4343-b6d3-922cec3c6b7d",
   "metadata": {},
   "source": []
  },
  {
   "cell_type": "markdown",
   "id": "46d0dc04-6cd2-42af-b9cb-fe737e3a1d65",
   "metadata": {},
   "source": [
    "### Inference with onnx"
   ]
  },
  {
   "cell_type": "code",
   "execution_count": 127,
   "id": "c9883ed0-bdec-411a-888e-93edf1761cd7",
   "metadata": {},
   "outputs": [],
   "source": [
    "model = \"/Users/bob/docs/ByteDance/PNN/converter/quality/yolox_s.onnx\""
   ]
  },
  {
   "cell_type": "code",
   "execution_count": 128,
   "id": "363adbb7-df26-44d8-9744-9eb4cb18e5f2",
   "metadata": {},
   "outputs": [],
   "source": [
    "import onnxruntime as ort"
   ]
  },
  {
   "cell_type": "code",
   "execution_count": 129,
   "id": "c0d9108d-21e0-4e3f-bbf8-251d7ef6e4f2",
   "metadata": {},
   "outputs": [],
   "source": [
    "sess = ort.InferenceSession(model)"
   ]
  },
  {
   "cell_type": "code",
   "execution_count": 132,
   "id": "0262857f-f485-4808-bb65-7f0c35afafd7",
   "metadata": {},
   "outputs": [],
   "source": [
    "data = np.array([1.0] * (1*3*640*640),dtype=np.float32).reshape((1,3,640,640))"
   ]
  },
  {
   "cell_type": "code",
   "execution_count": 137,
   "id": "bcbd264d-6107-4f3c-a520-b7c1642fa965",
   "metadata": {},
   "outputs": [],
   "source": [
    "output = sess.run(None, {\"images\": data})[0]"
   ]
  },
  {
   "cell_type": "code",
   "execution_count": 139,
   "id": "56b2ee1a-183d-466f-989f-3f4091ea97ea",
   "metadata": {},
   "outputs": [
    {
     "data": {
      "text/plain": [
       "array([3.6081132e-01, 2.5766599e-01, 6.5759540e-01, 6.9948637e-01,\n",
       "       9.5069408e-06, 3.2188582e-01, 5.1017457e-01, 2.4466568e-01,\n",
       "       7.5678492e-01, 5.9244353e-01], dtype=float32)"
      ]
     },
     "execution_count": 139,
     "metadata": {},
     "output_type": "execute_result"
    }
   ],
   "source": [
    "output.flatten()[0:10]"
   ]
  },
  {
   "cell_type": "code",
   "execution_count": null,
   "id": "c8b02b29-5e92-45a7-852f-a8cce76d82c4",
   "metadata": {},
   "outputs": [],
   "source": []
  }
 ],
 "metadata": {
  "kernelspec": {
   "display_name": "Python 3 (ipykernel)",
   "language": "python",
   "name": "python3"
  },
  "language_info": {
   "codemirror_mode": {
    "name": "ipython",
    "version": 3
   },
   "file_extension": ".py",
   "mimetype": "text/x-python",
   "name": "python",
   "nbconvert_exporter": "python",
   "pygments_lexer": "ipython3",
   "version": "3.8.12"
  }
 },
 "nbformat": 4,
 "nbformat_minor": 5
}
