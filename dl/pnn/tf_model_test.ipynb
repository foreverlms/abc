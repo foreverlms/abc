{
 "cells": [
  {
   "cell_type": "code",
   "execution_count": 2,
   "id": "9e61af9f-8065-4880-944d-383861b9f1fc",
   "metadata": {},
   "outputs": [],
   "source": [
    "import tensorflow as tf\n",
    "import tensorflow.nn as nn\n",
    "import numpy as np"
   ]
  },
  {
   "cell_type": "code",
   "execution_count": 5,
   "id": "0debec42-a7f2-4a58-9216-2316ac779c62",
   "metadata": {},
   "outputs": [
    {
     "data": {
      "text/plain": [
       "TensorShape([2])"
      ]
     },
     "execution_count": 5,
     "metadata": {},
     "output_type": "execute_result"
    }
   ],
   "source": [
    "tf.constant([2,1]).shape"
   ]
  },
  {
   "cell_type": "code",
   "execution_count": 22,
   "id": "5a668ab2-b74b-4a14-8b36-f440c8f64409",
   "metadata": {},
   "outputs": [],
   "source": [
    "@tf.function\n",
    "def conv_and_pool(x):\n",
    "    kernel = tf.constant(np.random.rand(3,3,3,12),dtype = tf.float32)\n",
    "    conv_output = nn.conv2d(x,kernel,1,\"SAME\") # dilation is None\n",
    "    window_shape = [conv_output.shape[1] / 2,conv_output.shape[2]/ 2]\n",
    "    pool_output = nn.pool(conv_output,window_shape,\"AVG\") #strides and dilations is None\n",
    "    return pool_output\n",
    "\n",
    "x = tf.constant(np.random.rand(2,224,224,3),dtype = tf.float32)\n",
    "conv_and_pool.get_concrete_function(x).graph.as_graph_def()"
   ]
  },
  {
   "cell_type": "code",
   "execution_count": 23,
   "id": "26709c12-9ab8-4ac7-82be-c94688a7d0db",
   "metadata": {},
   "outputs": [],
   "source": [
    "x = tf.constant(np.random.rand(2,224,224,3),dtype = tf.float32)"
   ]
  },
  {
   "cell_type": "code",
   "execution_count": 26,
   "id": "30ca194b-b549-4671-a6ec-54e4d658fd7e",
   "metadata": {},
   "outputs": [
    {
     "data": {
      "text/plain": [
       "node {\n",
       "  name: \"x\"\n",
       "  op: \"Placeholder\"\n",
       "  attr {\n",
       "    key: \"_user_specified_name\"\n",
       "    value {\n",
       "      s: \"x\"\n",
       "    }\n",
       "  }\n",
       "  attr {\n",
       "    key: \"dtype\"\n",
       "    value {\n",
       "      type: DT_FLOAT\n",
       "    }\n",
       "  }\n",
       "  attr {\n",
       "    key: \"shape\"\n",
       "    value {\n",
       "      shape {\n",
       "        dim {\n",
       "          size: 2\n",
       "        }\n",
       "        dim {\n",
       "          size: 224\n",
       "        }\n",
       "        dim {\n",
       "          size: 224\n",
       "        }\n",
       "        dim {\n",
       "          size: 3\n",
       "        }\n",
       "      }\n",
       "    }\n",
       "  }\n",
       "}\n",
       "node {\n",
       "  name: \"Const\"\n",
       "  op: \"Const\"\n",
       "  attr {\n",
       "    key: \"dtype\"\n",
       "    value {\n",
       "      type: DT_FLOAT\n",
       "    }\n",
       "  }\n",
       "  attr {\n",
       "    key: \"value\"\n",
       "    value {\n",
       "      tensor {\n",
       "        dtype: DT_FLOAT\n",
       "        tensor_shape {\n",
       "          dim {\n",
       "            size: 3\n",
       "          }\n",
       "          dim {\n",
       "            size: 3\n",
       "          }\n",
       "          dim {\n",
       "            size: 3\n",
       "          }\n",
       "          dim {\n",
       "            size: 12\n",
       "          }\n",
       "        }\n",
       "        tensor_content: \"f\\342\\204>\\216\\314\\314=a\\003|?\\331\\017\\231>\\031\\3251>\\034\\351\\376=\\3423\\227>[\\024\\316>\\372\\022\\324>\\334\\254\\331>D\\265;>\\260uf?\\273\\303\\275>\\251\\033\\265>:\\321^?\\357\\301K?\\2103\\301>\\264\\360\\016?\\363\\262\\352=\\0055\\233>\\007MP?\\030\\277\\207>\\321X&?GUN?\\032\\\"\\241>$ja>\\302\\016\\301>\\313\\024a>O\\020+?\\364\\035\\263>\\2112\\t?\\330\\024|<\\301\\334\\247=\\345\\237\\024?Nb2?\\232\\253b?\\000\\305\\036=/\\254\\346>0\\017\\315>L\\272\\300>\\366\\305_?\\266\\252x>\\241u\\255>\\365uC>z\\252\\031?\\2370\\237>i\\331\\024;\\333\\254:>\\370\\334I?\\326\\003>>\\r;o?\\206\\251s?\\306\\231\\010?\\334\\377x?Fx\\320=\\273\\343\\177?\\240\\333x?.\\255\\364>\\366\\005\\t?\\270kD?\\210D2>\\302\\255\\014?\\005\\026\\006?1J*?\\226\\255\\301>\\347v\\302>\\312ll?\\357\\357\\021?\\255\\241\\n?\\244\\034\\n>\\240\\203Z?\\2412\\230=\\021\\221\\247>\\355\\207\\036>M\\336+?\\367P\\252>\\360\\037\\244=\\231\\375j?m\\212\\362>\\346l(?\\315\\000E?:\\2329?#\\r\\277>C\\333C?\\006ZT?\\243\\013(?\\306\\363\\327>v\\372\\'?)\\037r?4\\\\\\016?d\\225*?\\365\\270\\r?\\344K\\204=\\255\\\"8?z\\320v?\\316\\320q?rYY?mIg?\\253\\237\\272=xL\\006?%\\255\\244>\\323\\326\\366>\\'J\\246<\\333\\346\\356<S\\375+?\\005\\3356?\\005\\225>?\\227L\\224=\\215\\374p>\\334i\\017?\\376\\235p>ge!?\\024~\\262>\\374\\272\\230>\\227\\013\\367>\\371\\277!>\\265~&?U\\204\\037?jp\\033?\\212EK?\\223\\022\\342> d`>\\031\\202\\002>\\227\\037V?t>\\205>L\\270\\020?c\\314\\251=\\342Oq?\\224jw?\\005\\366I?!\\364s>\\017\\n\\000?\\031\\205S?\\252\\315}?2^4>\\215\\221\\031>3\\214\\t<b\\210\\276=\\344;t>^\\244\\310=\\024\\363)?\\251+l?\\304\\343\\356>v\\034\\023?\\306@\\311>?\\230\\227>m0o>\\267\\357\\005?w\\014`?\\226\\273\\226<=U\\336>\\3169\\225>u\\242u?\\346\\203^?\\324}\\005?\\252Y\\362;\\306\\022\\331>\\tJ\\007?`\\000\\004?\\270\\014@?\\337P\\337=[\\\\l?\\245\\246\\314=\\361\\3424?\\3111u?\\364\\035<?M3b?\\032\\0279?\\344\\351s?Ku\\213>t\\232\\004?\\275c\\376=\\264\\223-?\\263G\\354>\\257v0<\\254R\\322=\\305<e?-\\\\\\002?\\014B\\303>\\t\\322h>\\360\\345G?b\\334\\026>N\\314\\370>\\021F~?\\337\\302}?\\003\\305]?\\345\\263#?\\000t{?\\207\\345\\033?<i\\250=\\034S\\024?il{>\\230\\225D?:!\\'? \\275D?\\030\\254H?2y\\026>kH=?\\343qo?\\264\\2578?\\360\\362d<\\255\\364\\340:\\005\\355\\034?\\021&7?\\307\\241m?V{\\200>\\274\\247e?\\247]\\024?\\202m\\256>\\305m\\032?\\222\\\"\\007>\\035\\214N?<\\260Z?ze\\306>\\304\\260s?\\255um?\\017\\340\\227>\\023\\t2?\\365\\205\\353=*\\264]?O.\\327>vl9=\\366C\\\"?P}=?\\357/f?\\266\\035X?\\350\\354@?KpT>Z[\\014>\\266\\225\\314>f\\270\\377>\\205\\2314>\\346o]?\\323\\2069?\\353\\374o?$\\371\\007?\\037\\2322?\\321Z6>1\\276D?\\321yo?@\\016\\365>\\252\\240\\243>s\\345\\002?\\023\\307]?A}\\002?SW\\013?\\332\\215e?J\\364\\374>\\367-@?y\\373 ?F\\217\\253=\\334\\337d=\\026\\340G?t\\033\\256>\\251\\013b?\\261?\\333>Db\\367>\\227\\220b?N\\364\\313>&\\0307>Gfl?\\361\\023\\234=\\210\\243\\006?\\\\\\330\\252=\\277\\216,?\\250pH?\\340<\\243=;<]>qvM?T\\311y?\\376VA?\\233\\201|?i\\345\\024>(\\237 ?\\375&]?[\\236\\002?\\216]j?\\323\\326\\353=yf\\324>\\333\\316/;\\344\\257\\324=JA\\335>\\302\\177\\373>smV>,R??&[\\366=}\\256c?n\\213\\037?ST\\023?f\\341\\363>A\\367\\361>\\330\\207\\256<\\213 n?G\\027\\006>\\330\\212\\030?\\373\\207\\r?a\\216t?\\035P\\033?F\\274\\204<\\330\\n\\252=[#i?\\200\\353\\244>&\\303x?S\\016\\025?\\2151\\272>\\255\\272\\016?\\021e\\215<1\\231B>\\265;->\\2068 ?\\221.\\\\?#\\354\\014?\\323UR?\\366\\361\\021>\\3156\\032<\\036\\244\\021?\\033\\232<>T\\243\\310>C\\303|?\\351\\016.?\\376\\264\\323<\\006HP?\\353N^?<\\200\\014?\"\n",
       "      }\n",
       "    }\n",
       "  }\n",
       "}\n",
       "node {\n",
       "  name: \"Conv2D\"\n",
       "  op: \"Conv2D\"\n",
       "  input: \"x\"\n",
       "  input: \"Const\"\n",
       "  attr {\n",
       "    key: \"T\"\n",
       "    value {\n",
       "      type: DT_FLOAT\n",
       "    }\n",
       "  }\n",
       "  attr {\n",
       "    key: \"data_format\"\n",
       "    value {\n",
       "      s: \"NHWC\"\n",
       "    }\n",
       "  }\n",
       "  attr {\n",
       "    key: \"dilations\"\n",
       "    value {\n",
       "      list {\n",
       "        i: 1\n",
       "        i: 1\n",
       "        i: 1\n",
       "        i: 1\n",
       "      }\n",
       "    }\n",
       "  }\n",
       "  attr {\n",
       "    key: \"explicit_paddings\"\n",
       "    value {\n",
       "      list {\n",
       "      }\n",
       "    }\n",
       "  }\n",
       "  attr {\n",
       "    key: \"padding\"\n",
       "    value {\n",
       "      s: \"SAME\"\n",
       "    }\n",
       "  }\n",
       "  attr {\n",
       "    key: \"strides\"\n",
       "    value {\n",
       "      list {\n",
       "        i: 1\n",
       "        i: 1\n",
       "        i: 1\n",
       "        i: 1\n",
       "      }\n",
       "    }\n",
       "  }\n",
       "  attr {\n",
       "    key: \"use_cudnn_on_gpu\"\n",
       "    value {\n",
       "      b: true\n",
       "    }\n",
       "  }\n",
       "}\n",
       "node {\n",
       "  name: \"avg_pool/dilation_rate\"\n",
       "  op: \"Const\"\n",
       "  attr {\n",
       "    key: \"dtype\"\n",
       "    value {\n",
       "      type: DT_INT32\n",
       "    }\n",
       "  }\n",
       "  attr {\n",
       "    key: \"value\"\n",
       "    value {\n",
       "      tensor {\n",
       "        dtype: DT_INT32\n",
       "        tensor_shape {\n",
       "          dim {\n",
       "            size: 2\n",
       "          }\n",
       "        }\n",
       "        tensor_content: \"\\001\\000\\000\\000\\001\\000\\000\\000\"\n",
       "      }\n",
       "    }\n",
       "  }\n",
       "}\n",
       "node {\n",
       "  name: \"avg_pool\"\n",
       "  op: \"AvgPool\"\n",
       "  input: \"Conv2D\"\n",
       "  attr {\n",
       "    key: \"T\"\n",
       "    value {\n",
       "      type: DT_FLOAT\n",
       "    }\n",
       "  }\n",
       "  attr {\n",
       "    key: \"data_format\"\n",
       "    value {\n",
       "      s: \"NHWC\"\n",
       "    }\n",
       "  }\n",
       "  attr {\n",
       "    key: \"ksize\"\n",
       "    value {\n",
       "      list {\n",
       "        i: 1\n",
       "        i: 112\n",
       "        i: 112\n",
       "        i: 1\n",
       "      }\n",
       "    }\n",
       "  }\n",
       "  attr {\n",
       "    key: \"padding\"\n",
       "    value {\n",
       "      s: \"VALID\"\n",
       "    }\n",
       "  }\n",
       "  attr {\n",
       "    key: \"strides\"\n",
       "    value {\n",
       "      list {\n",
       "        i: 1\n",
       "        i: 1\n",
       "        i: 1\n",
       "        i: 1\n",
       "      }\n",
       "    }\n",
       "  }\n",
       "}\n",
       "node {\n",
       "  name: \"Identity\"\n",
       "  op: \"Identity\"\n",
       "  input: \"avg_pool\"\n",
       "  attr {\n",
       "    key: \"T\"\n",
       "    value {\n",
       "      type: DT_FLOAT\n",
       "    }\n",
       "  }\n",
       "}\n",
       "versions {\n",
       "  producer: 561\n",
       "}"
      ]
     },
     "execution_count": 26,
     "metadata": {},
     "output_type": "execute_result"
    }
   ],
   "source": [
    "conv_and_pool.get_concrete_function(x).graph.as_graph_def()"
   ]
  },
  {
   "cell_type": "code",
   "execution_count": 1,
   "id": "c34a1b96-1b1d-4348-bac5-6708318a63c2",
   "metadata": {},
   "outputs": [],
   "source": [
    "import tensorflow as tf"
   ]
  },
  {
   "cell_type": "code",
   "execution_count": 9,
   "id": "d4913ab7-ca5d-4844-bbbe-7aea3e147cf3",
   "metadata": {},
   "outputs": [],
   "source": [
    "i_tensor = tf.random.uniform((1,5,5,2048))"
   ]
  },
  {
   "cell_type": "code",
   "execution_count": 3,
   "id": "0e597d09-0dea-4977-a7e2-fd1f84daf15a",
   "metadata": {},
   "outputs": [],
   "source": [
    "fil = tf.random.uniform((16,13,18,112))"
   ]
  },
  {
   "cell_type": "code",
   "execution_count": 4,
   "id": "c251ea41-07e2-4a29-a87c-cb435f9ecbad",
   "metadata": {},
   "outputs": [],
   "source": [
    "bias = tf.random.uniform((112,))"
   ]
  },
  {
   "cell_type": "code",
   "execution_count": null,
   "id": "ab27cbc2-1948-4a77-aff8-26a565c12ee0",
   "metadata": {},
   "outputs": [],
   "source": []
  },
  {
   "cell_type": "code",
   "execution_count": 11,
   "id": "2cc40c89-6f7c-4bf1-a6f4-b3a56aa8f0a4",
   "metadata": {},
   "outputs": [],
   "source": [
    "model = tf.nn.avg_pool(\n",
    "    i_tensor,\n",
    "    [8,8],\n",
    "    strides = [2,2],\n",
    "    padding = \"VALID\",\n",
    "    data_format='NHWC',\n",
    "    name=None\n",
    ")"
   ]
  },
  {
   "cell_type": "code",
   "execution_count": 12,
   "id": "188aaf6a-d2b2-4d91-b9a8-0c71ae792363",
   "metadata": {},
   "outputs": [
    {
     "data": {
      "text/plain": [
       "TensorShape([1, 0, 0, 2048])"
      ]
     },
     "execution_count": 12,
     "metadata": {},
     "output_type": "execute_result"
    }
   ],
   "source": [
    "model.shape"
   ]
  },
  {
   "cell_type": "code",
   "execution_count": 4,
   "id": "a3a678d4-f913-4f88-8977-5772b7546395",
   "metadata": {},
   "outputs": [],
   "source": [
    "# Resize\n",
    "@tf.function\n",
    "def resize(x):\n",
    "    y = tf.image.resize(x,[3,5])\n",
    "    return y\n",
    "\n",
    "x = tf.constant(np.random.rand(1,5,5,3),dtype = tf.float32)"
   ]
  },
  {
   "cell_type": "code",
   "execution_count": 5,
   "id": "7e380282-11ae-4cc4-9199-7e08bf17d64f",
   "metadata": {},
   "outputs": [
    {
     "data": {
      "text/plain": [
       "'/Users/bob/Desktop/tf_resize.pb'"
      ]
     },
     "execution_count": 5,
     "metadata": {},
     "output_type": "execute_result"
    }
   ],
   "source": [
    "tf.io.write_graph(resize.get_concrete_function(x).graph.as_graph_def(),\"/Users/bob/Desktop\",\"tf_resize.pb\",as_text=False)"
   ]
  },
  {
   "cell_type": "code",
   "execution_count": 8,
   "id": "242a8188-aa36-4db3-bab4-9252ddd88936",
   "metadata": {},
   "outputs": [],
   "source": [
    "y = resize(x)"
   ]
  },
  {
   "cell_type": "code",
   "execution_count": 7,
   "id": "92d6da1d-b8d6-4dd6-916f-708e6c2e752a",
   "metadata": {},
   "outputs": [
    {
     "data": {
      "text/plain": [
       "<tf.Tensor: shape=(1, 5, 5, 3), dtype=float32, numpy=\n",
       "array([[[[0.92904377, 0.3808522 , 0.13699697],\n",
       "         [0.40533274, 0.40954566, 0.28831935],\n",
       "         [0.33520144, 0.961307  , 0.26638126],\n",
       "         [0.726246  , 0.01822518, 0.5541069 ],\n",
       "         [0.539212  , 0.5030131 , 0.38109457]],\n",
       "\n",
       "        [[0.4344221 , 0.05603006, 0.8752341 ],\n",
       "         [0.4112504 , 0.20867217, 0.5486552 ],\n",
       "         [0.21085204, 0.43901724, 0.9860605 ],\n",
       "         [0.5162153 , 0.6205362 , 0.20131832],\n",
       "         [0.49768257, 0.18302159, 0.9690177 ]],\n",
       "\n",
       "        [[0.18978365, 0.49559748, 0.6386571 ],\n",
       "         [0.18716387, 0.7288908 , 0.8289643 ],\n",
       "         [0.41162875, 0.9929256 , 0.31303656],\n",
       "         [0.18135396, 0.05735079, 0.7370532 ],\n",
       "         [0.72366726, 0.61807024, 0.7385497 ]],\n",
       "\n",
       "        [[0.14878872, 0.07741605, 0.88859725],\n",
       "         [0.73981607, 0.48046577, 0.5659911 ],\n",
       "         [0.4527656 , 0.55138016, 0.4876536 ],\n",
       "         [0.41873315, 0.4416543 , 0.43606618],\n",
       "         [0.21382402, 0.00352675, 0.11773629]],\n",
       "\n",
       "        [[0.39009383, 0.63904583, 0.9063058 ],\n",
       "         [0.6100008 , 0.17944883, 0.7854688 ],\n",
       "         [0.01484289, 0.13998172, 0.64101493],\n",
       "         [0.9337047 , 0.22984257, 0.45622173],\n",
       "         [0.34076583, 0.77953863, 0.24536362]]]], dtype=float32)>"
      ]
     },
     "execution_count": 7,
     "metadata": {},
     "output_type": "execute_result"
    }
   ],
   "source": [
    "x"
   ]
  },
  {
   "cell_type": "code",
   "execution_count": 9,
   "id": "605484b2-b27c-4d54-801e-bed4a875e982",
   "metadata": {},
   "outputs": [
    {
     "data": {
      "text/plain": [
       "<tf.Tensor: shape=(1, 3, 5, 3), dtype=float32, numpy=\n",
       "array([[[[0.7641699 , 0.27257815, 0.383076  ],\n",
       "         [0.4073053 , 0.34258783, 0.37509796],\n",
       "         [0.29375166, 0.7872104 , 0.50627434],\n",
       "         [0.65623575, 0.21899551, 0.4365107 ],\n",
       "         [0.52536887, 0.39634925, 0.5770689 ]],\n",
       "\n",
       "        [[0.18978365, 0.49559748, 0.6386571 ],\n",
       "         [0.18716387, 0.7288908 , 0.8289643 ],\n",
       "         [0.41162875, 0.9929256 , 0.31303656],\n",
       "         [0.18135396, 0.05735079, 0.7370532 ],\n",
       "         [0.72366726, 0.61807024, 0.7385497 ]],\n",
       "\n",
       "        [[0.30965877, 0.4518358 , 0.90040296],\n",
       "         [0.65327257, 0.27978787, 0.71230954],\n",
       "         [0.1608172 , 0.2771146 , 0.5898945 ],\n",
       "         [0.7620474 , 0.3004465 , 0.4495032 ],\n",
       "         [0.29845187, 0.5208679 , 0.20282117]]]], dtype=float32)>"
      ]
     },
     "execution_count": 9,
     "metadata": {},
     "output_type": "execute_result"
    }
   ],
   "source": [
    "y"
   ]
  },
  {
   "cell_type": "code",
   "execution_count": null,
   "id": "69dea363-c921-4b5e-9c75-bf31d8ed1a12",
   "metadata": {},
   "outputs": [],
   "source": []
  }
 ],
 "metadata": {
  "kernelspec": {
   "display_name": "Python 3 (ipykernel)",
   "language": "python",
   "name": "python3"
  },
  "language_info": {
   "codemirror_mode": {
    "name": "ipython",
    "version": 3
   },
   "file_extension": ".py",
   "mimetype": "text/x-python",
   "name": "python",
   "nbconvert_exporter": "python",
   "pygments_lexer": "ipython3",
   "version": "3.8.12"
  }
 },
 "nbformat": 4,
 "nbformat_minor": 5
}
