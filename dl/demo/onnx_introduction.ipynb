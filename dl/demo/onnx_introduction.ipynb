{
 "cells": [
  {
   "cell_type": "markdown",
   "id": "33d25d9e-c7ae-4a0c-928c-e50cafae9d29",
   "metadata": {},
   "source": [
    "### ONNX-Open Neural Network Exchange"
   ]
  },
  {
   "cell_type": "code",
   "execution_count": 2,
   "id": "552728ea-fdf6-4892-b5d7-4ca29f6e5c78",
   "metadata": {},
   "outputs": [],
   "source": [
    "from torch import nn\n",
    "import torch"
   ]
  },
  {
   "cell_type": "markdown",
   "id": "06710ac7-0ba5-4bd3-9c7f-68ba166a4334",
   "metadata": {},
   "source": [
    "### Define a demo Model with Pytorch"
   ]
  },
  {
   "cell_type": "code",
   "execution_count": 3,
   "id": "6cf4cef0-db7c-4f12-b6b1-4edc0faf2ac6",
   "metadata": {},
   "outputs": [],
   "source": [
    "class DemoModel(nn.Module):\n",
    "    def __init__(self):\n",
    "        super(DemoModel, self).__init__()\n",
    "        self.features1 = nn.Sequential(\n",
    "            nn.Conv2d(1, 3, 3, 1, 1),\n",
    "            nn.MaxPool2d(2),\n",
    "            nn.ReLU(),\n",
    "        )\n",
    "        self.features2 = nn.Sequential(\n",
    "            nn.Conv2d(1, 3, 3, 1, 1),\n",
    "            nn.MaxPool2d(2),\n",
    "            nn.ReLU(),\n",
    "        )\n",
    "        self.features3 = nn.Sequential(\n",
    "            nn.Linear(10, 5),\n",
    "            nn.ReLU(),\n",
    "        )\n",
    "\n",
    "        self.classifier = nn.Linear(128*128*3 + 32*32*3 + 5, 4)\n",
    "        \n",
    "    def forward(self, x1, x2, x3):\n",
    "        x1 = self.features1(x1)\n",
    "        x2 = self.features2(x2)\n",
    "        x3 = self.features3(x3)\n",
    "\n",
    "        x1 = x1.view(x1.data.size(0), -1)\n",
    "        x2 = x2.view(x2.data.size(0), -1)\n",
    "        x3 = x3.view(x3.data.size(0), -1)\n",
    "        \n",
    "        x = torch.cat((x1, x2, x3), dim=1)\n",
    "        x = self.classifier(x)\n",
    "        return x"
   ]
  },
  {
   "cell_type": "markdown",
   "id": "3dc2f430-00a4-4277-a861-c2fd50a81ffa",
   "metadata": {},
   "source": [
    "### Construct the Inputs"
   ]
  },
  {
   "cell_type": "code",
   "execution_count": 4,
   "id": "f4c72913-d328-492d-9aeb-057827f30c43",
   "metadata": {},
   "outputs": [],
   "source": [
    "x1 = torch.randn(1,1,256,256)\n",
    "x2 = torch.randn(1,1,64,64)\n",
    "x3 = torch.randn(1,10)"
   ]
  },
  {
   "cell_type": "code",
   "execution_count": 5,
   "id": "92292986-f971-47b2-82bc-f16f1ef86997",
   "metadata": {},
   "outputs": [],
   "source": [
    "model = DemoModel()\n",
    "output = model(x1,x2,x3)"
   ]
  },
  {
   "cell_type": "markdown",
   "id": "ac005a4c-a5da-4b73-962c-58f543873e75",
   "metadata": {},
   "source": [
    "### Torch Export ONNX Model"
   ]
  },
  {
   "cell_type": "code",
   "execution_count": 6,
   "id": "bfe8aebf-dce6-49ea-8306-887c647bf861",
   "metadata": {},
   "outputs": [
    {
     "name": "stdout",
     "output_type": "stream",
     "text": [
      "graph(%x1 : Float(1, 1, 256, 256),\n",
      "      %x2 : Float(1, 1, 64, 64),\n",
      "      %x3 : Float(1, 10),\n",
      "      %features1.0.weight : Float(3, 1, 3, 3),\n",
      "      %features1.0.bias : Float(3),\n",
      "      %features2.0.weight : Float(3, 1, 3, 3),\n",
      "      %features2.0.bias : Float(3),\n",
      "      %features3.0.weight : Float(5, 10),\n",
      "      %features3.0.bias : Float(5),\n",
      "      %classifier.weight : Float(4, 52229),\n",
      "      %classifier.bias : Float(4)):\n",
      "  %11 : Float(1, 3, 256, 256) = onnx::Conv[dilations=[1, 1], group=1, kernel_shape=[3, 3], pads=[1, 1, 1, 1], strides=[1, 1]](%x1, %features1.0.weight, %features1.0.bias) # /opt/anaconda3/envs/tf2/lib/python3.8/site-packages/torch/nn/modules/conv.py:341:0\n",
      "  %12 : Float(1, 3, 128, 128) = onnx::MaxPool[kernel_shape=[2, 2], pads=[0, 0, 0, 0], strides=[2, 2]](%11) # /opt/anaconda3/envs/tf2/lib/python3.8/site-packages/torch/nn/functional.py:487:0\n",
      "  %13 : Float(1, 3, 128, 128) = onnx::Relu(%12) # /opt/anaconda3/envs/tf2/lib/python3.8/site-packages/torch/nn/functional.py:914:0\n",
      "  %14 : Float(1, 3, 64, 64) = onnx::Conv[dilations=[1, 1], group=1, kernel_shape=[3, 3], pads=[1, 1, 1, 1], strides=[1, 1]](%x2, %features2.0.weight, %features2.0.bias) # /opt/anaconda3/envs/tf2/lib/python3.8/site-packages/torch/nn/modules/conv.py:341:0\n",
      "  %15 : Float(1, 3, 32, 32) = onnx::MaxPool[kernel_shape=[2, 2], pads=[0, 0, 0, 0], strides=[2, 2]](%14) # /opt/anaconda3/envs/tf2/lib/python3.8/site-packages/torch/nn/functional.py:487:0\n",
      "  %16 : Float(1, 3, 32, 32) = onnx::Relu(%15) # /opt/anaconda3/envs/tf2/lib/python3.8/site-packages/torch/nn/functional.py:914:0\n",
      "  %17 : Float(1, 5) = onnx::Gemm[alpha=1, beta=1, transB=1](%x3, %features3.0.weight, %features3.0.bias) # /opt/anaconda3/envs/tf2/lib/python3.8/site-packages/torch/nn/functional.py:1370:0\n",
      "  %18 : Float(1, 5) = onnx::Relu(%17) # /opt/anaconda3/envs/tf2/lib/python3.8/site-packages/torch/nn/functional.py:914:0\n",
      "  %19 : Float(1, 49152) = onnx::Flatten[axis=1](%13) # <ipython-input-3-e52051cc38aa>:26:0\n",
      "  %20 : Float(1, 3072) = onnx::Flatten[axis=1](%16) # <ipython-input-3-e52051cc38aa>:27:0\n",
      "  %21 : Float(1, 5) = onnx::Flatten[axis=1](%18) # <ipython-input-3-e52051cc38aa>:28:0\n",
      "  %22 : Float(1, 52229) = onnx::Concat[axis=1](%19, %20, %21) # <ipython-input-3-e52051cc38aa>:30:0\n",
      "  %output : Float(1, 4) = onnx::Gemm[alpha=1, beta=1, transB=1](%22, %classifier.weight, %classifier.bias) # /opt/anaconda3/envs/tf2/lib/python3.8/site-packages/torch/nn/functional.py:1370:0\n",
      "  return (%output)\n",
      "\n"
     ]
    }
   ],
   "source": [
    "torch.onnx.export(model,\n",
    "                 (x1,x2,x3),\n",
    "                  \"demo.onnx\",\n",
    "                 export_params = True,\n",
    "                 input_names = [\"x1\",\"x2\",\"x3\"],\n",
    "                  output_names = [\"output\"],\n",
    "                  opset_version = 9,\n",
    "                  verbose = True\n",
    "                 )"
   ]
  },
  {
   "cell_type": "markdown",
   "id": "5af5bca7-bdd9-4ca2-b2c9-0ac2e8660b82",
   "metadata": {},
   "source": [
    "### onnx and rutime"
   ]
  },
  {
   "cell_type": "code",
   "execution_count": 7,
   "id": "0f28c44e-70f7-4244-ba26-9c3cbdd81d81",
   "metadata": {},
   "outputs": [],
   "source": [
    "import onnx\n",
    "import onnxruntime as rt"
   ]
  },
  {
   "cell_type": "code",
   "execution_count": 8,
   "id": "56476815-590b-41a8-9050-91473b210199",
   "metadata": {},
   "outputs": [],
   "source": [
    "onnx_model = onnx.load(\"./demo.onnx\")"
   ]
  },
  {
   "cell_type": "markdown",
   "id": "7615f192-f18d-4b05-8bdb-4af95cdb2efa",
   "metadata": {},
   "source": [
    "### GraphProto"
   ]
  },
  {
   "cell_type": "code",
   "execution_count": 9,
   "id": "864525c9-d86c-4e0f-a7e1-80bf09c01688",
   "metadata": {},
   "outputs": [],
   "source": [
    "graph = onnx_model.graph"
   ]
  },
  {
   "cell_type": "code",
   "execution_count": null,
   "id": "e5222513-1cc0-417f-8821-3b7db0c74752",
   "metadata": {},
   "outputs": [],
   "source": [
    "graph"
   ]
  },
  {
   "cell_type": "code",
   "execution_count": 10,
   "id": "f68e53e3-bfa3-4af9-a8ea-51108b90139a",
   "metadata": {},
   "outputs": [
    {
     "data": {
      "text/plain": [
       "dims: 4\n",
       "data_type: 1\n",
       "name: \"classifier.bias\"\n",
       "raw_data: \"@\\252\\306\\270\\320h\\2179\\231\\367a\\2736\\004h;\""
      ]
     },
     "execution_count": 10,
     "metadata": {},
     "output_type": "execute_result"
    }
   ],
   "source": [
    "graph.initializer[0]"
   ]
  },
  {
   "cell_type": "markdown",
   "id": "58270140-1e5e-47b3-8cf1-f81e227861a5",
   "metadata": {},
   "source": [
    "### Helper Function"
   ]
  },
  {
   "cell_type": "code",
   "execution_count": 11,
   "id": "53297c86-caf5-4065-bd11-e6f5142f357a",
   "metadata": {},
   "outputs": [],
   "source": [
    "from onnx import helper\n",
    "from onnx import AttributeProto, TensorProto, GraphProto"
   ]
  },
  {
   "cell_type": "code",
   "execution_count": 12,
   "id": "43dc1ba9-f29b-4a3f-a901-767475f995ce",
   "metadata": {},
   "outputs": [],
   "source": [
    "# 输入\n",
    "X = helper.make_tensor_value_info('X', TensorProto.FLOAT, [2,3,7,7])"
   ]
  },
  {
   "cell_type": "code",
   "execution_count": 13,
   "id": "e6cbe508-3f05-47f2-baac-6afe64c9c171",
   "metadata": {},
   "outputs": [],
   "source": [
    "# 卷积权重\n",
    "\n",
    "weight = helper.make_tensor_value_info('weight', TensorProto.FLOAT,[1,3,3,3])"
   ]
  },
  {
   "cell_type": "code",
   "execution_count": 14,
   "id": "380e9826-5c83-461f-ad9b-15416c8fe1f4",
   "metadata": {},
   "outputs": [],
   "source": [
    "# 卷积bias\n",
    "\n",
    "bias = helper.make_tensor_value_info('bias', TensorProto.FLOAT,[1])"
   ]
  },
  {
   "cell_type": "markdown",
   "id": "6af135c8-ad81-4330-9af3-0f73cd0a2466",
   "metadata": {},
   "source": [
    "### 构建一个简单模型"
   ]
  },
  {
   "cell_type": "code",
   "execution_count": 17,
   "id": "26789630-9322-4455-85ac-8ddafc94a491",
   "metadata": {},
   "outputs": [
    {
     "name": "stdout",
     "output_type": "stream",
     "text": [
      "The model is checked!\n"
     ]
    }
   ],
   "source": [
    "# ValueInfoProto\n",
    "X = helper.make_tensor_value_info('X', TensorProto.FLOAT, [3, 2])\n",
    "pads = helper.make_tensor_value_info('pads', TensorProto.FLOAT, [1, 4])\n",
    "\n",
    "value = helper.make_tensor_value_info('value', AttributeProto.FLOAT, [1])\n",
    "\n",
    "\n",
    "# ValueInfoProto\n",
    "Y = helper.make_tensor_value_info('Y', TensorProto.FLOAT, [3, 4])\n",
    "\n",
    "# NodeProto - This is based on Pad-11\n",
    "node_def = helper.make_node(\n",
    "    'Pad',                  # name\n",
    "    ['X', 'pads', 'value'], # inputs\n",
    "    ['Y'],                  # outputs\n",
    "    mode='constant',        # attributes\n",
    ")\n",
    "\n",
    "# GraphProto\n",
    "graph_proto = helper.make_graph(\n",
    "    [node_def],        # nodes\n",
    "    'test-model',      # name\n",
    "    [X, pads, value],  # inputs\n",
    "    [Y],               # outputs\n",
    ")\n",
    "\n",
    "# ModelProto\n",
    "model_proto = helper.make_model(graph_def, producer_name='onnx-example')\n",
    "\n",
    "\n",
    "onnx.checker.check_model(model_def)\n",
    "print('The model is checked!')"
   ]
  },
  {
   "cell_type": "code",
   "execution_count": 18,
   "id": "a28a6a62-3fb2-4f22-8dd3-baa026bdacc3",
   "metadata": {},
   "outputs": [],
   "source": [
    "onnx.save(model_proto,\"./construct_model_from_scratch.onnx\")"
   ]
  },
  {
   "cell_type": "markdown",
   "id": "28f28ed2-54f0-4e6c-bc5d-bd827c10cbdf",
   "metadata": {},
   "source": [
    "### Simplify model"
   ]
  },
  {
   "cell_type": "code",
   "execution_count": 25,
   "id": "8fe2e14e-e659-423b-9900-bdea2ebfdf73",
   "metadata": {},
   "outputs": [],
   "source": [
    "class CustomReshape(torch.nn.Module):\n",
    "    def __init__(self):\n",
    "        super(CustomReshape, self).__init__()\n",
    "        \n",
    "    def forward(self, x):\n",
    "        return x.view((x.shape[0], x.shape[1], x.shape[3], x.shape[2]))"
   ]
  },
  {
   "cell_type": "code",
   "execution_count": 27,
   "id": "9696ed40-47d3-43be-9ee6-dfe3ebc048e0",
   "metadata": {},
   "outputs": [],
   "source": [
    "custom_shape = CustomReshape()"
   ]
  },
  {
   "cell_type": "code",
   "execution_count": 30,
   "id": "a334d23a-f445-4533-86ad-2cecf0bd17af",
   "metadata": {},
   "outputs": [
    {
     "name": "stdout",
     "output_type": "stream",
     "text": [
      "graph(%x : Float(2, 3, 4, 5)):\n",
      "  %1 : Tensor = onnx::Shape(%x)\n",
      "  %2 : Tensor = onnx::Constant[value={0}]()\n",
      "  %3 : Long() = onnx::Gather[axis=0](%1, %2) # <ipython-input-25-811817e7beb6>:6:0\n",
      "  %4 : Tensor = onnx::Shape(%x)\n",
      "  %5 : Tensor = onnx::Constant[value={1}]()\n",
      "  %6 : Long() = onnx::Gather[axis=0](%4, %5) # <ipython-input-25-811817e7beb6>:6:0\n",
      "  %7 : Tensor = onnx::Shape(%x)\n",
      "  %8 : Tensor = onnx::Constant[value={3}]()\n",
      "  %9 : Long() = onnx::Gather[axis=0](%7, %8) # <ipython-input-25-811817e7beb6>:6:0\n",
      "  %10 : Tensor = onnx::Shape(%x)\n",
      "  %11 : Tensor = onnx::Constant[value={2}]()\n",
      "  %12 : Long() = onnx::Gather[axis=0](%10, %11) # <ipython-input-25-811817e7beb6>:6:0\n",
      "  %13 : Tensor = onnx::Unsqueeze[axes=[0]](%3)\n",
      "  %14 : Tensor = onnx::Unsqueeze[axes=[0]](%6)\n",
      "  %15 : Tensor = onnx::Unsqueeze[axes=[0]](%9)\n",
      "  %16 : Tensor = onnx::Unsqueeze[axes=[0]](%12)\n",
      "  %17 : Tensor = onnx::Concat[axis=0](%13, %14, %15, %16)\n",
      "  %output : Float(2, 3, 5, 4) = onnx::Reshape(%x, %17) # <ipython-input-25-811817e7beb6>:6:0\n",
      "  return (%output)\n",
      "\n"
     ]
    }
   ],
   "source": [
    "dummy_input = torch.randn(2,3,4,5)\n",
    "torch.onnx.export(custom_shape,\n",
    "                 (dummy_input),\n",
    "                  \"simplify_model.onnx\",\n",
    "                 export_params = True,\n",
    "                 input_names = [\"x\"],\n",
    "                  output_names = [\"output\"],\n",
    "                  opset_version = 9,\n",
    "                  verbose = True\n",
    "                 )"
   ]
  },
  {
   "cell_type": "code",
   "execution_count": null,
   "id": "87945359-0c2b-4351-a9b9-67f867f83426",
   "metadata": {},
   "outputs": [],
   "source": []
  }
 ],
 "metadata": {
  "kernelspec": {
   "display_name": "Python 3",
   "language": "python",
   "name": "python3"
  },
  "language_info": {
   "codemirror_mode": {
    "name": "ipython",
    "version": 3
   },
   "file_extension": ".py",
   "mimetype": "text/x-python",
   "name": "python",
   "nbconvert_exporter": "python",
   "pygments_lexer": "ipython3",
   "version": "3.8.5"
  }
 },
 "nbformat": 4,
 "nbformat_minor": 5
}
