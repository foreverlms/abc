{
 "cells": [
  {
   "cell_type": "code",
   "execution_count": 2,
   "id": "a65d76b3-e4fe-449d-b370-da26ce3bd58e",
   "metadata": {},
   "outputs": [],
   "source": [
    "import tensorflow as tf"
   ]
  },
  {
   "cell_type": "code",
   "execution_count": 54,
   "id": "96e42160",
   "metadata": {},
   "outputs": [],
   "source": [
    "tf.random.set_seed(5)"
   ]
  },
  {
   "cell_type": "code",
   "execution_count": 3,
   "id": "ed5efa61-3770-4642-b87c-f52dea2dfb0e",
   "metadata": {},
   "outputs": [],
   "source": [
    "x = tf.ones((2,2))"
   ]
  },
  {
   "cell_type": "code",
   "execution_count": 4,
   "id": "6481333c-664a-497e-95b8-6c31c66709c8",
   "metadata": {},
   "outputs": [],
   "source": [
    "with tf.GradientTape() as t:\n",
    "    t.watch(x)\n",
    "    y = tf.reduce_sum(x)\n",
    "    z = tf.multiply(y,y)"
   ]
  },
  {
   "cell_type": "code",
   "execution_count": 5,
   "id": "99b7bcb7-d872-410e-bda0-7cf67ea741f3",
   "metadata": {},
   "outputs": [],
   "source": [
    "dz_dy = t.gradient(z,y)"
   ]
  },
  {
   "cell_type": "code",
   "execution_count": 6,
   "id": "13c8de1b-5dab-4ed4-8d4a-e45dddcbadfd",
   "metadata": {},
   "outputs": [
    {
     "data": {
      "text/plain": [
       "<tf.Tensor: shape=(), dtype=float32, numpy=8.0>"
      ]
     },
     "execution_count": 6,
     "metadata": {},
     "output_type": "execute_result"
    }
   ],
   "source": [
    "dz_dy"
   ]
  },
  {
   "cell_type": "code",
   "execution_count": 7,
   "id": "6a5113c4-0dc7-4119-b6bc-afeb5a7ab063",
   "metadata": {},
   "outputs": [
    {
     "ename": "RuntimeError",
     "evalue": "A non-persistent GradientTape can only be used tocompute one set of gradients (or jacobians)",
     "output_type": "error",
     "traceback": [
      "\u001b[0;31m---------------------------------------------------------------------------\u001b[0m",
      "\u001b[0;31mRuntimeError\u001b[0m                              Traceback (most recent call last)",
      "\u001b[0;32m<ipython-input-7-fb9006a13414>\u001b[0m in \u001b[0;36m<module>\u001b[0;34m\u001b[0m\n\u001b[0;32m----> 1\u001b[0;31m \u001b[0mdz_dx\u001b[0m \u001b[0;34m=\u001b[0m \u001b[0mt\u001b[0m\u001b[0;34m.\u001b[0m\u001b[0mgradient\u001b[0m\u001b[0;34m(\u001b[0m\u001b[0mz\u001b[0m\u001b[0;34m,\u001b[0m\u001b[0mx\u001b[0m\u001b[0;34m)\u001b[0m\u001b[0;34m\u001b[0m\u001b[0;34m\u001b[0m\u001b[0m\n\u001b[0m",
      "\u001b[0;32m/opt/anaconda3/envs/tf2/lib/python3.8/site-packages/tensorflow/python/eager/backprop.py\u001b[0m in \u001b[0;36mgradient\u001b[0;34m(self, target, sources, output_gradients, unconnected_gradients)\u001b[0m\n\u001b[1;32m   1025\u001b[0m     \"\"\"\n\u001b[1;32m   1026\u001b[0m     \u001b[0;32mif\u001b[0m \u001b[0mself\u001b[0m\u001b[0;34m.\u001b[0m\u001b[0m_tape\u001b[0m \u001b[0;32mis\u001b[0m \u001b[0;32mNone\u001b[0m\u001b[0;34m:\u001b[0m\u001b[0;34m\u001b[0m\u001b[0;34m\u001b[0m\u001b[0m\n\u001b[0;32m-> 1027\u001b[0;31m       raise RuntimeError(\"A non-persistent GradientTape can only be used to\"\n\u001b[0m\u001b[1;32m   1028\u001b[0m                          \"compute one set of gradients (or jacobians)\")\n\u001b[1;32m   1029\u001b[0m     \u001b[0;32mif\u001b[0m \u001b[0mself\u001b[0m\u001b[0;34m.\u001b[0m\u001b[0m_recording\u001b[0m\u001b[0;34m:\u001b[0m\u001b[0;34m\u001b[0m\u001b[0;34m\u001b[0m\u001b[0m\n",
      "\u001b[0;31mRuntimeError\u001b[0m: A non-persistent GradientTape can only be used tocompute one set of gradients (or jacobians)"
     ]
    }
   ],
   "source": [
    "dz_dx = t.gradient(z,x)"
   ]
  },
  {
   "cell_type": "code",
   "execution_count": 8,
   "id": "4dbbab30-0354-4a53-9e08-439d9af9db15",
   "metadata": {},
   "outputs": [
    {
     "ename": "NameError",
     "evalue": "name 'dz_dx' is not defined",
     "output_type": "error",
     "traceback": [
      "\u001b[0;31m---------------------------------------------------------------------------\u001b[0m",
      "\u001b[0;31mNameError\u001b[0m                                 Traceback (most recent call last)",
      "\u001b[0;32m<ipython-input-8-93dedfca58d4>\u001b[0m in \u001b[0;36m<module>\u001b[0;34m\u001b[0m\n\u001b[0;32m----> 1\u001b[0;31m \u001b[0mdz_dx\u001b[0m\u001b[0;34m\u001b[0m\u001b[0;34m\u001b[0m\u001b[0m\n\u001b[0m",
      "\u001b[0;31mNameError\u001b[0m: name 'dz_dx' is not defined"
     ]
    }
   ],
   "source": [
    "dz_dx"
   ]
  },
  {
   "cell_type": "code",
   "execution_count": 7,
   "id": "e8eaa6a8-af26-4cd6-a566-199d9f6b1fe3",
   "metadata": {},
   "outputs": [
    {
     "data": {
      "text/plain": [
       "<tf.Tensor: shape=(), dtype=float32, numpy=4.0>"
      ]
     },
     "execution_count": 7,
     "metadata": {},
     "output_type": "execute_result"
    }
   ],
   "source": [
    "tf.reduce_sum(x)"
   ]
  },
  {
   "cell_type": "code",
   "execution_count": 68,
   "id": "d8ec3b0b-1f4a-474b-a0cf-0fe379f62000",
   "metadata": {},
   "outputs": [],
   "source": [
    "forward_x = tf.constant([[[1,2,3],\n",
    "                         [1,1,1]],\n",
    "                        [[1,1,1],\n",
    "                        [1,1,1]]], dtype = tf.float32)\n",
    "with tf.GradientTape() as tt:\n",
    "    tt.watch(forward_x)\n",
    "    a = tf.reduce_sum(forward_x, axis = [2,1])\n",
    "    b = tf.multiply(a,a)"
   ]
  },
  {
   "cell_type": "code",
   "execution_count": 9,
   "id": "f638b968-89a5-4900-9182-358e03ea4d2a",
   "metadata": {},
   "outputs": [
    {
     "ename": "NameError",
     "evalue": "name 'a' is not defined",
     "output_type": "error",
     "traceback": [
      "\u001b[0;31m---------------------------------------------------------------------------\u001b[0m",
      "\u001b[0;31mNameError\u001b[0m                                 Traceback (most recent call last)",
      "\u001b[0;32m<ipython-input-9-3f786850e387>\u001b[0m in \u001b[0;36m<module>\u001b[0;34m\u001b[0m\n\u001b[0;32m----> 1\u001b[0;31m \u001b[0ma\u001b[0m\u001b[0;34m\u001b[0m\u001b[0;34m\u001b[0m\u001b[0m\n\u001b[0m",
      "\u001b[0;31mNameError\u001b[0m: name 'a' is not defined"
     ]
    }
   ],
   "source": [
    "a"
   ]
  },
  {
   "cell_type": "code",
   "execution_count": 70,
   "id": "549fa68f-37eb-4ee0-8d9d-72bb422876dc",
   "metadata": {},
   "outputs": [
    {
     "data": {
      "text/plain": [
       "<tf.Tensor: shape=(2,), dtype=float32, numpy=array([81., 36.], dtype=float32)>"
      ]
     },
     "execution_count": 70,
     "metadata": {},
     "output_type": "execute_result"
    }
   ],
   "source": [
    "b"
   ]
  },
  {
   "cell_type": "code",
   "execution_count": 66,
   "id": "05cd2a9d-71f6-41c8-9243-552c83bb8f5d",
   "metadata": {},
   "outputs": [],
   "source": [
    "db_da = tt.gradient(b, a)"
   ]
  },
  {
   "cell_type": "code",
   "execution_count": 67,
   "id": "4eb9c717-e8fa-4c4c-b4ba-881dd0d504e2",
   "metadata": {},
   "outputs": [
    {
     "data": {
      "text/plain": [
       "<tf.Tensor: shape=(2,), dtype=float32, numpy=array([18., 12.], dtype=float32)>"
      ]
     },
     "execution_count": 67,
     "metadata": {},
     "output_type": "execute_result"
    }
   ],
   "source": [
    "db_da"
   ]
  },
  {
   "cell_type": "code",
   "execution_count": 71,
   "id": "c5ebd484-4ccb-4c63-8657-7233d740746e",
   "metadata": {},
   "outputs": [],
   "source": [
    "db_dx = tt.gradient(b,forward_x)"
   ]
  },
  {
   "cell_type": "code",
   "execution_count": 72,
   "id": "48632b15-f916-40b0-8993-958fbcb8a23b",
   "metadata": {},
   "outputs": [
    {
     "data": {
      "text/plain": [
       "<tf.Tensor: shape=(2, 2, 3), dtype=float32, numpy=\n",
       "array([[[18., 18., 18.],\n",
       "        [18., 18., 18.]],\n",
       "\n",
       "       [[12., 12., 12.],\n",
       "        [12., 12., 12.]]], dtype=float32)>"
      ]
     },
     "execution_count": 72,
     "metadata": {},
     "output_type": "execute_result"
    }
   ],
   "source": [
    "db_dx"
   ]
  },
  {
   "cell_type": "code",
   "execution_count": 42,
   "id": "7e0fdd49-6941-4532-b731-474af7998a71",
   "metadata": {},
   "outputs": [
    {
     "data": {
      "text/plain": [
       "[1, 1, 1, 1]"
      ]
     },
     "execution_count": 42,
     "metadata": {},
     "output_type": "execute_result"
    }
   ],
   "source": [
    "[1] * 4"
   ]
  },
  {
   "cell_type": "markdown",
   "id": "f071f779-c189-4fd1-9f0d-d1e1421ef359",
   "metadata": {},
   "source": [
    "### Broadcast"
   ]
  },
  {
   "cell_type": "code",
   "execution_count": 73,
   "id": "0ad19765-1c3e-4e67-be9d-e8892b236eba",
   "metadata": {},
   "outputs": [],
   "source": [
    "g = tf.constant([18,12], dtype=tf.float32)"
   ]
  },
  {
   "cell_type": "code",
   "execution_count": 74,
   "id": "80495676-ed0a-436d-a985-6773fe5f4011",
   "metadata": {},
   "outputs": [
    {
     "data": {
      "text/plain": [
       "<tf.Tensor: shape=(2,), dtype=float32, numpy=array([18., 12.], dtype=float32)>"
      ]
     },
     "execution_count": 74,
     "metadata": {},
     "output_type": "execute_result"
    }
   ],
   "source": [
    "g"
   ]
  },
  {
   "cell_type": "code",
   "execution_count": 75,
   "id": "33a0e6da-aa03-41dd-836c-45b5bf952892",
   "metadata": {},
   "outputs": [],
   "source": [
    "# tf.broadcast_to(g,forward_x.shape)\n",
    "g_p = tf.reshape(g,[2,1,1])"
   ]
  },
  {
   "cell_type": "code",
   "execution_count": 76,
   "id": "205eb49a-709a-46d7-a898-ba537febc34c",
   "metadata": {},
   "outputs": [
    {
     "data": {
      "text/plain": [
       "<tf.Tensor: shape=(2, 1, 1), dtype=float32, numpy=\n",
       "array([[[18.]],\n",
       "\n",
       "       [[12.]]], dtype=float32)>"
      ]
     },
     "execution_count": 76,
     "metadata": {},
     "output_type": "execute_result"
    }
   ],
   "source": [
    "g_p"
   ]
  },
  {
   "cell_type": "code",
   "execution_count": 77,
   "id": "112ab5e8-2152-4940-8fd8-e7b8279cda1c",
   "metadata": {},
   "outputs": [
    {
     "data": {
      "text/plain": [
       "<tf.Tensor: shape=(2, 2, 3), dtype=float32, numpy=\n",
       "array([[[18., 18., 18.],\n",
       "        [18., 18., 18.]],\n",
       "\n",
       "       [[12., 12., 12.],\n",
       "        [12., 12., 12.]]], dtype=float32)>"
      ]
     },
     "execution_count": 77,
     "metadata": {},
     "output_type": "execute_result"
    }
   ],
   "source": [
    "tf.tile(g_p, [1,2,3])"
   ]
  },
  {
   "cell_type": "code",
   "execution_count": 24,
   "id": "bd41ff8d-c569-40c4-9e75-bf0eff928a12",
   "metadata": {},
   "outputs": [],
   "source": [
    "reduce_test = tf.constant([[[1,3,1],[2,3,1]],\n",
    "                            [[1,1,1], [2,2,2]]],dtype=tf.float32)"
   ]
  },
  {
   "cell_type": "code",
   "execution_count": 25,
   "id": "124c2c9b-d035-4692-8d70-249e69af01ed",
   "metadata": {},
   "outputs": [
    {
     "data": {
      "text/plain": [
       "TensorShape([2, 2, 3])"
      ]
     },
     "execution_count": 25,
     "metadata": {},
     "output_type": "execute_result"
    }
   ],
   "source": [
    "reduce_test.shape"
   ]
  },
  {
   "cell_type": "code",
   "execution_count": 26,
   "id": "0ac81032-044b-400b-825b-8909f111ec58",
   "metadata": {},
   "outputs": [
    {
     "data": {
      "text/plain": [
       "<tf.Tensor: shape=(2, 2), dtype=float32, numpy=\n",
       "array([[5., 6.],\n",
       "       [3., 6.]], dtype=float32)>"
      ]
     },
     "execution_count": 26,
     "metadata": {},
     "output_type": "execute_result"
    }
   ],
   "source": [
    "tf.reduce_sum(reduce_test,-1)"
   ]
  },
  {
   "cell_type": "code",
   "execution_count": 35,
   "id": "a877707f-c30d-4f2e-aff2-98883de0fa46",
   "metadata": {},
   "outputs": [
    {
     "data": {
      "text/plain": [
       "<tf.Tensor: shape=(12,), dtype=float32, numpy=array([1., 3., 1., 2., 3., 1., 1., 1., 1., 2., 2., 2.], dtype=float32)>"
      ]
     },
     "execution_count": 35,
     "metadata": {},
     "output_type": "execute_result"
    }
   ],
   "source": [
    "tf.reshape(reduce_test,-1)"
   ]
  },
  {
   "cell_type": "code",
   "execution_count": 36,
   "id": "25b752ec-e634-4937-8c70-f27b73ed48b6",
   "metadata": {},
   "outputs": [],
   "source": [
    "xx = tf.constant([1,2,3], dtype=tf.float32)"
   ]
  },
  {
   "cell_type": "code",
   "execution_count": 38,
   "id": "91f0f458-a94c-4750-9c20-6dea76cc44f0",
   "metadata": {},
   "outputs": [
    {
     "data": {
      "text/plain": [
       "<tf.Tensor: shape=(3, 3), dtype=float32, numpy=\n",
       "array([[1., 2., 3.],\n",
       "       [1., 2., 3.],\n",
       "       [1., 2., 3.]], dtype=float32)>"
      ]
     },
     "execution_count": 38,
     "metadata": {},
     "output_type": "execute_result"
    }
   ],
   "source": [
    "tf.broadcast_to(xx, [3,3])"
   ]
  },
  {
   "cell_type": "code",
   "execution_count": 41,
   "id": "920204f7-ecd3-474f-8fae-5a0009a1b286",
   "metadata": {},
   "outputs": [],
   "source": [
    "tile_x = tf.reshape(xx,[1,3])"
   ]
  },
  {
   "cell_type": "code",
   "execution_count": 42,
   "id": "0b44e890-899b-42f4-9a14-8dd76b0b9f4a",
   "metadata": {},
   "outputs": [
    {
     "data": {
      "text/plain": [
       "<tf.Tensor: shape=(3, 3), dtype=float32, numpy=\n",
       "array([[1., 2., 3.],\n",
       "       [1., 2., 3.],\n",
       "       [1., 2., 3.]], dtype=float32)>"
      ]
     },
     "execution_count": 42,
     "metadata": {},
     "output_type": "execute_result"
    }
   ],
   "source": [
    "tf.tile(tile_x, [3,1])"
   ]
  },
  {
   "cell_type": "markdown",
   "id": "263837ea-7342-49d6-8055-4230e0f5f681",
   "metadata": {},
   "source": [
    "### SliceGradient"
   ]
  },
  {
   "cell_type": "code",
   "execution_count": 80,
   "id": "ff674018-13ee-4a27-84df-c18530ddd266",
   "metadata": {},
   "outputs": [],
   "source": [
    "slice_x = t = tf.constant([[[1, 1, 1], [2, 2, 2]],\n",
    "                 [[3, 3, 3], [4, 4, 4]],\n",
    "                 [[5, 5, 5], [6, 6, 6]]],dtype=tf.float32)"
   ]
  },
  {
   "cell_type": "code",
   "execution_count": 93,
   "id": "b59105ae-c23c-4b67-8e0b-2013bb049ae0",
   "metadata": {},
   "outputs": [],
   "source": [
    "with tf.GradientTape() as tt:\n",
    "    tt.watch(slice_x)\n",
    "    a = tf.slice(slice_x, [1, 0, 0], [1, 1, 3])\n",
    "    b = tf.multiply(a,a/2)"
   ]
  },
  {
   "cell_type": "code",
   "execution_count": 95,
   "id": "aba9cbe0-23d2-4937-b664-33de71734ffb",
   "metadata": {},
   "outputs": [],
   "source": [
    "db_da = tt.gradient(b,a)"
   ]
  },
  {
   "cell_type": "code",
   "execution_count": 96,
   "id": "965c24c4-face-4f7f-a45b-e2bf0a29d3f6",
   "metadata": {},
   "outputs": [
    {
     "data": {
      "text/plain": [
       "<tf.Tensor: shape=(1, 1, 3), dtype=float32, numpy=array([[[3., 3., 3.]]], dtype=float32)>"
      ]
     },
     "execution_count": 96,
     "metadata": {},
     "output_type": "execute_result"
    }
   ],
   "source": [
    "db_da"
   ]
  },
  {
   "cell_type": "code",
   "execution_count": 91,
   "id": "91c51a2f-bf92-471c-b01c-19e0faeffef6",
   "metadata": {},
   "outputs": [],
   "source": [
    "da_dx = tt.gradient(a,slice_x)"
   ]
  },
  {
   "cell_type": "code",
   "execution_count": 92,
   "id": "b1134c07-7bdc-4d3d-877f-2b233fc7fd17",
   "metadata": {},
   "outputs": [
    {
     "data": {
      "text/plain": [
       "<tf.Tensor: shape=(3, 2, 3), dtype=float32, numpy=\n",
       "array([[[0., 0., 0.],\n",
       "        [0., 0., 0.]],\n",
       "\n",
       "       [[1., 1., 1.],\n",
       "        [0., 0., 0.]],\n",
       "\n",
       "       [[0., 0., 0.],\n",
       "        [0., 0., 0.]]], dtype=float32)>"
      ]
     },
     "execution_count": 92,
     "metadata": {},
     "output_type": "execute_result"
    }
   ],
   "source": [
    "da_dx"
   ]
  },
  {
   "cell_type": "code",
   "execution_count": 86,
   "id": "0ceba332-9ae0-4786-8bd0-34df38ff05e1",
   "metadata": {},
   "outputs": [
    {
     "data": {
      "text/plain": [
       "<tf.Tensor: shape=(1, 1, 3), dtype=float32, numpy=array([[[3., 3., 3.]]], dtype=float32)>"
      ]
     },
     "execution_count": 86,
     "metadata": {},
     "output_type": "execute_result"
    }
   ],
   "source": [
    "a"
   ]
  },
  {
   "cell_type": "markdown",
   "id": "10ffe306-a89e-4c7f-90d5-a3c1ca6aa858",
   "metadata": {},
   "source": [
    "### ReluGradient"
   ]
  },
  {
   "cell_type": "code",
   "execution_count": 32,
   "id": "aa4b5322-efa8-427a-9ac9-95d2a9c93881",
   "metadata": {},
   "outputs": [],
   "source": [
    "relu_x = tf.constant([-2,0,3],dtype=tf.float32)"
   ]
  },
  {
   "cell_type": "code",
   "execution_count": 33,
   "id": "b4a67133-f55d-4b55-bb6c-4039c055041c",
   "metadata": {},
   "outputs": [],
   "source": [
    "with tf.GradientTape() as tape:\n",
    "    tape.watch(relu_x)\n",
    "    a = tf.nn.relu(relu_x)"
   ]
  },
  {
   "cell_type": "code",
   "execution_count": 34,
   "id": "18118688",
   "metadata": {},
   "outputs": [
    {
     "data": {
      "text/plain": [
       "<tf.Tensor: shape=(3,), dtype=float32, numpy=array([0., 0., 3.], dtype=float32)>"
      ]
     },
     "execution_count": 34,
     "metadata": {},
     "output_type": "execute_result"
    }
   ],
   "source": [
    "a"
   ]
  },
  {
   "cell_type": "code",
   "execution_count": 35,
   "id": "e8864dac",
   "metadata": {},
   "outputs": [],
   "source": [
    "da_dx = tape.gradient(a,relu_x)"
   ]
  },
  {
   "cell_type": "code",
   "execution_count": 36,
   "id": "a8246da7",
   "metadata": {},
   "outputs": [
    {
     "name": "stdout",
     "output_type": "stream",
     "text": [
      "tf.Tensor([0. 0. 1.], shape=(3,), dtype=float32)\n"
     ]
    }
   ],
   "source": [
    "print(da_dx)"
   ]
  },
  {
   "cell_type": "code",
   "execution_count": null,
   "id": "5d0e52c4",
   "metadata": {},
   "outputs": [],
   "source": [
    "relu_m = tf.random.normal([])"
   ]
  },
  {
   "cell_type": "markdown",
   "id": "cfdbd575",
   "metadata": {},
   "source": [
    "### ConcatGradient"
   ]
  },
  {
   "cell_type": "code",
   "execution_count": 45,
   "id": "5b3585bf",
   "metadata": {},
   "outputs": [],
   "source": [
    "t1 = tf.constant([[1, 2, 3], [4, 5, 6]],dtype=tf.float32)\n",
    "t2 = tf.constant([[7, 8, 9], [10, 11, 12]],dtype=tf.float32)\n"
   ]
  },
  {
   "cell_type": "code",
   "execution_count": 46,
   "id": "e4d3e4ef",
   "metadata": {},
   "outputs": [],
   "source": [
    "with tf.GradientTape() as concat:\n",
    "    concat.watch(t2)\n",
    "    r = tf.concat([t1,t2], 0)"
   ]
  },
  {
   "cell_type": "code",
   "execution_count": 41,
   "id": "cd0f43e2",
   "metadata": {},
   "outputs": [],
   "source": [
    "dr_dt1 = concat.gradient(r,t1)"
   ]
  },
  {
   "cell_type": "code",
   "execution_count": 42,
   "id": "e78a38e7",
   "metadata": {},
   "outputs": [
    {
     "data": {
      "text/plain": [
       "<tf.Tensor: shape=(2, 3), dtype=float32, numpy=\n",
       "array([[1., 1., 1.],\n",
       "       [1., 1., 1.]], dtype=float32)>"
      ]
     },
     "execution_count": 42,
     "metadata": {},
     "output_type": "execute_result"
    }
   ],
   "source": [
    "dr_dt1"
   ]
  },
  {
   "cell_type": "code",
   "execution_count": 47,
   "id": "48492e8f",
   "metadata": {},
   "outputs": [],
   "source": [
    "dr_dt2 = concat.gradient(r,t2)"
   ]
  },
  {
   "cell_type": "code",
   "execution_count": 48,
   "id": "7acdc78b",
   "metadata": {},
   "outputs": [
    {
     "data": {
      "text/plain": [
       "<tf.Tensor: shape=(2, 3), dtype=float32, numpy=\n",
       "array([[1., 1., 1.],\n",
       "       [1., 1., 1.]], dtype=float32)>"
      ]
     },
     "execution_count": 48,
     "metadata": {},
     "output_type": "execute_result"
    }
   ],
   "source": [
    "dr_dt2"
   ]
  },
  {
   "cell_type": "markdown",
   "id": "bb831e0a",
   "metadata": {},
   "source": [
    "### SigmoidCrossEntrophy"
   ]
  },
  {
   "cell_type": "code",
   "execution_count": 63,
   "id": "331df1f7",
   "metadata": {},
   "outputs": [],
   "source": [
    "logits = tf.constant([1., -1., 0., 1., -1., 0., 0.],dtype=tf.float32)\n",
    "labels = tf.constant([0, 0, 0, 1, 1, 1, 0.5],dtype=tf.float32)"
   ]
  },
  {
   "cell_type": "code",
   "execution_count": 64,
   "id": "84010b34",
   "metadata": {},
   "outputs": [],
   "source": [
    "inpus = tf.constant([1,2,3,4,5,6,7],dtype=tf.float32)"
   ]
  },
  {
   "cell_type": "code",
   "execution_count": 65,
   "id": "c13cbebe",
   "metadata": {},
   "outputs": [],
   "source": [
    "with tf.GradientTape() as sigmoid_cross:\n",
    "    sigmoid_cross.watch(logits)\n",
    "    s_c = tf.nn.sigmoid_cross_entropy_with_logits(labels=labels,logits=logits)"
   ]
  },
  {
   "cell_type": "code",
   "execution_count": 66,
   "id": "d577b595",
   "metadata": {},
   "outputs": [
    {
     "data": {
      "text/plain": [
       "<tf.Tensor: shape=(7,), dtype=float32, numpy=\n",
       "array([ 0.7310586 ,  0.26894143,  0.5       , -0.26894143, -0.7310586 ,\n",
       "       -0.5       ,  0.        ], dtype=float32)>"
      ]
     },
     "execution_count": 66,
     "metadata": {},
     "output_type": "execute_result"
    }
   ],
   "source": [
    "sigmoid_cross.gradient(s_c,logits)"
   ]
  },
  {
   "cell_type": "code",
   "execution_count": 53,
   "id": "ed055de7",
   "metadata": {},
   "outputs": [
    {
     "data": {
      "text/plain": [
       "<tf.Tensor: shape=(7,), dtype=float32, numpy=\n",
       "array([1.3132617, 0.3132617, 0.6931472, 0.3132617, 1.3132617, 0.6931472,\n",
       "       0.6931472], dtype=float32)>"
      ]
     },
     "execution_count": 53,
     "metadata": {},
     "output_type": "execute_result"
    }
   ],
   "source": [
    "s_c"
   ]
  },
  {
   "cell_type": "code",
   "execution_count": null,
   "id": "b7f5a96e",
   "metadata": {},
   "outputs": [],
   "source": []
  }
 ],
 "metadata": {
  "interpreter": {
   "hash": "eef56217fe1eadc8d6866cca822d2a14b78b65df0b150fbaea8081175b2440d4"
  },
  "kernelspec": {
   "display_name": "Python 3",
   "language": "python",
   "name": "python3"
  },
  "language_info": {
   "codemirror_mode": {
    "name": "ipython",
    "version": 3
   },
   "file_extension": ".py",
   "mimetype": "text/x-python",
   "name": "python",
   "nbconvert_exporter": "python",
   "pygments_lexer": "ipython3",
   "version": "3.8.5"
  }
 },
 "nbformat": 4,
 "nbformat_minor": 5
}
