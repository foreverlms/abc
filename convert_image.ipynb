{
 "cells": [
  {
   "cell_type": "code",
   "execution_count": 1,
   "id": "79c234e9-d629-4f52-aaa0-6111c6611018",
   "metadata": {},
   "outputs": [],
   "source": [
    "import rawpy"
   ]
  },
  {
   "cell_type": "code",
   "execution_count": 2,
   "id": "6cf2789a-0d17-4e0f-8344-b7470d1d3cd9",
   "metadata": {},
   "outputs": [],
   "source": [
    "import imageio"
   ]
  },
  {
   "cell_type": "code",
   "execution_count": 3,
   "id": "bf4d6a02-56ba-4319-8e21-6a00233db53d",
   "metadata": {},
   "outputs": [],
   "source": [
    "import os"
   ]
  },
  {
   "cell_type": "code",
   "execution_count": 10,
   "id": "a55a9d9e-28a7-4e1a-82cb-d89163e15ce8",
   "metadata": {},
   "outputs": [],
   "source": [
    "image_path = \"/Users/bob/Downloads/新建文件夹\""
   ]
  },
  {
   "cell_type": "code",
   "execution_count": 27,
   "id": "62e62076-039b-4543-98c9-40e24006db47",
   "metadata": {},
   "outputs": [],
   "source": [
    "file_lists =[f for f in os.listdir(image_path) if os.path.isfile(os.path.join(image_path,f)) and os.path.splitext(f)[1] == \".ARW\"]"
   ]
  },
  {
   "cell_type": "code",
   "execution_count": 28,
   "id": "78699338-5456-4d50-b627-ff8913084f37",
   "metadata": {},
   "outputs": [
    {
     "data": {
      "text/plain": [
       "['_DSC4948.ARW',\n",
       " '_DSC4875.ARW',\n",
       " '_DSC4862.ARW',\n",
       " '_DSC4863.ARW',\n",
       " '_DSC4864.ARW',\n",
       " '_DSC4885.ARW',\n",
       " '_DSC4932.ARW',\n",
       " '_DSC4931.ARW',\n",
       " '_DSC4930.ARW',\n",
       " '_DSC4947.ARW']"
      ]
     },
     "execution_count": 28,
     "metadata": {},
     "output_type": "execute_result"
    }
   ],
   "source": [
    "file_lists"
   ]
  },
  {
   "cell_type": "code",
   "execution_count": 29,
   "id": "5614e563-e1f2-4a01-8adf-f9fd638c4973",
   "metadata": {},
   "outputs": [],
   "source": [
    "index = 0\n",
    "for file in file_lists:\n",
    "    single_path = os.path.join(image_path, file)\n",
    "    with rawpy.imread(single_path) as raw:\n",
    "        rgb = raw.postprocess()\n",
    "    \n",
    "    imageio.imsave('zz_{}.jpeg'.format(index), rgb)\n",
    "    index += 1"
   ]
  },
  {
   "cell_type": "code",
   "execution_count": null,
   "id": "81868a87-293d-45c7-a97b-c16ef1ec7124",
   "metadata": {},
   "outputs": [],
   "source": []
  }
 ],
 "metadata": {
  "kernelspec": {
   "display_name": "Python 3 (ipykernel)",
   "language": "python",
   "name": "python3"
  },
  "language_info": {
   "codemirror_mode": {
    "name": "ipython",
    "version": 3
   },
   "file_extension": ".py",
   "mimetype": "text/x-python",
   "name": "python",
   "nbconvert_exporter": "python",
   "pygments_lexer": "ipython3",
   "version": "3.8.12"
  }
 },
 "nbformat": 4,
 "nbformat_minor": 5
}
